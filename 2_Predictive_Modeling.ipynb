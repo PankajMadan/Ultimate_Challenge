{
 "cells": [
  {
   "cell_type": "code",
   "execution_count": 1,
   "id": "adult-richards",
   "metadata": {},
   "outputs": [],
   "source": [
    "# Importing Required Python Packages\n",
    "import numpy as np\n",
    "import pandas as pd\n",
    "import matplotlib.pyplot as plt\n",
    "import seaborn as sns\n",
    "import warnings\n",
    "warnings.filterwarnings('ignore')\n",
    "pd.set_option('display.max_columns',None)"
   ]
  },
  {
   "cell_type": "code",
   "execution_count": 2,
   "id": "relative-invention",
   "metadata": {},
   "outputs": [],
   "source": [
    "# Loading Training set\n",
    "X_train = pd.read_csv('X_train.csv')\n",
    "y_train = pd.read_csv('y_train.csv')"
   ]
  },
  {
   "cell_type": "code",
   "execution_count": 3,
   "id": "lesbian-tokyo",
   "metadata": {},
   "outputs": [],
   "source": [
    "# Loading Test set\n",
    "X_test = pd.read_csv('X_test.csv')\n",
    "y_test = pd.read_csv('y_test.csv')"
   ]
  },
  {
   "cell_type": "markdown",
   "id": "liable-bread",
   "metadata": {},
   "source": [
    "### Since the dataset is highly imbalanced, the metric of choice is roc_auc score. So we would use tis metric to tune various ML models and select the best."
   ]
  },
  {
   "cell_type": "markdown",
   "id": "conscious-perception",
   "metadata": {},
   "source": [
    "## Baseline Model: Dummy Classifier with Default Parameters "
   ]
  },
  {
   "cell_type": "code",
   "execution_count": 4,
   "id": "capital-orientation",
   "metadata": {},
   "outputs": [],
   "source": [
    "# Importing Dummy classifier from Scikit Learn\n",
    "from sklearn.dummy import DummyClassifier"
   ]
  },
  {
   "cell_type": "code",
   "execution_count": 5,
   "id": "emotional-cancellation",
   "metadata": {},
   "outputs": [],
   "source": [
    "# Importing the Sklearn's roc_auc_score module\n",
    "from sklearn.metrics import roc_auc_score"
   ]
  },
  {
   "cell_type": "code",
   "execution_count": 6,
   "id": "incomplete-tooth",
   "metadata": {},
   "outputs": [],
   "source": [
    "# Instantiating the Dummy classifier object\n",
    "bm = DummyClassifier(random_state=42,strategy='most_frequent')"
   ]
  },
  {
   "cell_type": "code",
   "execution_count": 7,
   "id": "gentle-density",
   "metadata": {},
   "outputs": [
    {
     "data": {
      "text/plain": [
       "DummyClassifier(random_state=42, strategy='most_frequent')"
      ]
     },
     "execution_count": 7,
     "metadata": {},
     "output_type": "execute_result"
    }
   ],
   "source": [
    "# Fitting the  dummy classifier to Training set.\n",
    "bm.fit(X_train,y_train)"
   ]
  },
  {
   "cell_type": "code",
   "execution_count": 8,
   "id": "incorporated-employment",
   "metadata": {},
   "outputs": [
    {
     "name": "stdout",
     "output_type": "stream",
     "text": [
      "The training set accuracy is:  0.623925\n"
     ]
    }
   ],
   "source": [
    "# Accuracy for the Training set with baseline model\n",
    "print('The training set accuracy is: ',bm.score(X_train,y_train))"
   ]
  },
  {
   "cell_type": "code",
   "execution_count": 9,
   "id": "ceramic-lancaster",
   "metadata": {},
   "outputs": [],
   "source": [
    "# Predicting the probabilities of y=1 for the training set\n",
    "y_pred_train = bm.predict_proba(X_train)"
   ]
  },
  {
   "cell_type": "code",
   "execution_count": 10,
   "id": "numerical-story",
   "metadata": {},
   "outputs": [
    {
     "name": "stdout",
     "output_type": "stream",
     "text": [
      "The roc_auc score for the Training set is: 0.5\n"
     ]
    }
   ],
   "source": [
    "print('The roc_auc score for the Training set is:',roc_auc_score(y_train,y_pred_train[:,1]))"
   ]
  },
  {
   "cell_type": "code",
   "execution_count": 11,
   "id": "occupational-crisis",
   "metadata": {},
   "outputs": [],
   "source": [
    "# Predicting the probabilities of y=1 for the test set\n",
    "y_pred = bm.predict_proba(X_test)"
   ]
  },
  {
   "cell_type": "code",
   "execution_count": 12,
   "id": "reported-trail",
   "metadata": {},
   "outputs": [
    {
     "name": "stdout",
     "output_type": "stream",
     "text": [
      "The roc_auc score for the test set is: 0.5\n"
     ]
    }
   ],
   "source": [
    "print('The roc_auc score for the test set is:',roc_auc_score(y_test,y_pred[:,1]))"
   ]
  },
  {
   "cell_type": "markdown",
   "id": "opponent-automation",
   "metadata": {},
   "source": [
    "### Thus we observe that roc_auc score for the baseline model is .5, which is equal to that of random guessing."
   ]
  },
  {
   "cell_type": "markdown",
   "id": "impossible-width",
   "metadata": {},
   "source": [
    "## Model_1: Random Forest Classifier with Tuned Hyperparameters using Optuna."
   ]
  },
  {
   "cell_type": "code",
   "execution_count": 13,
   "id": "outer-negative",
   "metadata": {},
   "outputs": [],
   "source": [
    "# Importing  hyperparamater tuning optimizer optuna\n",
    "import optuna"
   ]
  },
  {
   "cell_type": "code",
   "execution_count": 14,
   "id": "headed-syndication",
   "metadata": {},
   "outputs": [],
   "source": [
    "# Importing required Libraries\n",
    "from sklearn.model_selection import StratifiedKFold\n",
    "from sklearn.model_selection import cross_val_score"
   ]
  },
  {
   "cell_type": "code",
   "execution_count": 15,
   "id": "dramatic-plaintiff",
   "metadata": {},
   "outputs": [],
   "source": [
    "# Instantiating the Stratified K fold object\n",
    "cv_strat = StratifiedKFold(5,random_state=42)"
   ]
  },
  {
   "cell_type": "code",
   "execution_count": 16,
   "id": "atmospheric-embassy",
   "metadata": {},
   "outputs": [],
   "source": [
    "# Defining the class weights\n",
    "cl_weight = ['balanced',{0:1.0,1:2.0},{0:1.0,1:3.0},{0:1.0,1:4.0},{0:1.0,1:5.0}]"
   ]
  },
  {
   "cell_type": "code",
   "execution_count": 17,
   "id": "protecting-netscape",
   "metadata": {},
   "outputs": [],
   "source": [
    "# Defining the appropriate objective function for the Random Forest classifier\n",
    "def objective_wrappper_rf(X_tr, y_tr, cls=None, cv_strat=None):\n",
    "    '''\n",
    "    Optimizes Random Forest parameters on the given training set X_tr,y_tr\n",
    "    using cv_strat cross-validation object\n",
    "    \n",
    "    '''\n",
    "    \n",
    "    def objective(trial):\n",
    "        params = {\n",
    "        'max_depth': trial.suggest_categorical('max_depth',list(range(2,50))+ [None]),\n",
    "        'n_estimators':trial.suggest_int('n_estimators',100,2000,10),\n",
    "        'class_weight':trial.suggest_categorical('class_weight',cl_weight),\n",
    "        'min_samples_leaf':trial.suggest_loguniform('min_samples_leaf',.00001,.1)\n",
    "          }\n",
    "        \n",
    "        cls.set_params(**params)#Initializing the model with the parameters \n",
    "    \n",
    "        return np.mean(cross_val_score(cls, X_tr, y_tr, cv=cv_strat, n_jobs=5, scoring='roc_auc'))  \n",
    "    return objective"
   ]
  },
  {
   "cell_type": "code",
   "execution_count": 18,
   "id": "diverse-option",
   "metadata": {},
   "outputs": [],
   "source": [
    "# Defining the evaluation function for study's best parameters\n",
    "def study_params(X_tr, y_tr, cls, obj_func, cv_strat, n_trials=30):\n",
    "    ''' Computes the best hyper parameters of the classsifier and returns \n",
    "    Optuna's study's best score & clasifier parameters'''\n",
    "    study = optuna.create_study(direction='maximize')\n",
    "    study.optimize(obj_func(X_tr, y_tr, cls, cv_strat), n_trials)\n",
    "    best_score = study.best_value\n",
    "    best_params = study.best_params\n",
    "    return (best_score,best_params)"
   ]
  },
  {
   "cell_type": "code",
   "execution_count": 19,
   "id": "brave-healing",
   "metadata": {},
   "outputs": [],
   "source": [
    "# Importing Random Forest Classifier from  Sklearn\n",
    "from sklearn.ensemble import RandomForestClassifier"
   ]
  },
  {
   "cell_type": "code",
   "execution_count": 20,
   "id": "rental-judgment",
   "metadata": {},
   "outputs": [],
   "source": [
    "# Instantiating the Random forest classifier\n",
    "rf_s = RandomForestClassifier(n_jobs=5, random_state=42)"
   ]
  },
  {
   "cell_type": "markdown",
   "id": "honey-wound",
   "metadata": {},
   "source": [
    "#### Computing the best hyperparameters for the Random Forest classifier using Training Set."
   ]
  },
  {
   "cell_type": "code",
   "execution_count": 22,
   "id": "excessive-reduction",
   "metadata": {},
   "outputs": [
    {
     "name": "stderr",
     "output_type": "stream",
     "text": [
      "\u001b[32m[I 2021-03-05 15:10:18,584]\u001b[0m A new study created in memory with name: no-name-8b771015-3b37-4a81-8b63-c0ab281d5085\u001b[0m\n",
      "\u001b[32m[I 2021-03-05 15:10:30,924]\u001b[0m Trial 0 finished with value: 0.8835275634416359 and parameters: {'max_depth': 35, 'n_estimators': 790, 'class_weight': {0: 1.0, 1: 4.0}, 'min_samples_leaf': 0.00013592187551086346}. Best is trial 0 with value: 0.8835275634416359.\u001b[0m\n",
      "\u001b[32m[I 2021-03-05 15:10:59,631]\u001b[0m Trial 1 finished with value: 0.879610400551648 and parameters: {'max_depth': 40, 'n_estimators': 1710, 'class_weight': {0: 1.0, 1: 2.0}, 'min_samples_leaf': 5.344801343356602e-05}. Best is trial 0 with value: 0.8835275634416359.\u001b[0m\n",
      "\u001b[32m[I 2021-03-05 15:11:11,315]\u001b[0m Trial 2 finished with value: 0.8752199507677523 and parameters: {'max_depth': 30, 'n_estimators': 1030, 'class_weight': {0: 1.0, 1: 5.0}, 'min_samples_leaf': 0.001744019650871022}. Best is trial 0 with value: 0.8835275634416359.\u001b[0m\n",
      "\u001b[32m[I 2021-03-05 15:11:44,624]\u001b[0m Trial 3 finished with value: 0.8653551256430487 and parameters: {'max_depth': 47, 'n_estimators': 1730, 'class_weight': {0: 1.0, 1: 2.0}, 'min_samples_leaf': 2.4523113326872665e-05}. Best is trial 0 with value: 0.8835275634416359.\u001b[0m\n",
      "\u001b[32m[I 2021-03-05 15:11:53,244]\u001b[0m Trial 4 finished with value: 0.8514938767602862 and parameters: {'max_depth': 5, 'n_estimators': 1030, 'class_weight': {0: 1.0, 1: 5.0}, 'min_samples_leaf': 0.008835206801306542}. Best is trial 0 with value: 0.8835275634416359.\u001b[0m\n",
      "\u001b[32m[I 2021-03-05 15:12:07,240]\u001b[0m Trial 5 finished with value: 0.8637589617209906 and parameters: {'max_depth': 48, 'n_estimators': 1440, 'class_weight': {0: 1.0, 1: 5.0}, 'min_samples_leaf': 0.005519718294780307}. Best is trial 0 with value: 0.8835275634416359.\u001b[0m\n",
      "\u001b[32m[I 2021-03-05 15:12:19,690]\u001b[0m Trial 6 finished with value: 0.8807897160605774 and parameters: {'max_depth': 13, 'n_estimators': 1000, 'class_weight': {0: 1.0, 1: 2.0}, 'min_samples_leaf': 0.0007886446686563832}. Best is trial 0 with value: 0.8835275634416359.\u001b[0m\n",
      "\u001b[32m[I 2021-03-05 15:12:28,826]\u001b[0m Trial 7 finished with value: 0.8611580622270726 and parameters: {'max_depth': 38, 'n_estimators': 980, 'class_weight': 'balanced', 'min_samples_leaf': 0.007570031666302988}. Best is trial 0 with value: 0.8835275634416359.\u001b[0m\n",
      "\u001b[32m[I 2021-03-05 15:12:37,670]\u001b[0m Trial 8 finished with value: 0.8373385918555852 and parameters: {'max_depth': 47, 'n_estimators': 1240, 'class_weight': {0: 1.0, 1: 3.0}, 'min_samples_leaf': 0.03152192235030612}. Best is trial 0 with value: 0.8835275634416359.\u001b[0m\n",
      "\u001b[32m[I 2021-03-05 15:12:40,015]\u001b[0m Trial 9 finished with value: 0.8825186177076778 and parameters: {'max_depth': 34, 'n_estimators': 170, 'class_weight': {0: 1.0, 1: 3.0}, 'min_samples_leaf': 0.000462569500200985}. Best is trial 0 with value: 0.8835275634416359.\u001b[0m\n",
      "\u001b[32m[I 2021-03-05 15:12:46,261]\u001b[0m Trial 10 finished with value: 0.8834117939873355 and parameters: {'max_depth': None, 'n_estimators': 400, 'class_weight': {0: 1.0, 1: 4.0}, 'min_samples_leaf': 0.00014825266461120348}. Best is trial 0 with value: 0.8835275634416359.\u001b[0m\n",
      "\u001b[32m[I 2021-03-05 15:12:53,743]\u001b[0m Trial 11 finished with value: 0.8829151658776352 and parameters: {'max_depth': None, 'n_estimators': 470, 'class_weight': {0: 1.0, 1: 4.0}, 'min_samples_leaf': 0.00011735073581523285}. Best is trial 0 with value: 0.8835275634416359.\u001b[0m\n",
      "\u001b[32m[I 2021-03-05 15:13:04,582]\u001b[0m Trial 12 finished with value: 0.8650626652233063 and parameters: {'max_depth': 35, 'n_estimators': 560, 'class_weight': {0: 1.0, 1: 4.0}, 'min_samples_leaf': 1.0072273474550093e-05}. Best is trial 0 with value: 0.8835275634416359.\u001b[0m\n",
      "\u001b[32m[I 2021-03-05 15:13:12,955]\u001b[0m Trial 13 finished with value: 0.8837793485762703 and parameters: {'max_depth': 35, 'n_estimators': 550, 'class_weight': {0: 1.0, 1: 4.0}, 'min_samples_leaf': 0.00020757789645596986}. Best is trial 13 with value: 0.8837793485762703.\u001b[0m\n",
      "\u001b[32m[I 2021-03-05 15:13:22,895]\u001b[0m Trial 14 finished with value: 0.883444814143223 and parameters: {'max_depth': 35, 'n_estimators': 710, 'class_weight': {0: 1.0, 1: 4.0}, 'min_samples_leaf': 0.00028467534584197124}. Best is trial 13 with value: 0.8837793485762703.\u001b[0m\n",
      "\u001b[32m[I 2021-03-05 15:13:25,264]\u001b[0m Trial 15 finished with value: 0.8772024676867206 and parameters: {'max_depth': 37, 'n_estimators': 130, 'class_weight': {0: 1.0, 1: 4.0}, 'min_samples_leaf': 3.3582169468433486e-05}. Best is trial 13 with value: 0.8837793485762703.\u001b[0m\n",
      "\u001b[32m[I 2021-03-05 15:13:40,074]\u001b[0m Trial 16 finished with value: 0.8653960060658541 and parameters: {'max_depth': 33, 'n_estimators': 760, 'class_weight': 'balanced', 'min_samples_leaf': 1.0124617139680086e-05}. Best is trial 13 with value: 0.8837793485762703.\u001b[0m\n",
      "\u001b[32m[I 2021-03-05 15:13:43,174]\u001b[0m Trial 17 finished with value: 0.8752394118748426 and parameters: {'max_depth': 35, 'n_estimators': 260, 'class_weight': {0: 1.0, 1: 4.0}, 'min_samples_leaf': 0.001728197736581177}. Best is trial 13 with value: 0.8837793485762703.\u001b[0m\n",
      "\u001b[32m[I 2021-03-05 15:13:54,882]\u001b[0m Trial 18 finished with value: 0.8828934424138032 and parameters: {'max_depth': 43, 'n_estimators': 730, 'class_weight': {0: 1.0, 1: 4.0}, 'min_samples_leaf': 9.40896545105324e-05}. Best is trial 13 with value: 0.8837793485762703.\u001b[0m\n",
      "\u001b[32m[I 2021-03-05 15:14:13,489]\u001b[0m Trial 19 finished with value: 0.8834418591400128 and parameters: {'max_depth': 44, 'n_estimators': 1310, 'class_weight': {0: 1.0, 1: 4.0}, 'min_samples_leaf': 0.00028170401389931396}. Best is trial 13 with value: 0.8837793485762703.\u001b[0m\n",
      "\u001b[32m[I 2021-03-05 15:14:17,906]\u001b[0m Trial 20 finished with value: 0.7886664565842372 and parameters: {'max_depth': 25, 'n_estimators': 820, 'class_weight': 'balanced', 'min_samples_leaf': 0.09951030902926838}. Best is trial 13 with value: 0.8837793485762703.\u001b[0m\n",
      "\u001b[32m[I 2021-03-05 15:14:26,706]\u001b[0m Trial 21 finished with value: 0.8837098549969173 and parameters: {'max_depth': 19, 'n_estimators': 620, 'class_weight': {0: 1.0, 1: 4.0}, 'min_samples_leaf': 0.00027500544669260905}. Best is trial 13 with value: 0.8837793485762703.\u001b[0m\n",
      "\u001b[32m[I 2021-03-05 15:14:33,789]\u001b[0m Trial 22 finished with value: 0.8808139541334056 and parameters: {'max_depth': 12, 'n_estimators': 570, 'class_weight': {0: 1.0, 1: 4.0}, 'min_samples_leaf': 0.0006351277249239105}. Best is trial 13 with value: 0.8837793485762703.\u001b[0m\n",
      "\u001b[32m[I 2021-03-05 15:14:38,590]\u001b[0m Trial 23 finished with value: 0.8838282081461498 and parameters: {'max_depth': 19, 'n_estimators': 320, 'class_weight': {0: 1.0, 1: 4.0}, 'min_samples_leaf': 0.00020711346566940878}. Best is trial 23 with value: 0.8838282081461498.\u001b[0m\n",
      "\u001b[32m[I 2021-03-05 15:14:42,276]\u001b[0m Trial 24 finished with value: 0.8722904310839048 and parameters: {'max_depth': 19, 'n_estimators': 330, 'class_weight': {0: 1.0, 1: 4.0}, 'min_samples_leaf': 0.0024636323709070753}. Best is trial 23 with value: 0.8838282081461498.\u001b[0m\n",
      "\u001b[32m[I 2021-03-05 15:14:50,657]\u001b[0m Trial 25 finished with value: 0.8840424006631341 and parameters: {'max_depth': 19, 'n_estimators': 600, 'class_weight': {0: 1.0, 1: 3.0}, 'min_samples_leaf': 0.0002884253292983611}. Best is trial 25 with value: 0.8840424006631341.\u001b[0m\n",
      "\u001b[32m[I 2021-03-05 15:14:53,339]\u001b[0m Trial 26 finished with value: 0.8759301149674122 and parameters: {'max_depth': 8, 'n_estimators': 240, 'class_weight': {0: 1.0, 1: 3.0}, 'min_samples_leaf': 5.5838633100659906e-05}. Best is trial 25 with value: 0.8840424006631341.\u001b[0m\n",
      "\u001b[32m[I 2021-03-05 15:15:01,563]\u001b[0m Trial 27 finished with value: 0.8718235296270563 and parameters: {'max_depth': 20, 'n_estimators': 440, 'class_weight': {0: 1.0, 1: 3.0}, 'min_samples_leaf': 2.047689539602595e-05}. Best is trial 25 with value: 0.8840424006631341.\u001b[0m\n",
      "\u001b[32m[I 2021-03-05 15:15:29,861]\u001b[0m Trial 28 finished with value: 0.8835808329370313 and parameters: {'max_depth': 29, 'n_estimators': 1990, 'class_weight': {0: 1.0, 1: 3.0}, 'min_samples_leaf': 0.00034445700097166285}. Best is trial 25 with value: 0.8840424006631341.\u001b[0m\n",
      "\u001b[32m[I 2021-03-05 15:15:35,661]\u001b[0m Trial 29 finished with value: 0.8456191715500667 and parameters: {'max_depth': 4, 'n_estimators': 820, 'class_weight': {0: 1.0, 1: 3.0}, 'min_samples_leaf': 0.00016250914246634325}. Best is trial 25 with value: 0.8840424006631341.\u001b[0m\n"
     ]
    }
   ],
   "source": [
    "# Extracting the best model parameters and best study score\n",
    "best_study_score,best_study_params = study_params(X_train, y_train, rf_s, objective_wrappper_rf, cv_strat)"
   ]
  },
  {
   "cell_type": "code",
   "execution_count": 23,
   "id": "introductory-entity",
   "metadata": {},
   "outputs": [
    {
     "name": "stdout",
     "output_type": "stream",
     "text": [
      "The best roc_auc_score for the study is:  0.8840424006631341\n"
     ]
    }
   ],
   "source": [
    "print('The best roc_auc_score for the study is: ', best_study_score)"
   ]
  },
  {
   "cell_type": "code",
   "execution_count": 24,
   "id": "respected-athens",
   "metadata": {},
   "outputs": [
    {
     "name": "stdout",
     "output_type": "stream",
     "text": [
      "('The best study parameters for the classifier are: ', {'max_depth': 19, 'n_estimators': 600, 'class_weight': {0: 1.0, 1: 3.0}, 'min_samples_leaf': 0.0002884253292983611})\n"
     ]
    }
   ],
   "source": [
    "print(('The best study parameters for the classifier are: ', best_study_params))"
   ]
  },
  {
   "cell_type": "code",
   "execution_count": 25,
   "id": "promising-peripheral",
   "metadata": {},
   "outputs": [],
   "source": [
    "# Obtaining the tuned RF model by setting best study parameters.\n",
    "rf_s = rf_s.set_params(**best_study_params)"
   ]
  },
  {
   "cell_type": "code",
   "execution_count": 27,
   "id": "empty-cookie",
   "metadata": {},
   "outputs": [
    {
     "data": {
      "text/plain": [
       "RandomForestClassifier(class_weight={0: 1.0, 1: 3.0}, max_depth=19,\n",
       "                       min_samples_leaf=0.0002884253292983611, n_estimators=600,\n",
       "                       n_jobs=5, random_state=42)"
      ]
     },
     "execution_count": 27,
     "metadata": {},
     "output_type": "execute_result"
    }
   ],
   "source": [
    "# fitting the best Random Forest model on the training set\n",
    "rf_s.fit(X_train, y_train)"
   ]
  },
  {
   "cell_type": "code",
   "execution_count": 28,
   "id": "active-charge",
   "metadata": {},
   "outputs": [],
   "source": [
    "# Defining the function to calculate the roc_auc score for the feature sets\n",
    "def cal_roc_auc(X, y, cls, f_set, t_set, model_name):\n",
    "    ''' Calculates the roc auc score using the best study parameters \n",
    "        f_set : String: specifies 'full feature', 'Reduced feature'\n",
    "        t_set: String: specifies 'training', 'test'\n",
    "        model_name: String: specifies Name of the model '''\n",
    "        \n",
    "    y_pred = cls.predict_proba(X)\n",
    "    print('The roc_auc_score for the {} {} set using the tuned {} classifier is '.format(f_set, t_set, model_name), roc_auc_score(y,y_pred[:,1]))"
   ]
  },
  {
   "cell_type": "code",
   "execution_count": 29,
   "id": "angry-implement",
   "metadata": {},
   "outputs": [
    {
     "name": "stdout",
     "output_type": "stream",
     "text": [
      "The roc_auc_score for the  training set using the tuned Random Forest classifier is  0.9183677451507892\n"
     ]
    }
   ],
   "source": [
    "# Calculating the full feature training set roc_auc score using the best study parameters\n",
    "cal_roc_auc(X_train, y_train, rf_s, '', 'training', 'Random Forest')"
   ]
  },
  {
   "cell_type": "code",
   "execution_count": 30,
   "id": "exceptional-sword",
   "metadata": {},
   "outputs": [
    {
     "name": "stdout",
     "output_type": "stream",
     "text": [
      "The roc_auc_score for the  test set using the tuned Random Forest classifier is  0.887408560683394\n"
     ]
    }
   ],
   "source": [
    "# Calculating the full feature test set roc_auc score using the best study parameters\n",
    "cal_roc_auc(X_test, y_test, rf_s, '', 'test', 'Random Forest')"
   ]
  },
  {
   "cell_type": "code",
   "execution_count": 31,
   "id": "subjective-american",
   "metadata": {},
   "outputs": [],
   "source": [
    "### Obtaining the feature importances of the dataset set features.\n",
    "feature_imp = pd.Series(rf_s.feature_importances_,index=X_train.columns)"
   ]
  },
  {
   "cell_type": "code",
   "execution_count": 32,
   "id": "green-volume",
   "metadata": {},
   "outputs": [
    {
     "data": {
      "image/png": "[encoded data removed]",
      "text/plain": [
       "<Figure size 864x576 with 1 Axes>"
      ]
     },
     "metadata": {
      "needs_background": "light"
     },
     "output_type": "display_data"
    }
   ],
   "source": [
    "# Plotting the feature importances of the various features\n",
    "plt.figure(figsize=(12,8))\n",
    "feature_imp.plot.barh()\n",
    "plt.xlabel('Feature Importance')\n",
    "plt.ylabel('Features')\n",
    "plt.title('Plot of Importances of various dataset features')\n",
    "plt.show()"
   ]
  },
  {
   "cell_type": "markdown",
   "id": "humanitarian-foundation",
   "metadata": {},
   "source": [
    "###  From the above plot, we can clearly make out that the most important feature for prediction purposes are : avg_rating_of_driver,  avg_rating_by_driver, weekday_pct and so on."
   ]
  },
  {
   "cell_type": "markdown",
   "id": "limiting-travel",
   "metadata": {},
   "source": [
    "### Observations:\n",
    "### 1) The random forest classifier has beautifully fitted the dataset , with no apparent signs of overfitting.\n",
    "### 2) Since the Random Forest test set roc_auc score is way above that of the baseline model, RF indeed has good prediction power."
   ]
  },
  {
   "cell_type": "code",
   "execution_count": 33,
   "id": "cleared-parts",
   "metadata": {},
   "outputs": [
    {
     "data": {
      "text/plain": [
       "['Rand_Forest.joblib']"
      ]
     },
     "execution_count": 33,
     "metadata": {},
     "output_type": "execute_result"
    }
   ],
   "source": [
    "# Saving the reduced feature set best Random forest Classifier \n",
    "import joblib\n",
    "joblib.dump(rf_s,'Rand_Forest.joblib')"
   ]
  },
  {
   "cell_type": "markdown",
   "id": "raised-tucson",
   "metadata": {},
   "source": [
    "## Model_2:  Keras Variable Layer Dense Model with Equal No. of Neurons/layer  , SELU Activation &  Tuned learning rate."
   ]
  },
  {
   "cell_type": "code",
   "execution_count": 34,
   "id": "metallic-tonight",
   "metadata": {},
   "outputs": [],
   "source": [
    "# Defining the ratio of class 0 to class 1\n",
    "balanced = (y_train.value_counts().loc[0].values[0])/(y_train.value_counts().loc[1].values[0])"
   ]
  },
  {
   "cell_type": "code",
   "execution_count": 35,
   "id": "coordinated-mauritius",
   "metadata": {},
   "outputs": [
    {
     "data": {
      "text/plain": [
       "1.6590440736555208"
      ]
     },
     "execution_count": 35,
     "metadata": {},
     "output_type": "execute_result"
    }
   ],
   "source": [
    "balanced"
   ]
  },
  {
   "cell_type": "code",
   "execution_count": 36,
   "id": "tribal-cheese",
   "metadata": {},
   "outputs": [],
   "source": [
    "cl_weight_neural = [{0:1.0,1:balanced},{0:1.0,1:2.0},{0:1.0,1:3.0},{0:1.0,1:4.0},{0:1.0,1:5.0}]"
   ]
  },
  {
   "cell_type": "code",
   "execution_count": 37,
   "id": "false-photographer",
   "metadata": {},
   "outputs": [],
   "source": [
    "# defining the objective function\n",
    "def objective_wrappper_keras_eq(X_tr, y_tr, X_val, y_val, cl_weight):\n",
    "    '''\n",
    "    Optimizes Keras ,neural net with equal no. of neurons in each layer , best parameters \n",
    "    on the given training set: X_tr, y_tr using validation set: X_val,y_val & class weights: cl_weight\n",
    "    \n",
    "    '''\n",
    "\n",
    "    def objective(trial):\n",
    "        s = trial.suggest_int('step',2,5)\n",
    "        def exponential_decay_fn(epoch):\n",
    "            return 0.01 * 0.1**(epoch /s )\n",
    "              \n",
    "        # building model & searching for the best no. of neural units per layer.\n",
    "        no_units = trial.suggest_int('no._units',100,500)# No. of Neurons in each layer\n",
    "        model = keras.models.Sequential()\n",
    "        model.add(keras.layers.InputLayer(input_shape=X_tr.shape[1:]))\n",
    "        model.add(keras.layers.BatchNormalization())\n",
    "        for i in range(trial.suggest_int('number',2,5)):\n",
    "            model.add(keras.layers.Dense(units=no_units,activation='selu',\n",
    "                                     kernel_initializer='lecun_normal')) # For self normalization\n",
    "        model.add(keras.layers.Dense(units=1,activation='sigmoid'))\n",
    "    \n",
    "            \n",
    "        # Compiling the model\n",
    "        model.compile(loss=\"binary_crossentropy\", optimizer=keras.optimizers.Nadam(beta_1=0.9, beta_2=0.999), \n",
    "                      metrics=[\"accuracy\"])\n",
    "    \n",
    "        # Defining the Callbacks\n",
    "        checkpoint_cb = keras.callbacks.ModelCheckpoint('best_model.h5',save_best_only=True) # 1st Callback\n",
    "        early_stopping_cb = keras.callbacks.EarlyStopping(patience=10) # 2nd Callback, Stop if validation score doen't improve for\n",
    "        # 10 epochs        \n",
    "        lr_scheduler_cb = keras.callbacks.LearningRateScheduler(exponential_decay_fn)# 3rd Callback\n",
    "        \n",
    "        #Fitting the model\n",
    "        model.fit(X_tr,y_tr,epochs=50,validation_data=(X_val,y_val),batch_size=32,\n",
    "             class_weight=trial.suggest_categorical('best_weight',cl_weight),\n",
    "             callbacks=[checkpoint_cb,early_stopping_cb,lr_scheduler_cb])\n",
    "    \n",
    "        # Loading the best model \n",
    "        model_best = keras.models.load_model('best_model.h5')\n",
    "    \n",
    "        # Computing the roc_auc_score for the validation set\n",
    "        roc_auc_1 = roc_auc_score(y_val,model_best.predict(X_val))\n",
    "        global best_roc_auc\n",
    "        # Updating best_roc_auc score\n",
    "        if roc_auc_1 > best_roc_auc:\n",
    "            best_roc_auc = roc_auc_1\n",
    "            model_best.save('Best_model_Selu_eq_Learn.h5')\n",
    "        \n",
    "        return roc_auc_1\n",
    "    \n",
    "    return objective"
   ]
  },
  {
   "cell_type": "code",
   "execution_count": 38,
   "id": "trying-halifax",
   "metadata": {},
   "outputs": [],
   "source": [
    "# Importing train test split from Sklearn to produce validation set\n",
    "from sklearn.model_selection import train_test_split"
   ]
  },
  {
   "cell_type": "code",
   "execution_count": 39,
   "id": "incomplete-pricing",
   "metadata": {},
   "outputs": [],
   "source": [
    "# Performing train validation split with test size = .15 to provide more Training data to Neural Net\n",
    "X_train_1, X_val, y_train_1, y_val = train_test_split(X_train, y_train, test_size=0.15, random_state=42,\n",
    "                                                          stratify=y_train)"
   ]
  },
  {
   "cell_type": "code",
   "execution_count": 40,
   "id": "stopped-community",
   "metadata": {},
   "outputs": [],
   "source": [
    "# Defining the evaluation function for study's best parameters\n",
    "def study_params_neural(X_tr, y_tr, X_v, y_v, obj_func, cl_weight, n_trials=50):\n",
    "    ''' Computes the best hyper parameters of the Neural net using the Training set(X_tr,y_tr) & Validation set\n",
    "    (X_v,y_v), class weights cl_wei & \n",
    "    returns Optuna's study's best score & clasifier parameters'''\n",
    "    \n",
    "    study = optuna.create_study(direction='maximize')\n",
    "    study.optimize(obj_func(X_tr, y_tr, X_v, y_v, cl_weight),n_trials)\n",
    "    best_score = study.best_value\n",
    "    best_params = study.best_params\n",
    "    return (best_score,best_params)"
   ]
  },
  {
   "cell_type": "code",
   "execution_count": 41,
   "id": "rapid-presence",
   "metadata": {},
   "outputs": [],
   "source": [
    "# Importing tensorflow and keras\n",
    "import tensorflow as tf\n",
    "from tensorflow import keras "
   ]
  },
  {
   "cell_type": "code",
   "execution_count": 64,
   "id": "reported-writer",
   "metadata": {},
   "outputs": [
    {
     "name": "stderr",
     "output_type": "stream",
     "text": [
      "\u001b[32m[I 2021-03-05 17:17:27,559]\u001b[0m A new study created in memory with name: no-name-c6457089-e235-4114-99f8-9821fa8ed1e3\u001b[0m\n"
     ]
    },
    {
     "name": "stdout",
     "output_type": "stream",
     "text": [
      "Epoch 1/50\n",
      "1063/1063 [==============================] - 2s 2ms/step - loss: 1.2771 - accuracy: 0.6306 - val_loss: 0.5997 - val_accuracy: 0.7380\n",
      "Epoch 2/50\n",
      "1063/1063 [==============================] - 2s 2ms/step - loss: 0.7357 - accuracy: 0.7216 - val_loss: 0.5188 - val_accuracy: 0.7460\n",
      "Epoch 3/50\n",
      "1063/1063 [==============================] - 2s 2ms/step - loss: 0.6745 - accuracy: 0.7411 - val_loss: 0.5387 - val_accuracy: 0.7425\n",
      "Epoch 4/50\n",
      "1063/1063 [==============================] - 2s 2ms/step - loss: 0.6602 - accuracy: 0.7477 - val_loss: 0.5352 - val_accuracy: 0.7328\n",
      "Epoch 5/50\n",
      "1063/1063 [==============================] - 2s 2ms/step - loss: 0.6492 - accuracy: 0.7511 - val_loss: 0.4894 - val_accuracy: 0.7623\n",
      "Epoch 6/50\n",
      "1063/1063 [==============================] - 2s 2ms/step - loss: 0.6455 - accuracy: 0.7525 - val_loss: 0.5231 - val_accuracy: 0.7397\n",
      "Epoch 7/50\n",
      "1063/1063 [==============================] - 2s 2ms/step - loss: 0.6412 - accuracy: 0.7538 - val_loss: 0.4928 - val_accuracy: 0.7568\n",
      "Epoch 8/50\n",
      "1063/1063 [==============================] - 2s 2ms/step - loss: 0.6392 - accuracy: 0.7536 - val_loss: 0.5115 - val_accuracy: 0.7455\n",
      "Epoch 9/50\n",
      "1063/1063 [==============================] - 2s 2ms/step - loss: 0.6378 - accuracy: 0.7553 - val_loss: 0.5068 - val_accuracy: 0.7478\n",
      "Epoch 10/50\n",
      "1063/1063 [==============================] - 2s 2ms/step - loss: 0.6352 - accuracy: 0.7562 - val_loss: 0.5028 - val_accuracy: 0.7510\n",
      "Epoch 11/50\n",
      "1063/1063 [==============================] - 2s 2ms/step - loss: 0.6355 - accuracy: 0.7559 - val_loss: 0.5094 - val_accuracy: 0.7465\n",
      "Epoch 12/50\n",
      "1063/1063 [==============================] - 2s 2ms/step - loss: 0.6366 - accuracy: 0.7559 - val_loss: 0.5100 - val_accuracy: 0.7453\n",
      "Epoch 13/50\n",
      "1063/1063 [==============================] - 2s 2ms/step - loss: 0.6366 - accuracy: 0.7559 - val_loss: 0.5095 - val_accuracy: 0.7458\n",
      "Epoch 14/50\n",
      "1063/1063 [==============================] - 2s 2ms/step - loss: 0.6350 - accuracy: 0.7550 - val_loss: 0.5070 - val_accuracy: 0.7488\n",
      "Epoch 15/50\n",
      "1063/1063 [==============================] - 2s 2ms/step - loss: 0.6367 - accuracy: 0.7573 - val_loss: 0.5087 - val_accuracy: 0.7477\n"
     ]
    },
    {
     "name": "stderr",
     "output_type": "stream",
     "text": [
      "\u001b[32m[I 2021-03-05 17:18:04,468]\u001b[0m Trial 0 finished with value: 0.8310591864240467 and parameters: {'step': 3, 'no._units': 415, 'number': 3, 'best_weight': {0: 1, 1: 1.6590440736555208}}. Best is trial 0 with value: 0.8310591864240467.\u001b[0m\n"
     ]
    },
    {
     "name": "stdout",
     "output_type": "stream",
     "text": [
      "Epoch 1/50\n",
      "1063/1063 [==============================] - 3s 2ms/step - loss: 1.6056 - accuracy: 0.5429 - val_loss: 0.5734 - val_accuracy: 0.7018\n",
      "Epoch 2/50\n",
      "1063/1063 [==============================] - 2s 2ms/step - loss: 1.2052 - accuracy: 0.5883 - val_loss: 2.4715 - val_accuracy: 0.3760\n",
      "Epoch 3/50\n",
      "1063/1063 [==============================] - 2s 2ms/step - loss: 1.1262 - accuracy: 0.6071 - val_loss: 0.5304 - val_accuracy: 0.7420\n",
      "Epoch 4/50\n",
      "1063/1063 [==============================] - 2s 2ms/step - loss: 1.0914 - accuracy: 0.6207 - val_loss: 1.2265 - val_accuracy: 0.4478\n",
      "Epoch 5/50\n",
      "1063/1063 [==============================] - 2s 2ms/step - loss: 1.0802 - accuracy: 0.6198 - val_loss: 0.6919 - val_accuracy: 0.6405\n",
      "Epoch 6/50\n",
      "1063/1063 [==============================] - 2s 2ms/step - loss: 1.0656 - accuracy: 0.6242 - val_loss: 0.6611 - val_accuracy: 0.6770\n",
      "Epoch 7/50\n",
      "1063/1063 [==============================] - 2s 2ms/step - loss: 1.0602 - accuracy: 0.6290 - val_loss: 0.7231 - val_accuracy: 0.6355\n",
      "Epoch 8/50\n",
      "1063/1063 [==============================] - 2s 2ms/step - loss: 1.0480 - accuracy: 0.6326 - val_loss: 0.6754 - val_accuracy: 0.6702\n",
      "Epoch 9/50\n",
      "1063/1063 [==============================] - 2s 2ms/step - loss: 1.0441 - accuracy: 0.6352 - val_loss: 0.6871 - val_accuracy: 0.6530\n",
      "Epoch 10/50\n",
      "1063/1063 [==============================] - 2s 2ms/step - loss: 1.0402 - accuracy: 0.6359 - val_loss: 0.6929 - val_accuracy: 0.6510\n",
      "Epoch 11/50\n",
      "1063/1063 [==============================] - 2s 2ms/step - loss: 1.0396 - accuracy: 0.6382 - val_loss: 0.6831 - val_accuracy: 0.6553\n",
      "Epoch 12/50\n",
      "1063/1063 [==============================] - 2s 2ms/step - loss: 1.0363 - accuracy: 0.6357 - val_loss: 0.6765 - val_accuracy: 0.6597\n",
      "Epoch 13/50\n",
      "1063/1063 [==============================] - 2s 2ms/step - loss: 1.0401 - accuracy: 0.6339 - val_loss: 0.6794 - val_accuracy: 0.6613\n"
     ]
    },
    {
     "name": "stderr",
     "output_type": "stream",
     "text": [
      "\u001b[32m[I 2021-03-05 17:18:37,508]\u001b[0m Trial 1 finished with value: 0.8253805971350852 and parameters: {'step': 4, 'no._units': 220, 'number': 4, 'best_weight': {0: 1.0, 1: 5.0}}. Best is trial 0 with value: 0.8310591864240467.\u001b[0m\n"
     ]
    },
    {
     "name": "stdout",
     "output_type": "stream",
     "text": [
      "Epoch 1/50\n",
      "1063/1063 [==============================] - 3s 3ms/step - loss: 4.3119 - accuracy: 0.5011 - val_loss: 0.9461 - val_accuracy: 0.3760\n",
      "Epoch 2/50\n",
      "1063/1063 [==============================] - 3s 3ms/step - loss: 1.2308 - accuracy: 0.4179 - val_loss: 1.2481 - val_accuracy: 0.3760\n",
      "Epoch 3/50\n",
      "1063/1063 [==============================] - 3s 3ms/step - loss: 1.1854 - accuracy: 0.4004 - val_loss: 1.0305 - val_accuracy: 0.3760\n",
      "Epoch 4/50\n",
      "1063/1063 [==============================] - 3s 3ms/step - loss: 1.1664 - accuracy: 0.3854 - val_loss: 0.7273 - val_accuracy: 0.3760\n",
      "Epoch 5/50\n",
      "1063/1063 [==============================] - 3s 3ms/step - loss: 1.1550 - accuracy: 0.3835 - val_loss: 0.7929 - val_accuracy: 0.3760\n",
      "Epoch 6/50\n",
      "1063/1063 [==============================] - 3s 3ms/step - loss: 1.1502 - accuracy: 0.3769 - val_loss: 0.7418 - val_accuracy: 0.3760\n",
      "Epoch 7/50\n",
      "1063/1063 [==============================] - 3s 3ms/step - loss: 1.1488 - accuracy: 0.3761 - val_loss: 0.7546 - val_accuracy: 0.3760\n",
      "Epoch 8/50\n",
      "1063/1063 [==============================] - 3s 3ms/step - loss: 1.1465 - accuracy: 0.3761 - val_loss: 0.8531 - val_accuracy: 0.3760\n",
      "Epoch 9/50\n",
      "1063/1063 [==============================] - 3s 3ms/step - loss: 1.1444 - accuracy: 0.3761 - val_loss: 0.8448 - val_accuracy: 0.3760\n",
      "Epoch 10/50\n",
      "1063/1063 [==============================] - 3s 3ms/step - loss: 1.1442 - accuracy: 0.3761 - val_loss: 0.7769 - val_accuracy: 0.3760\n",
      "Epoch 11/50\n",
      "1063/1063 [==============================] - 3s 3ms/step - loss: 1.1429 - accuracy: 0.3761 - val_loss: 0.8141 - val_accuracy: 0.3760\n",
      "Epoch 12/50\n",
      "1063/1063 [==============================] - 3s 3ms/step - loss: 1.1424 - accuracy: 0.3761 - val_loss: 0.8254 - val_accuracy: 0.3760\n",
      "Epoch 13/50\n",
      "1063/1063 [==============================] - 3s 3ms/step - loss: 1.1416 - accuracy: 0.3761 - val_loss: 0.7963 - val_accuracy: 0.3760\n",
      "Epoch 14/50\n",
      "1063/1063 [==============================] - 3s 3ms/step - loss: 1.1416 - accuracy: 0.3761 - val_loss: 0.8080 - val_accuracy: 0.3760\n"
     ]
    },
    {
     "name": "stderr",
     "output_type": "stream",
     "text": [
      "\u001b[32m[I 2021-03-05 17:19:19,581]\u001b[0m Trial 2 finished with value: 0.5 and parameters: {'step': 5, 'no._units': 379, 'number': 5, 'best_weight': {0: 1.0, 1: 3.0}}. Best is trial 0 with value: 0.8310591864240467.\u001b[0m\n"
     ]
    },
    {
     "name": "stdout",
     "output_type": "stream",
     "text": [
      "Epoch 1/50\n",
      "1063/1063 [==============================] - 2s 2ms/step - loss: 1.4875 - accuracy: 0.5554 - val_loss: 0.6083 - val_accuracy: 0.7037\n",
      "Epoch 2/50\n",
      "1063/1063 [==============================] - 2s 2ms/step - loss: 1.1647 - accuracy: 0.5965 - val_loss: 0.8640 - val_accuracy: 0.4502\n",
      "Epoch 3/50\n",
      "1063/1063 [==============================] - 2s 2ms/step - loss: 1.1033 - accuracy: 0.6178 - val_loss: 0.6000 - val_accuracy: 0.7083\n",
      "Epoch 4/50\n",
      "1063/1063 [==============================] - 2s 2ms/step - loss: 1.0789 - accuracy: 0.6263 - val_loss: 0.7609 - val_accuracy: 0.6087\n",
      "Epoch 5/50\n",
      "1063/1063 [==============================] - 2s 2ms/step - loss: 1.0626 - accuracy: 0.6315 - val_loss: 0.7616 - val_accuracy: 0.6288\n",
      "Epoch 6/50\n",
      "1063/1063 [==============================] - 2s 2ms/step - loss: 1.0546 - accuracy: 0.6369 - val_loss: 0.7592 - val_accuracy: 0.6193\n",
      "Epoch 7/50\n",
      "1063/1063 [==============================] - 2s 2ms/step - loss: 1.0487 - accuracy: 0.6335 - val_loss: 0.7044 - val_accuracy: 0.6407\n",
      "Epoch 8/50\n",
      "1063/1063 [==============================] - 2s 2ms/step - loss: 1.0418 - accuracy: 0.6368 - val_loss: 0.7055 - val_accuracy: 0.6452\n",
      "Epoch 9/50\n",
      "1063/1063 [==============================] - 2s 2ms/step - loss: 1.0466 - accuracy: 0.6360 - val_loss: 0.6808 - val_accuracy: 0.6607\n",
      "Epoch 10/50\n",
      "1063/1063 [==============================] - 2s 2ms/step - loss: 1.0441 - accuracy: 0.6371 - val_loss: 0.7008 - val_accuracy: 0.6475\n",
      "Epoch 11/50\n",
      "1063/1063 [==============================] - 2s 2ms/step - loss: 1.0445 - accuracy: 0.6339 - val_loss: 0.6889 - val_accuracy: 0.6557\n",
      "Epoch 12/50\n",
      "1063/1063 [==============================] - 2s 2ms/step - loss: 1.0415 - accuracy: 0.6410 - val_loss: 0.6882 - val_accuracy: 0.6582\n",
      "Epoch 13/50\n",
      "1063/1063 [==============================] - 2s 2ms/step - loss: 1.0405 - accuracy: 0.6379 - val_loss: 0.6925 - val_accuracy: 0.6537\n"
     ]
    },
    {
     "name": "stderr",
     "output_type": "stream",
     "text": [
      "\u001b[32m[I 2021-03-05 17:19:49,572]\u001b[0m Trial 3 finished with value: 0.8303620307859004 and parameters: {'step': 3, 'no._units': 226, 'number': 3, 'best_weight': {0: 1.0, 1: 5.0}}. Best is trial 0 with value: 0.8310591864240467.\u001b[0m\n"
     ]
    },
    {
     "name": "stdout",
     "output_type": "stream",
     "text": [
      "Epoch 1/50\n",
      "1063/1063 [==============================] - 3s 2ms/step - loss: 1.3625 - accuracy: 0.6229 - val_loss: 1.8055 - val_accuracy: 0.6360\n",
      "Epoch 2/50\n",
      "1063/1063 [==============================] - 2s 2ms/step - loss: 0.8238 - accuracy: 0.6920 - val_loss: 0.5737 - val_accuracy: 0.7242\n",
      "Epoch 3/50\n",
      "1063/1063 [==============================] - 2s 2ms/step - loss: 0.7140 - accuracy: 0.7290 - val_loss: 0.5044 - val_accuracy: 0.7630\n",
      "Epoch 4/50\n",
      "1063/1063 [==============================] - 2s 2ms/step - loss: 0.6803 - accuracy: 0.7383 - val_loss: 0.5018 - val_accuracy: 0.7628\n",
      "Epoch 5/50\n",
      "1063/1063 [==============================] - 2s 2ms/step - loss: 0.6669 - accuracy: 0.7445 - val_loss: 0.4936 - val_accuracy: 0.7642\n",
      "Epoch 6/50\n",
      "1063/1063 [==============================] - 2s 2ms/step - loss: 0.6525 - accuracy: 0.7471 - val_loss: 0.5162 - val_accuracy: 0.7478\n",
      "Epoch 7/50\n",
      "1063/1063 [==============================] - 2s 2ms/step - loss: 0.6472 - accuracy: 0.7521 - val_loss: 0.5149 - val_accuracy: 0.7493\n",
      "Epoch 8/50\n",
      "1063/1063 [==============================] - 2s 2ms/step - loss: 0.6377 - accuracy: 0.7567 - val_loss: 0.5024 - val_accuracy: 0.7572\n",
      "Epoch 9/50\n",
      "1063/1063 [==============================] - 2s 2ms/step - loss: 0.6366 - accuracy: 0.7572 - val_loss: 0.5180 - val_accuracy: 0.7465\n",
      "Epoch 10/50\n",
      "1063/1063 [==============================] - 2s 2ms/step - loss: 0.6328 - accuracy: 0.7593 - val_loss: 0.5146 - val_accuracy: 0.7505\n",
      "Epoch 11/50\n",
      "1063/1063 [==============================] - 2s 2ms/step - loss: 0.6284 - accuracy: 0.7594 - val_loss: 0.5239 - val_accuracy: 0.7447\n",
      "Epoch 12/50\n",
      "1063/1063 [==============================] - 2s 2ms/step - loss: 0.6298 - accuracy: 0.7596 - val_loss: 0.4985 - val_accuracy: 0.7593\n",
      "Epoch 13/50\n",
      "1063/1063 [==============================] - 2s 2ms/step - loss: 0.6261 - accuracy: 0.7627 - val_loss: 0.5006 - val_accuracy: 0.7577\n",
      "Epoch 14/50\n",
      "1063/1063 [==============================] - 2s 2ms/step - loss: 0.6275 - accuracy: 0.7600 - val_loss: 0.5004 - val_accuracy: 0.7585\n",
      "Epoch 15/50\n",
      "1063/1063 [==============================] - 2s 2ms/step - loss: 0.6265 - accuracy: 0.7599 - val_loss: 0.5055 - val_accuracy: 0.7553\n"
     ]
    },
    {
     "name": "stderr",
     "output_type": "stream",
     "text": [
      "\u001b[32m[I 2021-03-05 17:20:27,082]\u001b[0m Trial 4 finished with value: 0.8296779575453113 and parameters: {'step': 5, 'no._units': 451, 'number': 3, 'best_weight': {0: 1, 1: 1.6590440736555208}}. Best is trial 0 with value: 0.8310591864240467.\u001b[0m\n"
     ]
    },
    {
     "name": "stdout",
     "output_type": "stream",
     "text": [
      "Epoch 1/50\n",
      "1044/1063 [============================>.] - ETA: 0s - loss: 0.7507 - accuracy: 0.7070WARNING:tensorflow:Callbacks method `on_test_batch_end` is slow compared to the batch time (batch time: 0.0000s vs `on_test_batch_end` time: 0.0010s). Check your callbacks.\n",
      "1063/1063 [==============================] - 2s 2ms/step - loss: 0.7502 - accuracy: 0.7070 - val_loss: 0.6069 - val_accuracy: 0.6625\n",
      "Epoch 2/50\n",
      "1063/1063 [==============================] - 2s 2ms/step - loss: 0.6774 - accuracy: 0.7334 - val_loss: 0.5529 - val_accuracy: 0.7227\n",
      "Epoch 3/50\n",
      "1063/1063 [==============================] - 2s 2ms/step - loss: 0.6586 - accuracy: 0.7425 - val_loss: 0.5301 - val_accuracy: 0.7402\n",
      "Epoch 4/50\n",
      "1063/1063 [==============================] - 2s 2ms/step - loss: 0.6503 - accuracy: 0.7478 - val_loss: 0.5247 - val_accuracy: 0.7365\n",
      "Epoch 5/50\n",
      "1063/1063 [==============================] - 2s 2ms/step - loss: 0.6428 - accuracy: 0.7509 - val_loss: 0.5019 - val_accuracy: 0.7592\n",
      "Epoch 6/50\n",
      "1063/1063 [==============================] - 2s 2ms/step - loss: 0.6413 - accuracy: 0.7507 - val_loss: 0.5094 - val_accuracy: 0.7518\n",
      "Epoch 7/50\n",
      "1063/1063 [==============================] - 2s 2ms/step - loss: 0.6373 - accuracy: 0.7542 - val_loss: 0.5108 - val_accuracy: 0.7512\n",
      "Epoch 8/50\n",
      "1063/1063 [==============================] - 2s 2ms/step - loss: 0.6347 - accuracy: 0.7558 - val_loss: 0.5041 - val_accuracy: 0.7542\n",
      "Epoch 9/50\n",
      "1063/1063 [==============================] - 2s 2ms/step - loss: 0.6352 - accuracy: 0.7572 - val_loss: 0.5067 - val_accuracy: 0.7523\n",
      "Epoch 10/50\n",
      "1063/1063 [==============================] - 2s 2ms/step - loss: 0.6328 - accuracy: 0.7548 - val_loss: 0.5032 - val_accuracy: 0.7557\n",
      "Epoch 11/50\n",
      "1063/1063 [==============================] - 2s 2ms/step - loss: 0.6324 - accuracy: 0.7549 - val_loss: 0.5064 - val_accuracy: 0.7522\n",
      "Epoch 12/50\n",
      "1063/1063 [==============================] - 2s 2ms/step - loss: 0.6334 - accuracy: 0.7563 - val_loss: 0.5048 - val_accuracy: 0.7558\n",
      "Epoch 13/50\n",
      "1063/1063 [==============================] - 2s 2ms/step - loss: 0.6336 - accuracy: 0.7576 - val_loss: 0.5054 - val_accuracy: 0.7543\n",
      "Epoch 14/50\n",
      "1063/1063 [==============================] - 2s 2ms/step - loss: 0.6346 - accuracy: 0.7558 - val_loss: 0.5051 - val_accuracy: 0.7550\n",
      "Epoch 15/50\n",
      "1063/1063 [==============================] - 3s 3ms/step - loss: 0.6325 - accuracy: 0.7559 - val_loss: 0.5071 - val_accuracy: 0.7533\n"
     ]
    },
    {
     "name": "stderr",
     "output_type": "stream",
     "text": [
      "\u001b[32m[I 2021-03-05 17:21:01,744]\u001b[0m Trial 5 finished with value: 0.8321222940155785 and parameters: {'step': 4, 'no._units': 244, 'number': 2, 'best_weight': {0: 1, 1: 1.6590440736555208}}. Best is trial 5 with value: 0.8321222940155785.\u001b[0m\n"
     ]
    },
    {
     "name": "stdout",
     "output_type": "stream",
     "text": [
      "Epoch 1/50\n",
      "1063/1063 [==============================] - 3s 3ms/step - loss: 1.1837 - accuracy: 0.5878 - val_loss: 0.8853 - val_accuracy: 0.4060\n",
      "Epoch 2/50\n",
      "1063/1063 [==============================] - 3s 3ms/step - loss: 1.0178 - accuracy: 0.6457 - val_loss: 0.5173 - val_accuracy: 0.7437\n",
      "Epoch 3/50\n",
      "1063/1063 [==============================] - 3s 3ms/step - loss: 0.9898 - accuracy: 0.6556 - val_loss: 0.7281 - val_accuracy: 0.6188\n",
      "Epoch 4/50\n",
      "1063/1063 [==============================] - 2s 2ms/step - loss: 0.9762 - accuracy: 0.6556 - val_loss: 0.6778 - val_accuracy: 0.6460\n",
      "Epoch 5/50\n",
      "1063/1063 [==============================] - 2s 2ms/step - loss: 0.9652 - accuracy: 0.6590 - val_loss: 0.6529 - val_accuracy: 0.6660\n",
      "Epoch 6/50\n",
      "1063/1063 [==============================] - 2s 2ms/step - loss: 0.9666 - accuracy: 0.6629 - val_loss: 0.6681 - val_accuracy: 0.6577\n",
      "Epoch 7/50\n",
      "1063/1063 [==============================] - 2s 2ms/step - loss: 0.9665 - accuracy: 0.6610 - val_loss: 0.6602 - val_accuracy: 0.6622\n",
      "Epoch 8/50\n",
      "1063/1063 [==============================] - 2s 2ms/step - loss: 0.9631 - accuracy: 0.6608 - val_loss: 0.6679 - val_accuracy: 0.6587\n",
      "Epoch 9/50\n",
      "1063/1063 [==============================] - 2s 2ms/step - loss: 0.9660 - accuracy: 0.6601 - val_loss: 0.6579 - val_accuracy: 0.6653\n",
      "Epoch 10/50\n",
      "1063/1063 [==============================] - 2s 2ms/step - loss: 0.9652 - accuracy: 0.6632 - val_loss: 0.6575 - val_accuracy: 0.6653\n",
      "Epoch 11/50\n",
      "1063/1063 [==============================] - 2s 2ms/step - loss: 0.9677 - accuracy: 0.6611 - val_loss: 0.6553 - val_accuracy: 0.6662\n",
      "Epoch 12/50\n",
      "1063/1063 [==============================] - 2s 2ms/step - loss: 0.9650 - accuracy: 0.6642 - val_loss: 0.6683 - val_accuracy: 0.6578\n"
     ]
    },
    {
     "name": "stderr",
     "output_type": "stream",
     "text": [
      "\u001b[32m[I 2021-03-05 17:21:33,108]\u001b[0m Trial 6 finished with value: 0.8209756769223191 and parameters: {'step': 2, 'no._units': 124, 'number': 4, 'best_weight': {0: 1.0, 1: 4.0}}. Best is trial 5 with value: 0.8321222940155785.\u001b[0m\n"
     ]
    },
    {
     "name": "stdout",
     "output_type": "stream",
     "text": [
      "Epoch 1/50\n",
      "1063/1063 [==============================] - 2s 2ms/step - loss: 1.1828 - accuracy: 0.5960 - val_loss: 0.6772 - val_accuracy: 0.6245\n",
      "Epoch 2/50\n",
      "1063/1063 [==============================] - 2s 2ms/step - loss: 1.0361 - accuracy: 0.6259 - val_loss: 0.6479 - val_accuracy: 0.6445\n",
      "Epoch 3/50\n",
      "1063/1063 [==============================] - 2s 2ms/step - loss: 1.0086 - accuracy: 0.6385 - val_loss: 0.7364 - val_accuracy: 0.6338\n",
      "Epoch 4/50\n",
      "1063/1063 [==============================] - 2s 2ms/step - loss: 0.9911 - accuracy: 0.6525 - val_loss: 0.7000 - val_accuracy: 0.6267\n",
      "Epoch 5/50\n",
      "1063/1063 [==============================] - 2s 2ms/step - loss: 0.9783 - accuracy: 0.6569 - val_loss: 0.6701 - val_accuracy: 0.6463\n",
      "Epoch 6/50\n",
      "1063/1063 [==============================] - 2s 2ms/step - loss: 0.9764 - accuracy: 0.6543 - val_loss: 0.6290 - val_accuracy: 0.6968\n",
      "Epoch 7/50\n",
      "1063/1063 [==============================] - 2s 2ms/step - loss: 0.9658 - accuracy: 0.6612 - val_loss: 0.6681 - val_accuracy: 0.6588\n",
      "Epoch 8/50\n",
      "1063/1063 [==============================] - 2s 2ms/step - loss: 0.9644 - accuracy: 0.6614 - val_loss: 0.6532 - val_accuracy: 0.6728\n",
      "Epoch 9/50\n",
      "1063/1063 [==============================] - 2s 2ms/step - loss: 0.9626 - accuracy: 0.6644 - val_loss: 0.6617 - val_accuracy: 0.6678\n",
      "Epoch 10/50\n",
      "1063/1063 [==============================] - 2s 2ms/step - loss: 0.9541 - accuracy: 0.6696 - val_loss: 0.6603 - val_accuracy: 0.6667\n",
      "Epoch 11/50\n",
      "1063/1063 [==============================] - 2s 2ms/step - loss: 0.9556 - accuracy: 0.6667 - val_loss: 0.6319 - val_accuracy: 0.6847\n",
      "Epoch 12/50\n",
      "1063/1063 [==============================] - 2s 2ms/step - loss: 0.9542 - accuracy: 0.6684 - val_loss: 0.6320 - val_accuracy: 0.6843\n",
      "Epoch 13/50\n",
      "1063/1063 [==============================] - 2s 2ms/step - loss: 0.9530 - accuracy: 0.6684 - val_loss: 0.6358 - val_accuracy: 0.6825\n",
      "Epoch 14/50\n",
      "1063/1063 [==============================] - 2s 2ms/step - loss: 0.9537 - accuracy: 0.6701 - val_loss: 0.6390 - val_accuracy: 0.6810\n",
      "Epoch 15/50\n",
      "1063/1063 [==============================] - 2s 2ms/step - loss: 0.9546 - accuracy: 0.6689 - val_loss: 0.6405 - val_accuracy: 0.6792\n",
      "Epoch 16/50\n",
      "1063/1063 [==============================] - 2s 2ms/step - loss: 0.9539 - accuracy: 0.6670 - val_loss: 0.6453 - val_accuracy: 0.6755\n"
     ]
    },
    {
     "name": "stderr",
     "output_type": "stream",
     "text": [
      "\u001b[32m[I 2021-03-05 17:22:07,580]\u001b[0m Trial 7 finished with value: 0.8305698100412197 and parameters: {'step': 5, 'no._units': 272, 'number': 2, 'best_weight': {0: 1.0, 1: 4.0}}. Best is trial 5 with value: 0.8321222940155785.\u001b[0m\n"
     ]
    },
    {
     "name": "stdout",
     "output_type": "stream",
     "text": [
      "Epoch 1/50\n",
      "1063/1063 [==============================] - 2s 2ms/step - loss: 1.0024 - accuracy: 0.6434 - val_loss: 0.6049 - val_accuracy: 0.7017\n",
      "Epoch 2/50\n",
      "1063/1063 [==============================] - 2s 2ms/step - loss: 0.8881 - accuracy: 0.6940 - val_loss: 0.5430 - val_accuracy: 0.7357\n",
      "Epoch 3/50\n",
      "1063/1063 [==============================] - 2s 2ms/step - loss: 0.8654 - accuracy: 0.7034 - val_loss: 0.6135 - val_accuracy: 0.6998\n",
      "Epoch 4/50\n",
      "1063/1063 [==============================] - 2s 2ms/step - loss: 0.8518 - accuracy: 0.7039 - val_loss: 0.5985 - val_accuracy: 0.7088\n",
      "Epoch 5/50\n",
      "1063/1063 [==============================] - 2s 2ms/step - loss: 0.8463 - accuracy: 0.7059 - val_loss: 0.5763 - val_accuracy: 0.7188\n",
      "Epoch 6/50\n",
      "1063/1063 [==============================] - 2s 2ms/step - loss: 0.8449 - accuracy: 0.7074 - val_loss: 0.5845 - val_accuracy: 0.7167\n",
      "Epoch 7/50\n",
      "1063/1063 [==============================] - 2s 2ms/step - loss: 0.8447 - accuracy: 0.7070 - val_loss: 0.5865 - val_accuracy: 0.7170\n",
      "Epoch 8/50\n",
      "1063/1063 [==============================] - 2s 2ms/step - loss: 0.8439 - accuracy: 0.7071 - val_loss: 0.5775 - val_accuracy: 0.7203\n",
      "Epoch 9/50\n",
      "1063/1063 [==============================] - 2s 2ms/step - loss: 0.8426 - accuracy: 0.7090 - val_loss: 0.5807 - val_accuracy: 0.7188\n",
      "Epoch 10/50\n",
      "1063/1063 [==============================] - 2s 2ms/step - loss: 0.8423 - accuracy: 0.7074 - val_loss: 0.5853 - val_accuracy: 0.7165\n",
      "Epoch 11/50\n",
      "1063/1063 [==============================] - 2s 2ms/step - loss: 0.8417 - accuracy: 0.7066 - val_loss: 0.5817 - val_accuracy: 0.7193\n",
      "Epoch 12/50\n",
      "1063/1063 [==============================] - 2s 2ms/step - loss: 0.8440 - accuracy: 0.7085 - val_loss: 0.5776 - val_accuracy: 0.7210\n"
     ]
    },
    {
     "name": "stderr",
     "output_type": "stream",
     "text": [
      "\u001b[32m[I 2021-03-05 17:22:35,055]\u001b[0m Trial 8 finished with value: 0.8226072472457114 and parameters: {'step': 2, 'no._units': 139, 'number': 3, 'best_weight': {0: 1.0, 1: 3.0}}. Best is trial 5 with value: 0.8321222940155785.\u001b[0m\n"
     ]
    },
    {
     "name": "stdout",
     "output_type": "stream",
     "text": [
      "Epoch 1/50\n",
      "1063/1063 [==============================] - 3s 3ms/step - loss: 2.2533 - accuracy: 0.5109 - val_loss: 0.7946 - val_accuracy: 0.7068\n",
      "Epoch 2/50\n",
      "1063/1063 [==============================] - 3s 2ms/step - loss: 1.3540 - accuracy: 0.5683 - val_loss: 0.5611 - val_accuracy: 0.7288\n",
      "Epoch 3/50\n",
      "1063/1063 [==============================] - 3s 2ms/step - loss: 1.1855 - accuracy: 0.6025 - val_loss: 0.5015 - val_accuracy: 0.7583\n",
      "Epoch 4/50\n",
      "1063/1063 [==============================] - 3s 2ms/step - loss: 1.1361 - accuracy: 0.6100 - val_loss: 0.6955 - val_accuracy: 0.6435\n",
      "Epoch 5/50\n",
      "1063/1063 [==============================] - 3s 2ms/step - loss: 1.1037 - accuracy: 0.6131 - val_loss: 0.7398 - val_accuracy: 0.6477\n",
      "Epoch 6/50\n",
      "1063/1063 [==============================] - 3s 2ms/step - loss: 1.0878 - accuracy: 0.6207 - val_loss: 0.8317 - val_accuracy: 0.5738\n",
      "Epoch 7/50\n",
      "1063/1063 [==============================] - 3s 2ms/step - loss: 1.0722 - accuracy: 0.6240 - val_loss: 0.7190 - val_accuracy: 0.6327\n",
      "Epoch 8/50\n",
      "1063/1063 [==============================] - 3s 2ms/step - loss: 1.0666 - accuracy: 0.6289 - val_loss: 0.7044 - val_accuracy: 0.6283\n",
      "Epoch 9/50\n",
      "1063/1063 [==============================] - 3s 2ms/step - loss: 1.0566 - accuracy: 0.6301 - val_loss: 0.7293 - val_accuracy: 0.6343\n",
      "Epoch 10/50\n",
      "1063/1063 [==============================] - 3s 2ms/step - loss: 1.0510 - accuracy: 0.6323 - val_loss: 0.7191 - val_accuracy: 0.6362\n",
      "Epoch 11/50\n",
      "1063/1063 [==============================] - 3s 2ms/step - loss: 1.0493 - accuracy: 0.6318 - val_loss: 0.6261 - val_accuracy: 0.7003\n",
      "Epoch 12/50\n",
      "1063/1063 [==============================] - 3s 2ms/step - loss: 1.0455 - accuracy: 0.6366 - val_loss: 0.6527 - val_accuracy: 0.6818\n",
      "Epoch 13/50\n",
      "1063/1063 [==============================] - 3s 2ms/step - loss: 1.0385 - accuracy: 0.6385 - val_loss: 0.7345 - val_accuracy: 0.6333\n"
     ]
    },
    {
     "name": "stderr",
     "output_type": "stream",
     "text": [
      "\u001b[32m[I 2021-03-05 17:23:10,443]\u001b[0m Trial 9 finished with value: 0.8161804158521246 and parameters: {'step': 5, 'no._units': 398, 'number': 4, 'best_weight': {0: 1.0, 1: 5.0}}. Best is trial 5 with value: 0.8321222940155785.\u001b[0m\n"
     ]
    },
    {
     "name": "stdout",
     "output_type": "stream",
     "text": [
      "Epoch 1/50\n",
      "1063/1063 [==============================] - 2s 2ms/step - loss: 0.8426 - accuracy: 0.6832 - val_loss: 0.5611 - val_accuracy: 0.7158\n",
      "Epoch 2/50\n",
      "1063/1063 [==============================] - 2s 2ms/step - loss: 0.7441 - accuracy: 0.7169 - val_loss: 0.5587 - val_accuracy: 0.7213\n",
      "Epoch 3/50\n",
      "1063/1063 [==============================] - 2s 2ms/step - loss: 0.7316 - accuracy: 0.7250 - val_loss: 0.5570 - val_accuracy: 0.7247\n",
      "Epoch 4/50\n",
      "1063/1063 [==============================] - 2s 2ms/step - loss: 0.7216 - accuracy: 0.7296 - val_loss: 0.5349 - val_accuracy: 0.7318\n",
      "Epoch 5/50\n",
      "1063/1063 [==============================] - 2s 2ms/step - loss: 0.7146 - accuracy: 0.7346 - val_loss: 0.5411 - val_accuracy: 0.7370\n",
      "Epoch 6/50\n",
      "1063/1063 [==============================] - 2s 2ms/step - loss: 0.7108 - accuracy: 0.7367 - val_loss: 0.5327 - val_accuracy: 0.7400\n",
      "Epoch 7/50\n",
      "1063/1063 [==============================] - 2s 2ms/step - loss: 0.7066 - accuracy: 0.7366 - val_loss: 0.5319 - val_accuracy: 0.7393\n",
      "Epoch 8/50\n",
      "1063/1063 [==============================] - 2s 2ms/step - loss: 0.7037 - accuracy: 0.7384 - val_loss: 0.5372 - val_accuracy: 0.7360\n",
      "Epoch 9/50\n",
      "1063/1063 [==============================] - 2s 2ms/step - loss: 0.7025 - accuracy: 0.7377 - val_loss: 0.5303 - val_accuracy: 0.7412\n",
      "Epoch 10/50\n",
      "1063/1063 [==============================] - 2s 2ms/step - loss: 0.6986 - accuracy: 0.7431 - val_loss: 0.5279 - val_accuracy: 0.7425\n",
      "Epoch 11/50\n",
      "1063/1063 [==============================] - 2s 2ms/step - loss: 0.7008 - accuracy: 0.7418 - val_loss: 0.5302 - val_accuracy: 0.7408\n",
      "Epoch 12/50\n",
      "1063/1063 [==============================] - 2s 2ms/step - loss: 0.7002 - accuracy: 0.7421 - val_loss: 0.5299 - val_accuracy: 0.7422\n",
      "Epoch 13/50\n",
      "1063/1063 [==============================] - 2s 2ms/step - loss: 0.7012 - accuracy: 0.7415 - val_loss: 0.5326 - val_accuracy: 0.7388\n",
      "Epoch 14/50\n",
      "1063/1063 [==============================] - 2s 2ms/step - loss: 0.6976 - accuracy: 0.7417 - val_loss: 0.5359 - val_accuracy: 0.7373\n",
      "Epoch 15/50\n",
      "1063/1063 [==============================] - 2s 2ms/step - loss: 0.6997 - accuracy: 0.7397 - val_loss: 0.5326 - val_accuracy: 0.7410\n",
      "Epoch 16/50\n",
      "1063/1063 [==============================] - 2s 2ms/step - loss: 0.6982 - accuracy: 0.7413 - val_loss: 0.5326 - val_accuracy: 0.7393\n",
      "Epoch 17/50\n",
      "1063/1063 [==============================] - 2s 2ms/step - loss: 0.6993 - accuracy: 0.7424 - val_loss: 0.5279 - val_accuracy: 0.7425\n",
      "Epoch 18/50\n",
      "1063/1063 [==============================] - 2s 2ms/step - loss: 0.6998 - accuracy: 0.7404 - val_loss: 0.5312 - val_accuracy: 0.7393\n",
      "Epoch 19/50\n",
      "1063/1063 [==============================] - 2s 2ms/step - loss: 0.6992 - accuracy: 0.7444 - val_loss: 0.5307 - val_accuracy: 0.7415\n",
      "Epoch 20/50\n",
      "1063/1063 [==============================] - 2s 2ms/step - loss: 0.6967 - accuracy: 0.7441 - val_loss: 0.5272 - val_accuracy: 0.7428\n",
      "Epoch 21/50\n",
      "1063/1063 [==============================] - 2s 2ms/step - loss: 0.6970 - accuracy: 0.7419 - val_loss: 0.5268 - val_accuracy: 0.7430\n",
      "Epoch 22/50\n",
      "1063/1063 [==============================] - 2s 2ms/step - loss: 0.6978 - accuracy: 0.7414 - val_loss: 0.5304 - val_accuracy: 0.7417\n",
      "Epoch 23/50\n",
      "1063/1063 [==============================] - 2s 2ms/step - loss: 0.6945 - accuracy: 0.7430 - val_loss: 0.5306 - val_accuracy: 0.7410\n",
      "Epoch 24/50\n",
      "1063/1063 [==============================] - 2s 2ms/step - loss: 0.6984 - accuracy: 0.7419 - val_loss: 0.5316 - val_accuracy: 0.7402\n",
      "Epoch 25/50\n",
      "1063/1063 [==============================] - 2s 2ms/step - loss: 0.7018 - accuracy: 0.7403 - val_loss: 0.5294 - val_accuracy: 0.7415\n",
      "Epoch 26/50\n",
      "1063/1063 [==============================] - 2s 2ms/step - loss: 0.6952 - accuracy: 0.7414 - val_loss: 0.5285 - val_accuracy: 0.7418\n",
      "Epoch 27/50\n",
      "1063/1063 [==============================] - 2s 2ms/step - loss: 0.6989 - accuracy: 0.7419 - val_loss: 0.5350 - val_accuracy: 0.7390\n",
      "Epoch 28/50\n",
      "1063/1063 [==============================] - 2s 2ms/step - loss: 0.6989 - accuracy: 0.7424 - val_loss: 0.5280 - val_accuracy: 0.7428\n",
      "Epoch 29/50\n",
      "1063/1063 [==============================] - 2s 2ms/step - loss: 0.6984 - accuracy: 0.7434 - val_loss: 0.5285 - val_accuracy: 0.7422\n",
      "Epoch 30/50\n",
      "1063/1063 [==============================] - 2s 2ms/step - loss: 0.6996 - accuracy: 0.7426 - val_loss: 0.5358 - val_accuracy: 0.7365\n",
      "Epoch 31/50\n",
      "1063/1063 [==============================] - 2s 2ms/step - loss: 0.6980 - accuracy: 0.7415 - val_loss: 0.5294 - val_accuracy: 0.7410\n"
     ]
    },
    {
     "name": "stderr",
     "output_type": "stream",
     "text": [
      "\u001b[32m[I 2021-03-05 17:24:15,485]\u001b[0m Trial 10 finished with value: 0.8322957393768563 and parameters: {'step': 4, 'no._units': 313, 'number': 2, 'best_weight': {0: 1.0, 1: 2.0}}. Best is trial 10 with value: 0.8322957393768563.\u001b[0m\n"
     ]
    },
    {
     "name": "stdout",
     "output_type": "stream",
     "text": [
      "Epoch 1/50\n",
      "1063/1063 [==============================] - 2s 2ms/step - loss: 0.8465 - accuracy: 0.6792 - val_loss: 0.5740 - val_accuracy: 0.6983\n",
      "Epoch 2/50\n",
      "1063/1063 [==============================] - 2s 2ms/step - loss: 0.7439 - accuracy: 0.7196 - val_loss: 0.5570 - val_accuracy: 0.7350\n",
      "Epoch 3/50\n",
      "1063/1063 [==============================] - 2s 2ms/step - loss: 0.7312 - accuracy: 0.7289 - val_loss: 0.5608 - val_accuracy: 0.7245\n",
      "Epoch 4/50\n",
      "1063/1063 [==============================] - 2s 2ms/step - loss: 0.7200 - accuracy: 0.7298 - val_loss: 0.5776 - val_accuracy: 0.7040\n",
      "Epoch 5/50\n",
      "1063/1063 [==============================] - 2s 2ms/step - loss: 0.7143 - accuracy: 0.7352 - val_loss: 0.5477 - val_accuracy: 0.7295\n",
      "Epoch 6/50\n",
      "1063/1063 [==============================] - 2s 2ms/step - loss: 0.7058 - accuracy: 0.7376 - val_loss: 0.5355 - val_accuracy: 0.7363\n",
      "Epoch 7/50\n",
      "1063/1063 [==============================] - 2s 2ms/step - loss: 0.7033 - accuracy: 0.7392 - val_loss: 0.5324 - val_accuracy: 0.7380\n",
      "Epoch 8/50\n",
      "1063/1063 [==============================] - 2s 2ms/step - loss: 0.7007 - accuracy: 0.7409 - val_loss: 0.5386 - val_accuracy: 0.7370\n",
      "Epoch 9/50\n",
      "1063/1063 [==============================] - 2s 2ms/step - loss: 0.6967 - accuracy: 0.7432 - val_loss: 0.5275 - val_accuracy: 0.7402\n",
      "Epoch 10/50\n",
      "1063/1063 [==============================] - 2s 2ms/step - loss: 0.6977 - accuracy: 0.7404 - val_loss: 0.5287 - val_accuracy: 0.7427\n",
      "Epoch 11/50\n",
      "1063/1063 [==============================] - 2s 2ms/step - loss: 0.6960 - accuracy: 0.7442 - val_loss: 0.5292 - val_accuracy: 0.7410\n",
      "Epoch 12/50\n",
      "1063/1063 [==============================] - 2s 2ms/step - loss: 0.6961 - accuracy: 0.7391 - val_loss: 0.5282 - val_accuracy: 0.7423\n",
      "Epoch 13/50\n",
      "1063/1063 [==============================] - 2s 2ms/step - loss: 0.6988 - accuracy: 0.7406 - val_loss: 0.5231 - val_accuracy: 0.7435\n",
      "Epoch 14/50\n",
      "1063/1063 [==============================] - 2s 2ms/step - loss: 0.6960 - accuracy: 0.7433 - val_loss: 0.5284 - val_accuracy: 0.7408\n",
      "Epoch 15/50\n",
      "1063/1063 [==============================] - 2s 2ms/step - loss: 0.6968 - accuracy: 0.7434 - val_loss: 0.5239 - val_accuracy: 0.7427\n",
      "Epoch 16/50\n",
      "1063/1063 [==============================] - 2s 2ms/step - loss: 0.6960 - accuracy: 0.7444 - val_loss: 0.5280 - val_accuracy: 0.7415\n",
      "Epoch 17/50\n",
      "1063/1063 [==============================] - 2s 2ms/step - loss: 0.6978 - accuracy: 0.7413 - val_loss: 0.5232 - val_accuracy: 0.7437\n",
      "Epoch 18/50\n",
      "1063/1063 [==============================] - 2s 2ms/step - loss: 0.6972 - accuracy: 0.7426 - val_loss: 0.5302 - val_accuracy: 0.7417\n",
      "Epoch 19/50\n",
      "1063/1063 [==============================] - 2s 2ms/step - loss: 0.6961 - accuracy: 0.7435 - val_loss: 0.5276 - val_accuracy: 0.7428\n",
      "Epoch 20/50\n",
      "1063/1063 [==============================] - 2s 2ms/step - loss: 0.6972 - accuracy: 0.7401 - val_loss: 0.5238 - val_accuracy: 0.7443\n",
      "Epoch 21/50\n",
      "1063/1063 [==============================] - 2s 2ms/step - loss: 0.6976 - accuracy: 0.7408 - val_loss: 0.5257 - val_accuracy: 0.7420\n",
      "Epoch 22/50\n",
      "1063/1063 [==============================] - 2s 2ms/step - loss: 0.6935 - accuracy: 0.7454 - val_loss: 0.5275 - val_accuracy: 0.7412\n",
      "Epoch 23/50\n",
      "1063/1063 [==============================] - 2s 2ms/step - loss: 0.6965 - accuracy: 0.7444 - val_loss: 0.5281 - val_accuracy: 0.7423\n"
     ]
    },
    {
     "name": "stderr",
     "output_type": "stream",
     "text": [
      "\u001b[32m[I 2021-03-05 17:25:04,352]\u001b[0m Trial 11 finished with value: 0.8344829860163969 and parameters: {'step': 4, 'no._units': 323, 'number': 2, 'best_weight': {0: 1.0, 1: 2.0}}. Best is trial 11 with value: 0.8344829860163969.\u001b[0m\n"
     ]
    },
    {
     "name": "stdout",
     "output_type": "stream",
     "text": [
      "Epoch 1/50\n",
      "1063/1063 [==============================] - 2s 2ms/step - loss: 0.8582 - accuracy: 0.6816 - val_loss: 0.5475 - val_accuracy: 0.7133\n",
      "Epoch 2/50\n",
      "1063/1063 [==============================] - 2s 2ms/step - loss: 0.7470 - accuracy: 0.7184 - val_loss: 0.5357 - val_accuracy: 0.7387\n",
      "Epoch 3/50\n",
      "1063/1063 [==============================] - 2s 2ms/step - loss: 0.7304 - accuracy: 0.7270 - val_loss: 0.5101 - val_accuracy: 0.7528\n",
      "Epoch 4/50\n",
      "1063/1063 [==============================] - 2s 2ms/step - loss: 0.7202 - accuracy: 0.7327 - val_loss: 0.5437 - val_accuracy: 0.7308\n",
      "Epoch 5/50\n",
      "1063/1063 [==============================] - 2s 2ms/step - loss: 0.7098 - accuracy: 0.7360 - val_loss: 0.5422 - val_accuracy: 0.7290\n",
      "Epoch 6/50\n",
      "1063/1063 [==============================] - 2s 2ms/step - loss: 0.7035 - accuracy: 0.7380 - val_loss: 0.5222 - val_accuracy: 0.7418\n",
      "Epoch 7/50\n",
      "1063/1063 [==============================] - 2s 2ms/step - loss: 0.7020 - accuracy: 0.7421 - val_loss: 0.5177 - val_accuracy: 0.7448\n",
      "Epoch 8/50\n",
      "1063/1063 [==============================] - 2s 2ms/step - loss: 0.7000 - accuracy: 0.7419 - val_loss: 0.5336 - val_accuracy: 0.7375\n",
      "Epoch 9/50\n",
      "1063/1063 [==============================] - 2s 2ms/step - loss: 0.7013 - accuracy: 0.7402 - val_loss: 0.5209 - val_accuracy: 0.7448\n",
      "Epoch 10/50\n",
      "1063/1063 [==============================] - 2s 2ms/step - loss: 0.6981 - accuracy: 0.7420 - val_loss: 0.5258 - val_accuracy: 0.7422\n",
      "Epoch 11/50\n",
      "1063/1063 [==============================] - 2s 2ms/step - loss: 0.6985 - accuracy: 0.7407 - val_loss: 0.5302 - val_accuracy: 0.7400\n",
      "Epoch 12/50\n",
      "1063/1063 [==============================] - 2s 2ms/step - loss: 0.7003 - accuracy: 0.7407 - val_loss: 0.5303 - val_accuracy: 0.7403\n",
      "Epoch 13/50\n",
      "1063/1063 [==============================] - 2s 2ms/step - loss: 0.6981 - accuracy: 0.7447 - val_loss: 0.5275 - val_accuracy: 0.7417\n"
     ]
    },
    {
     "name": "stderr",
     "output_type": "stream",
     "text": [
      "\u001b[32m[I 2021-03-05 17:25:32,364]\u001b[0m Trial 12 finished with value: 0.8198170855875311 and parameters: {'step': 4, 'no._units': 329, 'number': 2, 'best_weight': {0: 1.0, 1: 2.0}}. Best is trial 11 with value: 0.8344829860163969.\u001b[0m\n"
     ]
    },
    {
     "name": "stdout",
     "output_type": "stream",
     "text": [
      "Epoch 1/50\n",
      "1063/1063 [==============================] - 2s 2ms/step - loss: 0.8555 - accuracy: 0.6774 - val_loss: 0.5636 - val_accuracy: 0.7182\n",
      "Epoch 2/50\n",
      "1063/1063 [==============================] - 2s 2ms/step - loss: 0.7473 - accuracy: 0.7165 - val_loss: 0.5424 - val_accuracy: 0.7305\n",
      "Epoch 3/50\n",
      "1063/1063 [==============================] - 2s 2ms/step - loss: 0.7308 - accuracy: 0.7289 - val_loss: 0.5315 - val_accuracy: 0.7337\n",
      "Epoch 4/50\n",
      "1063/1063 [==============================] - 2s 2ms/step - loss: 0.7180 - accuracy: 0.7316 - val_loss: 0.5506 - val_accuracy: 0.7298\n",
      "Epoch 5/50\n",
      "1063/1063 [==============================] - 2s 2ms/step - loss: 0.7106 - accuracy: 0.7344 - val_loss: 0.5286 - val_accuracy: 0.7383\n",
      "Epoch 6/50\n",
      "1063/1063 [==============================] - 2s 2ms/step - loss: 0.7049 - accuracy: 0.7388 - val_loss: 0.5372 - val_accuracy: 0.7370\n",
      "Epoch 7/50\n",
      "1063/1063 [==============================] - 2s 2ms/step - loss: 0.7012 - accuracy: 0.7409 - val_loss: 0.5333 - val_accuracy: 0.7410\n",
      "Epoch 8/50\n",
      "1063/1063 [==============================] - 2s 2ms/step - loss: 0.6985 - accuracy: 0.7409 - val_loss: 0.5345 - val_accuracy: 0.7400\n",
      "Epoch 9/50\n",
      "1063/1063 [==============================] - 2s 2ms/step - loss: 0.6982 - accuracy: 0.7403 - val_loss: 0.5365 - val_accuracy: 0.7395\n",
      "Epoch 10/50\n",
      "1063/1063 [==============================] - 2s 2ms/step - loss: 0.6974 - accuracy: 0.7400 - val_loss: 0.5302 - val_accuracy: 0.7443\n",
      "Epoch 11/50\n",
      "1063/1063 [==============================] - 2s 2ms/step - loss: 0.6953 - accuracy: 0.7428 - val_loss: 0.5286 - val_accuracy: 0.7448\n",
      "Epoch 12/50\n",
      "1063/1063 [==============================] - 2s 2ms/step - loss: 0.6933 - accuracy: 0.7419 - val_loss: 0.5313 - val_accuracy: 0.7427\n",
      "Epoch 13/50\n",
      "1063/1063 [==============================] - 2s 2ms/step - loss: 0.6967 - accuracy: 0.7429 - val_loss: 0.5325 - val_accuracy: 0.7403\n",
      "Epoch 14/50\n",
      "1063/1063 [==============================] - 2s 2ms/step - loss: 0.6976 - accuracy: 0.7434 - val_loss: 0.5304 - val_accuracy: 0.7403\n",
      "Epoch 15/50\n",
      "1063/1063 [==============================] - 2s 2ms/step - loss: 0.6964 - accuracy: 0.7402 - val_loss: 0.5271 - val_accuracy: 0.7425\n",
      "Epoch 16/50\n",
      "1063/1063 [==============================] - 2s 2ms/step - loss: 0.6966 - accuracy: 0.7407 - val_loss: 0.5268 - val_accuracy: 0.7437\n",
      "Epoch 17/50\n",
      "1063/1063 [==============================] - 2s 2ms/step - loss: 0.6962 - accuracy: 0.7408 - val_loss: 0.5274 - val_accuracy: 0.7437\n",
      "Epoch 18/50\n",
      "1063/1063 [==============================] - 2s 2ms/step - loss: 0.6939 - accuracy: 0.7418 - val_loss: 0.5242 - val_accuracy: 0.7453\n",
      "Epoch 19/50\n",
      "1063/1063 [==============================] - 2s 2ms/step - loss: 0.6969 - accuracy: 0.7429 - val_loss: 0.5285 - val_accuracy: 0.7428\n",
      "Epoch 20/50\n",
      "1063/1063 [==============================] - 2s 2ms/step - loss: 0.6954 - accuracy: 0.7417 - val_loss: 0.5284 - val_accuracy: 0.7425\n",
      "Epoch 21/50\n",
      "1063/1063 [==============================] - 2s 2ms/step - loss: 0.6987 - accuracy: 0.7388 - val_loss: 0.5311 - val_accuracy: 0.7413\n",
      "Epoch 22/50\n",
      "1063/1063 [==============================] - 2s 2ms/step - loss: 0.6958 - accuracy: 0.7427 - val_loss: 0.5268 - val_accuracy: 0.7442\n",
      "Epoch 23/50\n",
      "1063/1063 [==============================] - 2s 2ms/step - loss: 0.6946 - accuracy: 0.7425 - val_loss: 0.5288 - val_accuracy: 0.7437\n",
      "Epoch 24/50\n",
      "1063/1063 [==============================] - 2s 2ms/step - loss: 0.6971 - accuracy: 0.7401 - val_loss: 0.5282 - val_accuracy: 0.7425\n",
      "Epoch 25/50\n",
      "1063/1063 [==============================] - 2s 2ms/step - loss: 0.6947 - accuracy: 0.7424 - val_loss: 0.5283 - val_accuracy: 0.7438\n",
      "Epoch 26/50\n",
      "1063/1063 [==============================] - 2s 2ms/step - loss: 0.6965 - accuracy: 0.7404 - val_loss: 0.5303 - val_accuracy: 0.7402\n",
      "Epoch 27/50\n",
      "1063/1063 [==============================] - 2s 2ms/step - loss: 0.6972 - accuracy: 0.7414 - val_loss: 0.5282 - val_accuracy: 0.7415\n",
      "Epoch 28/50\n",
      "1063/1063 [==============================] - 2s 2ms/step - loss: 0.6974 - accuracy: 0.7410 - val_loss: 0.5290 - val_accuracy: 0.7425\n"
     ]
    },
    {
     "name": "stderr",
     "output_type": "stream",
     "text": [
      "\u001b[32m[I 2021-03-05 17:26:30,649]\u001b[0m Trial 13 finished with value: 0.8339252378273323 and parameters: {'step': 4, 'no._units': 336, 'number': 2, 'best_weight': {0: 1.0, 1: 2.0}}. Best is trial 11 with value: 0.8344829860163969.\u001b[0m\n"
     ]
    },
    {
     "name": "stdout",
     "output_type": "stream",
     "text": [
      "Epoch 1/50\n",
      "1063/1063 [==============================] - 2s 2ms/step - loss: 0.9250 - accuracy: 0.6696 - val_loss: 0.6815 - val_accuracy: 0.6130\n",
      "Epoch 2/50\n",
      "1063/1063 [==============================] - 2s 2ms/step - loss: 0.7446 - accuracy: 0.7201 - val_loss: 0.5414 - val_accuracy: 0.7333\n",
      "Epoch 3/50\n",
      "1063/1063 [==============================] - 2s 2ms/step - loss: 0.7263 - accuracy: 0.7289 - val_loss: 0.5510 - val_accuracy: 0.7297\n",
      "Epoch 4/50\n",
      "1063/1063 [==============================] - 2s 2ms/step - loss: 0.7173 - accuracy: 0.7325 - val_loss: 0.5422 - val_accuracy: 0.7307\n",
      "Epoch 5/50\n",
      "1063/1063 [==============================] - 2s 2ms/step - loss: 0.7063 - accuracy: 0.7359 - val_loss: 0.5324 - val_accuracy: 0.7398\n",
      "Epoch 6/50\n",
      "1063/1063 [==============================] - 2s 2ms/step - loss: 0.7055 - accuracy: 0.7391 - val_loss: 0.5406 - val_accuracy: 0.7328\n",
      "Epoch 7/50\n",
      "1063/1063 [==============================] - 2s 2ms/step - loss: 0.7018 - accuracy: 0.7415 - val_loss: 0.5276 - val_accuracy: 0.7390\n",
      "Epoch 8/50\n",
      "1063/1063 [==============================] - 2s 2ms/step - loss: 0.7026 - accuracy: 0.7399 - val_loss: 0.5313 - val_accuracy: 0.7388\n",
      "Epoch 9/50\n",
      "1063/1063 [==============================] - 2s 2ms/step - loss: 0.6997 - accuracy: 0.7421 - val_loss: 0.5330 - val_accuracy: 0.7363\n",
      "Epoch 10/50\n",
      "1063/1063 [==============================] - 2s 2ms/step - loss: 0.7024 - accuracy: 0.7414 - val_loss: 0.5349 - val_accuracy: 0.7358\n",
      "Epoch 11/50\n",
      "1063/1063 [==============================] - 2s 2ms/step - loss: 0.7004 - accuracy: 0.7404 - val_loss: 0.5344 - val_accuracy: 0.7363\n",
      "Epoch 12/50\n",
      "1063/1063 [==============================] - 2s 2ms/step - loss: 0.6998 - accuracy: 0.7387 - val_loss: 0.5342 - val_accuracy: 0.7375\n",
      "Epoch 13/50\n",
      "1063/1063 [==============================] - 2s 2ms/step - loss: 0.7000 - accuracy: 0.7424 - val_loss: 0.5344 - val_accuracy: 0.7377\n",
      "Epoch 14/50\n",
      "1063/1063 [==============================] - 2s 2ms/step - loss: 0.7013 - accuracy: 0.7405 - val_loss: 0.5334 - val_accuracy: 0.7368\n",
      "Epoch 15/50\n",
      "1063/1063 [==============================] - 2s 2ms/step - loss: 0.7007 - accuracy: 0.7403 - val_loss: 0.5283 - val_accuracy: 0.7400\n",
      "Epoch 16/50\n",
      "1063/1063 [==============================] - 2s 2ms/step - loss: 0.6984 - accuracy: 0.7421 - val_loss: 0.5316 - val_accuracy: 0.7368\n",
      "Epoch 17/50\n",
      "1063/1063 [==============================] - 2s 2ms/step - loss: 0.6997 - accuracy: 0.7402 - val_loss: 0.5310 - val_accuracy: 0.7375\n"
     ]
    },
    {
     "name": "stderr",
     "output_type": "stream",
     "text": [
      "\u001b[32m[I 2021-03-05 17:27:07,991]\u001b[0m Trial 14 finished with value: 0.8322124500856216 and parameters: {'step': 3, 'no._units': 499, 'number': 2, 'best_weight': {0: 1.0, 1: 2.0}}. Best is trial 11 with value: 0.8344829860163969.\u001b[0m\n"
     ]
    },
    {
     "name": "stdout",
     "output_type": "stream",
     "text": [
      "Epoch 1/50\n",
      "1063/1063 [==============================] - 2s 2ms/step - loss: 0.8549 - accuracy: 0.6811 - val_loss: 0.6277 - val_accuracy: 0.6607\n",
      "Epoch 2/50\n",
      "1063/1063 [==============================] - 2s 2ms/step - loss: 0.7455 - accuracy: 0.7185 - val_loss: 0.5312 - val_accuracy: 0.7435\n",
      "Epoch 3/50\n",
      "1063/1063 [==============================] - 2s 2ms/step - loss: 0.7275 - accuracy: 0.7299 - val_loss: 0.5555 - val_accuracy: 0.7240\n",
      "Epoch 4/50\n",
      "1063/1063 [==============================] - 2s 2ms/step - loss: 0.7228 - accuracy: 0.7312 - val_loss: 0.5752 - val_accuracy: 0.7123\n",
      "Epoch 5/50\n",
      "1063/1063 [==============================] - 2s 2ms/step - loss: 0.7123 - accuracy: 0.7348 - val_loss: 0.5526 - val_accuracy: 0.7278\n",
      "Epoch 6/50\n",
      "1063/1063 [==============================] - 2s 2ms/step - loss: 0.7097 - accuracy: 0.7361 - val_loss: 0.5358 - val_accuracy: 0.7405\n",
      "Epoch 7/50\n",
      "1063/1063 [==============================] - 2s 2ms/step - loss: 0.7041 - accuracy: 0.7385 - val_loss: 0.5322 - val_accuracy: 0.7388\n",
      "Epoch 8/50\n",
      "1063/1063 [==============================] - 2s 2ms/step - loss: 0.6996 - accuracy: 0.7418 - val_loss: 0.5282 - val_accuracy: 0.7430\n",
      "Epoch 9/50\n",
      "1063/1063 [==============================] - 2s 2ms/step - loss: 0.7012 - accuracy: 0.7393 - val_loss: 0.5267 - val_accuracy: 0.7420\n",
      "Epoch 10/50\n",
      "1063/1063 [==============================] - 2s 2ms/step - loss: 0.6981 - accuracy: 0.7428 - val_loss: 0.5271 - val_accuracy: 0.7428\n",
      "Epoch 11/50\n",
      "1063/1063 [==============================] - 2s 2ms/step - loss: 0.6967 - accuracy: 0.7426 - val_loss: 0.5244 - val_accuracy: 0.7443\n",
      "Epoch 12/50\n",
      "1063/1063 [==============================] - 2s 2ms/step - loss: 0.6977 - accuracy: 0.7428 - val_loss: 0.5235 - val_accuracy: 0.7440\n",
      "Epoch 13/50\n",
      "1063/1063 [==============================] - 2s 2ms/step - loss: 0.6989 - accuracy: 0.7436 - val_loss: 0.5229 - val_accuracy: 0.7430\n",
      "Epoch 14/50\n",
      "1063/1063 [==============================] - 2s 2ms/step - loss: 0.6981 - accuracy: 0.7428 - val_loss: 0.5281 - val_accuracy: 0.7407\n",
      "Epoch 15/50\n",
      "1063/1063 [==============================] - 2s 2ms/step - loss: 0.6983 - accuracy: 0.7426 - val_loss: 0.5313 - val_accuracy: 0.7412\n",
      "Epoch 16/50\n",
      "1063/1063 [==============================] - 2s 2ms/step - loss: 0.6979 - accuracy: 0.7411 - val_loss: 0.5284 - val_accuracy: 0.7420\n",
      "Epoch 17/50\n",
      "1063/1063 [==============================] - 2s 2ms/step - loss: 0.6990 - accuracy: 0.7429 - val_loss: 0.5294 - val_accuracy: 0.7415\n",
      "Epoch 18/50\n",
      "1063/1063 [==============================] - 2s 2ms/step - loss: 0.6965 - accuracy: 0.7437 - val_loss: 0.5288 - val_accuracy: 0.7422\n",
      "Epoch 19/50\n",
      "1063/1063 [==============================] - 2s 2ms/step - loss: 0.6961 - accuracy: 0.7424 - val_loss: 0.5301 - val_accuracy: 0.7415\n",
      "Epoch 20/50\n",
      "1063/1063 [==============================] - 2s 2ms/step - loss: 0.6963 - accuracy: 0.7431 - val_loss: 0.5264 - val_accuracy: 0.7442\n",
      "Epoch 21/50\n",
      "1063/1063 [==============================] - 2s 2ms/step - loss: 0.6984 - accuracy: 0.7413 - val_loss: 0.5310 - val_accuracy: 0.7402\n",
      "Epoch 22/50\n",
      "1063/1063 [==============================] - 2s 2ms/step - loss: 0.6973 - accuracy: 0.7410 - val_loss: 0.5262 - val_accuracy: 0.7430\n",
      "Epoch 23/50\n",
      "1063/1063 [==============================] - 2s 2ms/step - loss: 0.6986 - accuracy: 0.7418 - val_loss: 0.5259 - val_accuracy: 0.7448\n"
     ]
    },
    {
     "name": "stderr",
     "output_type": "stream",
     "text": [
      "\u001b[32m[I 2021-03-05 17:27:55,856]\u001b[0m Trial 15 finished with value: 0.8330464677289809 and parameters: {'step': 4, 'no._units': 346, 'number': 2, 'best_weight': {0: 1.0, 1: 2.0}}. Best is trial 11 with value: 0.8344829860163969.\u001b[0m\n"
     ]
    },
    {
     "name": "stdout",
     "output_type": "stream",
     "text": [
      "Epoch 1/50\n",
      "1063/1063 [==============================] - 2s 2ms/step - loss: 0.8613 - accuracy: 0.6759 - val_loss: 0.5984 - val_accuracy: 0.6987\n",
      "Epoch 2/50\n",
      "1063/1063 [==============================] - 2s 2ms/step - loss: 0.7497 - accuracy: 0.7223 - val_loss: 0.6065 - val_accuracy: 0.6962\n",
      "Epoch 3/50\n",
      "1063/1063 [==============================] - 2s 2ms/step - loss: 0.7232 - accuracy: 0.7353 - val_loss: 0.5409 - val_accuracy: 0.7383\n",
      "Epoch 4/50\n",
      "1063/1063 [==============================] - 2s 2ms/step - loss: 0.7111 - accuracy: 0.7381 - val_loss: 0.4929 - val_accuracy: 0.7623\n",
      "Epoch 5/50\n",
      "1063/1063 [==============================] - 2s 2ms/step - loss: 0.7034 - accuracy: 0.7437 - val_loss: 0.5333 - val_accuracy: 0.7362\n",
      "Epoch 6/50\n",
      "1063/1063 [==============================] - 2s 2ms/step - loss: 0.6947 - accuracy: 0.7433 - val_loss: 0.5062 - val_accuracy: 0.7485\n",
      "Epoch 7/50\n",
      "1063/1063 [==============================] - 2s 2ms/step - loss: 0.6910 - accuracy: 0.7444 - val_loss: 0.5170 - val_accuracy: 0.7452\n",
      "Epoch 8/50\n",
      "1063/1063 [==============================] - 2s 2ms/step - loss: 0.6883 - accuracy: 0.7479 - val_loss: 0.5150 - val_accuracy: 0.7480\n",
      "Epoch 9/50\n",
      "1063/1063 [==============================] - 2s 2ms/step - loss: 0.6871 - accuracy: 0.7503 - val_loss: 0.5175 - val_accuracy: 0.7473\n",
      "Epoch 10/50\n",
      "1063/1063 [==============================] - 2s 2ms/step - loss: 0.6855 - accuracy: 0.7490 - val_loss: 0.5150 - val_accuracy: 0.7477\n",
      "Epoch 11/50\n",
      "1063/1063 [==============================] - 2s 2ms/step - loss: 0.6877 - accuracy: 0.7475 - val_loss: 0.5188 - val_accuracy: 0.7467\n",
      "Epoch 12/50\n",
      "1063/1063 [==============================] - 2s 2ms/step - loss: 0.6880 - accuracy: 0.7469 - val_loss: 0.5160 - val_accuracy: 0.7482\n",
      "Epoch 13/50\n",
      "1063/1063 [==============================] - 2s 2ms/step - loss: 0.6856 - accuracy: 0.7499 - val_loss: 0.5150 - val_accuracy: 0.7485\n",
      "Epoch 14/50\n",
      "1063/1063 [==============================] - 2s 2ms/step - loss: 0.6878 - accuracy: 0.7491 - val_loss: 0.5185 - val_accuracy: 0.7455\n"
     ]
    },
    {
     "name": "stderr",
     "output_type": "stream",
     "text": [
      "\u001b[32m[I 2021-03-05 17:28:28,165]\u001b[0m Trial 16 finished with value: 0.8324649225995636 and parameters: {'step': 3, 'no._units': 173, 'number': 3, 'best_weight': {0: 1.0, 1: 2.0}}. Best is trial 11 with value: 0.8344829860163969.\u001b[0m\n"
     ]
    },
    {
     "name": "stdout",
     "output_type": "stream",
     "text": [
      "Epoch 1/50\n",
      "1063/1063 [==============================] - 3s 3ms/step - loss: 1.3715 - accuracy: 0.5382 - val_loss: 2.1891 - val_accuracy: 0.3760\n",
      "Epoch 2/50\n",
      "1063/1063 [==============================] - 3s 2ms/step - loss: 1.0089 - accuracy: 0.4730 - val_loss: 0.7517 - val_accuracy: 0.3760\n",
      "Epoch 3/50\n",
      "1063/1063 [==============================] - 3s 2ms/step - loss: 0.9715 - accuracy: 0.4501 - val_loss: 0.9640 - val_accuracy: 0.3760\n",
      "Epoch 4/50\n",
      "1063/1063 [==============================] - 3s 2ms/step - loss: 0.9608 - accuracy: 0.4373 - val_loss: 0.7628 - val_accuracy: 0.3760\n",
      "Epoch 5/50\n",
      "1063/1063 [==============================] - 3s 3ms/step - loss: 0.9563 - accuracy: 0.4196 - val_loss: 0.6723 - val_accuracy: 0.6240\n",
      "Epoch 6/50\n",
      "1063/1063 [==============================] - 3s 3ms/step - loss: 0.9534 - accuracy: 0.4055 - val_loss: 0.7122 - val_accuracy: 0.3760\n",
      "Epoch 7/50\n",
      "1063/1063 [==============================] - 3s 3ms/step - loss: 0.9510 - accuracy: 0.3927 - val_loss: 0.7026 - val_accuracy: 0.3760\n",
      "Epoch 8/50\n",
      "1063/1063 [==============================] - 3s 2ms/step - loss: 0.9501 - accuracy: 0.3936 - val_loss: 0.7384 - val_accuracy: 0.3760\n",
      "Epoch 9/50\n",
      "1063/1063 [==============================] - 3s 3ms/step - loss: 0.9492 - accuracy: 0.3797 - val_loss: 0.7152 - val_accuracy: 0.3760\n",
      "Epoch 10/50\n",
      "1063/1063 [==============================] - 3s 3ms/step - loss: 0.9488 - accuracy: 0.3761 - val_loss: 0.7046 - val_accuracy: 0.3760\n",
      "Epoch 11/50\n",
      "1063/1063 [==============================] - 3s 3ms/step - loss: 0.9485 - accuracy: 0.3761 - val_loss: 0.7454 - val_accuracy: 0.3760\n",
      "Epoch 12/50\n",
      "1063/1063 [==============================] - 3s 3ms/step - loss: 0.9482 - accuracy: 0.3761 - val_loss: 0.7235 - val_accuracy: 0.3760\n",
      "Epoch 13/50\n",
      "1063/1063 [==============================] - 3s 3ms/step - loss: 0.9480 - accuracy: 0.3761 - val_loss: 0.7138 - val_accuracy: 0.3760\n",
      "Epoch 14/50\n",
      "1063/1063 [==============================] - 3s 3ms/step - loss: 0.9480 - accuracy: 0.3761 - val_loss: 0.7235 - val_accuracy: 0.3760\n",
      "Epoch 15/50\n",
      "1063/1063 [==============================] - 3s 3ms/step - loss: 0.9479 - accuracy: 0.3761 - val_loss: 0.7240 - val_accuracy: 0.3760\n"
     ]
    },
    {
     "name": "stderr",
     "output_type": "stream",
     "text": [
      "\u001b[32m[I 2021-03-05 17:29:10,158]\u001b[0m Trial 17 finished with value: 0.5 and parameters: {'step': 4, 'no._units': 293, 'number': 5, 'best_weight': {0: 1.0, 1: 2.0}}. Best is trial 11 with value: 0.8344829860163969.\u001b[0m\n"
     ]
    },
    {
     "name": "stdout",
     "output_type": "stream",
     "text": [
      "Epoch 1/50\n",
      "1063/1063 [==============================] - 2s 2ms/step - loss: 0.8799 - accuracy: 0.6755 - val_loss: 0.5317 - val_accuracy: 0.7403\n",
      "Epoch 2/50\n",
      "1063/1063 [==============================] - 2s 2ms/step - loss: 0.7428 - accuracy: 0.7199 - val_loss: 0.6702 - val_accuracy: 0.6738\n",
      "Epoch 3/50\n",
      "1063/1063 [==============================] - 2s 2ms/step - loss: 0.7262 - accuracy: 0.7266 - val_loss: 0.5121 - val_accuracy: 0.7487\n",
      "Epoch 4/50\n",
      "1063/1063 [==============================] - 2s 2ms/step - loss: 0.7120 - accuracy: 0.7353 - val_loss: 0.5045 - val_accuracy: 0.7542\n",
      "Epoch 5/50\n",
      "1063/1063 [==============================] - 2s 2ms/step - loss: 0.7041 - accuracy: 0.7386 - val_loss: 0.5245 - val_accuracy: 0.7432\n",
      "Epoch 6/50\n",
      "1063/1063 [==============================] - 2s 2ms/step - loss: 0.6997 - accuracy: 0.7418 - val_loss: 0.5324 - val_accuracy: 0.7423\n",
      "Epoch 7/50\n",
      "1063/1063 [==============================] - 2s 2ms/step - loss: 0.6986 - accuracy: 0.7409 - val_loss: 0.5187 - val_accuracy: 0.7452\n",
      "Epoch 8/50\n",
      "1063/1063 [==============================] - 2s 2ms/step - loss: 0.6976 - accuracy: 0.7435 - val_loss: 0.5248 - val_accuracy: 0.7450\n",
      "Epoch 9/50\n",
      "1063/1063 [==============================] - 2s 2ms/step - loss: 0.6971 - accuracy: 0.7444 - val_loss: 0.5264 - val_accuracy: 0.7443\n",
      "Epoch 10/50\n",
      "1063/1063 [==============================] - 2s 2ms/step - loss: 0.6986 - accuracy: 0.7414 - val_loss: 0.5248 - val_accuracy: 0.7453\n",
      "Epoch 11/50\n",
      "1063/1063 [==============================] - 2s 2ms/step - loss: 0.6963 - accuracy: 0.7429 - val_loss: 0.5274 - val_accuracy: 0.7440\n",
      "Epoch 12/50\n",
      "1063/1063 [==============================] - 2s 2ms/step - loss: 0.6985 - accuracy: 0.7411 - val_loss: 0.5270 - val_accuracy: 0.7428\n",
      "Epoch 13/50\n",
      "1063/1063 [==============================] - 2s 2ms/step - loss: 0.6962 - accuracy: 0.7424 - val_loss: 0.5260 - val_accuracy: 0.7452\n",
      "Epoch 14/50\n",
      "1063/1063 [==============================] - 2s 2ms/step - loss: 0.6971 - accuracy: 0.7434 - val_loss: 0.5259 - val_accuracy: 0.7440\n"
     ]
    },
    {
     "name": "stderr",
     "output_type": "stream",
     "text": [
      "\u001b[32m[I 2021-03-05 17:29:40,541]\u001b[0m Trial 18 finished with value: 0.8303821575513729 and parameters: {'step': 3, 'no._units': 364, 'number': 2, 'best_weight': {0: 1.0, 1: 2.0}}. Best is trial 11 with value: 0.8344829860163969.\u001b[0m\n"
     ]
    },
    {
     "name": "stdout",
     "output_type": "stream",
     "text": [
      "Epoch 1/50\n",
      "1063/1063 [==============================] - 3s 2ms/step - loss: 1.5764 - accuracy: 0.6131 - val_loss: 0.5776 - val_accuracy: 0.7455\n",
      "Epoch 2/50\n",
      "1063/1063 [==============================] - 2s 2ms/step - loss: 0.8789 - accuracy: 0.6851 - val_loss: 0.4992 - val_accuracy: 0.7577\n",
      "Epoch 3/50\n",
      "1063/1063 [==============================] - 2s 2ms/step - loss: 0.7638 - accuracy: 0.7192 - val_loss: 0.6447 - val_accuracy: 0.6928\n",
      "Epoch 4/50\n",
      "1063/1063 [==============================] - 2s 2ms/step - loss: 0.7381 - accuracy: 0.7301 - val_loss: 0.4969 - val_accuracy: 0.7627\n",
      "Epoch 5/50\n",
      "1063/1063 [==============================] - 2s 2ms/step - loss: 0.7214 - accuracy: 0.7358 - val_loss: 0.6006 - val_accuracy: 0.7048\n",
      "Epoch 6/50\n",
      "1063/1063 [==============================] - 2s 2ms/step - loss: 0.7120 - accuracy: 0.7383 - val_loss: 0.5155 - val_accuracy: 0.7457\n",
      "Epoch 7/50\n",
      "1063/1063 [==============================] - 2s 2ms/step - loss: 0.7042 - accuracy: 0.7423 - val_loss: 0.5195 - val_accuracy: 0.7452\n",
      "Epoch 8/50\n",
      "1063/1063 [==============================] - 2s 2ms/step - loss: 0.7012 - accuracy: 0.7441 - val_loss: 0.5685 - val_accuracy: 0.7248\n",
      "Epoch 9/50\n",
      "1063/1063 [==============================] - 2s 2ms/step - loss: 0.7004 - accuracy: 0.7404 - val_loss: 0.5437 - val_accuracy: 0.7327\n",
      "Epoch 10/50\n",
      "1063/1063 [==============================] - 2s 2ms/step - loss: 0.6960 - accuracy: 0.7432 - val_loss: 0.5257 - val_accuracy: 0.7418\n",
      "Epoch 11/50\n",
      "1063/1063 [==============================] - 2s 2ms/step - loss: 0.6959 - accuracy: 0.7456 - val_loss: 0.5334 - val_accuracy: 0.7397\n",
      "Epoch 12/50\n",
      "1063/1063 [==============================] - 2s 2ms/step - loss: 0.6926 - accuracy: 0.7464 - val_loss: 0.5317 - val_accuracy: 0.7405\n",
      "Epoch 13/50\n",
      "1063/1063 [==============================] - 2s 2ms/step - loss: 0.6953 - accuracy: 0.7434 - val_loss: 0.5318 - val_accuracy: 0.7392\n",
      "Epoch 14/50\n",
      "1063/1063 [==============================] - 2s 2ms/step - loss: 0.6932 - accuracy: 0.7444 - val_loss: 0.5333 - val_accuracy: 0.7387\n"
     ]
    },
    {
     "name": "stderr",
     "output_type": "stream",
     "text": [
      "\u001b[32m[I 2021-03-05 17:30:16,039]\u001b[0m Trial 19 finished with value: 0.8260438924501424 and parameters: {'step': 4, 'no._units': 475, 'number': 3, 'best_weight': {0: 1.0, 1: 2.0}}. Best is trial 11 with value: 0.8344829860163969.\u001b[0m\n"
     ]
    },
    {
     "name": "stdout",
     "output_type": "stream",
     "text": [
      "Epoch 1/50\n",
      "1063/1063 [==============================] - 2s 2ms/step - loss: 1.1586 - accuracy: 0.5967 - val_loss: 0.6252 - val_accuracy: 0.6725\n",
      "Epoch 2/50\n",
      "1063/1063 [==============================] - 2s 2ms/step - loss: 1.0296 - accuracy: 0.6274 - val_loss: 0.6996 - val_accuracy: 0.6153\n",
      "Epoch 3/50\n",
      "1063/1063 [==============================] - 2s 2ms/step - loss: 1.0061 - accuracy: 0.6432 - val_loss: 0.7157 - val_accuracy: 0.6397\n",
      "Epoch 4/50\n",
      "1063/1063 [==============================] - 2s 2ms/step - loss: 0.9942 - accuracy: 0.6468 - val_loss: 0.6052 - val_accuracy: 0.6970\n",
      "Epoch 5/50\n",
      "1063/1063 [==============================] - 2s 2ms/step - loss: 0.9817 - accuracy: 0.6549 - val_loss: 0.6372 - val_accuracy: 0.6857\n",
      "Epoch 6/50\n",
      "1063/1063 [==============================] - 2s 2ms/step - loss: 0.9763 - accuracy: 0.6560 - val_loss: 0.6302 - val_accuracy: 0.6835\n",
      "Epoch 7/50\n",
      "1063/1063 [==============================] - 2s 2ms/step - loss: 0.9684 - accuracy: 0.6627 - val_loss: 0.6788 - val_accuracy: 0.6523\n",
      "Epoch 8/50\n",
      "1063/1063 [==============================] - 2s 2ms/step - loss: 0.9657 - accuracy: 0.6616 - val_loss: 0.6387 - val_accuracy: 0.6843\n",
      "Epoch 9/50\n",
      "1063/1063 [==============================] - 2s 2ms/step - loss: 0.9617 - accuracy: 0.6644 - val_loss: 0.6458 - val_accuracy: 0.6758\n",
      "Epoch 10/50\n",
      "1063/1063 [==============================] - 2s 2ms/step - loss: 0.9593 - accuracy: 0.6625 - val_loss: 0.6378 - val_accuracy: 0.6823\n",
      "Epoch 11/50\n",
      "1063/1063 [==============================] - 2s 2ms/step - loss: 0.9545 - accuracy: 0.6691 - val_loss: 0.6429 - val_accuracy: 0.6773\n",
      "Epoch 12/50\n",
      "1063/1063 [==============================] - 2s 2ms/step - loss: 0.9579 - accuracy: 0.6661 - val_loss: 0.6452 - val_accuracy: 0.6750\n",
      "Epoch 13/50\n",
      "1063/1063 [==============================] - 2s 2ms/step - loss: 0.9590 - accuracy: 0.6632 - val_loss: 0.6338 - val_accuracy: 0.6825\n",
      "Epoch 14/50\n",
      "1063/1063 [==============================] - 2s 2ms/step - loss: 0.9557 - accuracy: 0.6661 - val_loss: 0.6435 - val_accuracy: 0.6757\n"
     ]
    },
    {
     "name": "stderr",
     "output_type": "stream",
     "text": [
      "\u001b[32m[I 2021-03-05 17:30:46,072]\u001b[0m Trial 20 finished with value: 0.8266832132357398 and parameters: {'step': 5, 'no._units': 280, 'number': 2, 'best_weight': {0: 1.0, 1: 4.0}}. Best is trial 11 with value: 0.8344829860163969.\u001b[0m\n"
     ]
    },
    {
     "name": "stdout",
     "output_type": "stream",
     "text": [
      "Epoch 1/50\n",
      "1063/1063 [==============================] - 2s 2ms/step - loss: 0.8537 - accuracy: 0.6832 - val_loss: 0.5936 - val_accuracy: 0.6883\n",
      "Epoch 2/50\n",
      "1063/1063 [==============================] - 2s 2ms/step - loss: 0.7430 - accuracy: 0.7214 - val_loss: 0.5498 - val_accuracy: 0.7260\n",
      "Epoch 3/50\n",
      "1063/1063 [==============================] - 2s 2ms/step - loss: 0.7309 - accuracy: 0.7290 - val_loss: 0.5693 - val_accuracy: 0.7190\n",
      "Epoch 4/50\n",
      "1063/1063 [==============================] - 2s 2ms/step - loss: 0.7196 - accuracy: 0.7341 - val_loss: 0.5343 - val_accuracy: 0.7340\n",
      "Epoch 5/50\n",
      "1063/1063 [==============================] - 2s 2ms/step - loss: 0.7132 - accuracy: 0.7366 - val_loss: 0.5311 - val_accuracy: 0.7430\n",
      "Epoch 6/50\n",
      "1063/1063 [==============================] - 2s 2ms/step - loss: 0.7079 - accuracy: 0.7384 - val_loss: 0.5313 - val_accuracy: 0.7390\n",
      "Epoch 7/50\n",
      "1063/1063 [==============================] - 2s 2ms/step - loss: 0.7020 - accuracy: 0.7405 - val_loss: 0.5349 - val_accuracy: 0.7347\n",
      "Epoch 8/50\n",
      "1063/1063 [==============================] - 2s 2ms/step - loss: 0.6987 - accuracy: 0.7416 - val_loss: 0.5313 - val_accuracy: 0.7395\n",
      "Epoch 9/50\n",
      "1063/1063 [==============================] - 2s 2ms/step - loss: 0.6988 - accuracy: 0.7421 - val_loss: 0.5312 - val_accuracy: 0.7420\n",
      "Epoch 10/50\n",
      "1063/1063 [==============================] - 2s 2ms/step - loss: 0.6993 - accuracy: 0.7417 - val_loss: 0.5343 - val_accuracy: 0.7365\n",
      "Epoch 11/50\n",
      "1063/1063 [==============================] - 2s 2ms/step - loss: 0.6995 - accuracy: 0.7403 - val_loss: 0.5322 - val_accuracy: 0.7397\n",
      "Epoch 12/50\n",
      "1063/1063 [==============================] - 2s 2ms/step - loss: 0.6991 - accuracy: 0.7406 - val_loss: 0.5315 - val_accuracy: 0.7408\n",
      "Epoch 13/50\n",
      "1063/1063 [==============================] - 2s 2ms/step - loss: 0.6994 - accuracy: 0.7425 - val_loss: 0.5375 - val_accuracy: 0.7368\n",
      "Epoch 14/50\n",
      "1063/1063 [==============================] - 2s 2ms/step - loss: 0.6987 - accuracy: 0.7430 - val_loss: 0.5301 - val_accuracy: 0.7420\n",
      "Epoch 15/50\n",
      "1063/1063 [==============================] - 2s 2ms/step - loss: 0.6987 - accuracy: 0.7408 - val_loss: 0.5304 - val_accuracy: 0.7407\n",
      "Epoch 16/50\n",
      "1063/1063 [==============================] - 2s 2ms/step - loss: 0.6987 - accuracy: 0.7408 - val_loss: 0.5285 - val_accuracy: 0.7425\n",
      "Epoch 17/50\n",
      "1063/1063 [==============================] - 2s 2ms/step - loss: 0.7005 - accuracy: 0.7436 - val_loss: 0.5290 - val_accuracy: 0.7418\n",
      "Epoch 18/50\n",
      "1063/1063 [==============================] - 2s 2ms/step - loss: 0.6952 - accuracy: 0.7439 - val_loss: 0.5323 - val_accuracy: 0.7397\n",
      "Epoch 19/50\n",
      "1063/1063 [==============================] - 2s 2ms/step - loss: 0.6958 - accuracy: 0.7433 - val_loss: 0.5298 - val_accuracy: 0.7413\n",
      "Epoch 20/50\n",
      "1063/1063 [==============================] - 2s 2ms/step - loss: 0.6992 - accuracy: 0.7415 - val_loss: 0.5269 - val_accuracy: 0.7435\n",
      "Epoch 21/50\n",
      "1063/1063 [==============================] - 2s 2ms/step - loss: 0.6970 - accuracy: 0.7427 - val_loss: 0.5329 - val_accuracy: 0.7387\n",
      "Epoch 22/50\n",
      "1063/1063 [==============================] - 2s 2ms/step - loss: 0.6970 - accuracy: 0.7430 - val_loss: 0.5299 - val_accuracy: 0.7408\n",
      "Epoch 23/50\n",
      "1063/1063 [==============================] - 2s 2ms/step - loss: 0.6972 - accuracy: 0.7423 - val_loss: 0.5316 - val_accuracy: 0.7395\n",
      "Epoch 24/50\n",
      "1063/1063 [==============================] - 2s 2ms/step - loss: 0.6981 - accuracy: 0.7440 - val_loss: 0.5294 - val_accuracy: 0.7418\n",
      "Epoch 25/50\n",
      "1063/1063 [==============================] - 2s 2ms/step - loss: 0.6983 - accuracy: 0.7418 - val_loss: 0.5298 - val_accuracy: 0.7418\n",
      "Epoch 26/50\n",
      "1063/1063 [==============================] - 2s 2ms/step - loss: 0.6983 - accuracy: 0.7434 - val_loss: 0.5282 - val_accuracy: 0.7425\n",
      "Epoch 27/50\n",
      "1063/1063 [==============================] - 2s 2ms/step - loss: 0.6993 - accuracy: 0.7422 - val_loss: 0.5281 - val_accuracy: 0.7425\n",
      "Epoch 28/50\n",
      "1063/1063 [==============================] - 2s 2ms/step - loss: 0.6956 - accuracy: 0.7443 - val_loss: 0.5296 - val_accuracy: 0.7412\n",
      "Epoch 29/50\n",
      "1063/1063 [==============================] - 2s 2ms/step - loss: 0.6964 - accuracy: 0.7440 - val_loss: 0.5282 - val_accuracy: 0.7420\n",
      "Epoch 30/50\n",
      "1063/1063 [==============================] - 2s 2ms/step - loss: 0.6950 - accuracy: 0.7455 - val_loss: 0.5327 - val_accuracy: 0.7395\n"
     ]
    },
    {
     "name": "stderr",
     "output_type": "stream",
     "text": [
      "\u001b[32m[I 2021-03-05 17:31:49,256]\u001b[0m Trial 21 finished with value: 0.8341571692012184 and parameters: {'step': 4, 'no._units': 337, 'number': 2, 'best_weight': {0: 1.0, 1: 2.0}}. Best is trial 11 with value: 0.8344829860163969.\u001b[0m\n"
     ]
    },
    {
     "name": "stdout",
     "output_type": "stream",
     "text": [
      "Epoch 1/50\n",
      "1063/1063 [==============================] - 2s 2ms/step - loss: 0.9085 - accuracy: 0.6693 - val_loss: 0.6488 - val_accuracy: 0.6583\n",
      "Epoch 2/50\n",
      "1063/1063 [==============================] - 2s 2ms/step - loss: 0.7490 - accuracy: 0.7188 - val_loss: 0.5166 - val_accuracy: 0.7427\n",
      "Epoch 3/50\n",
      "1063/1063 [==============================] - 2s 2ms/step - loss: 0.7330 - accuracy: 0.7278 - val_loss: 0.5401 - val_accuracy: 0.7350\n",
      "Epoch 4/50\n",
      "1063/1063 [==============================] - 2s 2ms/step - loss: 0.7244 - accuracy: 0.7313 - val_loss: 0.5369 - val_accuracy: 0.7332\n",
      "Epoch 5/50\n",
      "1063/1063 [==============================] - 2s 2ms/step - loss: 0.7173 - accuracy: 0.7349 - val_loss: 0.5354 - val_accuracy: 0.7417\n",
      "Epoch 6/50\n",
      "1063/1063 [==============================] - 2s 2ms/step - loss: 0.7135 - accuracy: 0.7352 - val_loss: 0.5424 - val_accuracy: 0.7318\n",
      "Epoch 7/50\n",
      "1063/1063 [==============================] - 2s 2ms/step - loss: 0.7105 - accuracy: 0.7407 - val_loss: 0.5533 - val_accuracy: 0.7308\n",
      "Epoch 8/50\n",
      "1063/1063 [==============================] - 2s 2ms/step - loss: 0.7100 - accuracy: 0.7372 - val_loss: 0.5370 - val_accuracy: 0.7360\n",
      "Epoch 9/50\n",
      "1063/1063 [==============================] - 2s 2ms/step - loss: 0.7061 - accuracy: 0.7421 - val_loss: 0.5359 - val_accuracy: 0.7387\n",
      "Epoch 10/50\n",
      "1063/1063 [==============================] - 2s 2ms/step - loss: 0.7060 - accuracy: 0.7421 - val_loss: 0.5353 - val_accuracy: 0.7390\n",
      "Epoch 11/50\n",
      "1063/1063 [==============================] - 2s 2ms/step - loss: 0.7046 - accuracy: 0.7401 - val_loss: 0.5355 - val_accuracy: 0.7383\n",
      "Epoch 12/50\n",
      "1063/1063 [==============================] - 2s 2ms/step - loss: 0.7040 - accuracy: 0.7423 - val_loss: 0.5387 - val_accuracy: 0.7377\n"
     ]
    },
    {
     "name": "stderr",
     "output_type": "stream",
     "text": [
      "\u001b[32m[I 2021-03-05 17:32:15,604]\u001b[0m Trial 22 finished with value: 0.8182573796561496 and parameters: {'step': 4, 'no._units': 432, 'number': 2, 'best_weight': {0: 1.0, 1: 2.0}}. Best is trial 11 with value: 0.8344829860163969.\u001b[0m\n"
     ]
    },
    {
     "name": "stdout",
     "output_type": "stream",
     "text": [
      "Epoch 1/50\n",
      "1063/1063 [==============================] - 2s 2ms/step - loss: 0.8655 - accuracy: 0.6763 - val_loss: 0.6515 - val_accuracy: 0.6753\n",
      "Epoch 2/50\n",
      "1063/1063 [==============================] - 2s 2ms/step - loss: 0.7461 - accuracy: 0.7196 - val_loss: 0.5503 - val_accuracy: 0.7252\n",
      "Epoch 3/50\n",
      "1063/1063 [==============================] - 2s 2ms/step - loss: 0.7278 - accuracy: 0.7269 - val_loss: 0.5536 - val_accuracy: 0.7293\n",
      "Epoch 4/50\n",
      "1063/1063 [==============================] - 2s 2ms/step - loss: 0.7228 - accuracy: 0.7307 - val_loss: 0.5302 - val_accuracy: 0.7437\n",
      "Epoch 5/50\n",
      "1063/1063 [==============================] - 2s 2ms/step - loss: 0.7095 - accuracy: 0.7350 - val_loss: 0.5564 - val_accuracy: 0.7230\n",
      "Epoch 6/50\n",
      "1063/1063 [==============================] - 2s 2ms/step - loss: 0.7069 - accuracy: 0.7375 - val_loss: 0.5233 - val_accuracy: 0.7442\n",
      "Epoch 7/50\n",
      "1063/1063 [==============================] - 2s 2ms/step - loss: 0.7032 - accuracy: 0.7388 - val_loss: 0.5243 - val_accuracy: 0.7398\n",
      "Epoch 8/50\n",
      "1063/1063 [==============================] - 2s 2ms/step - loss: 0.7018 - accuracy: 0.7401 - val_loss: 0.5309 - val_accuracy: 0.7392\n",
      "Epoch 9/50\n",
      "1063/1063 [==============================] - 2s 2ms/step - loss: 0.6949 - accuracy: 0.7422 - val_loss: 0.5287 - val_accuracy: 0.7402\n",
      "Epoch 10/50\n",
      "1063/1063 [==============================] - 2s 2ms/step - loss: 0.6973 - accuracy: 0.7430 - val_loss: 0.5280 - val_accuracy: 0.7415\n",
      "Epoch 11/50\n",
      "1063/1063 [==============================] - 2s 2ms/step - loss: 0.6970 - accuracy: 0.7421 - val_loss: 0.5280 - val_accuracy: 0.7420\n",
      "Epoch 12/50\n",
      "1063/1063 [==============================] - 2s 2ms/step - loss: 0.6967 - accuracy: 0.7442 - val_loss: 0.5296 - val_accuracy: 0.7423\n",
      "Epoch 13/50\n",
      "1063/1063 [==============================] - 2s 2ms/step - loss: 0.6947 - accuracy: 0.7434 - val_loss: 0.5256 - val_accuracy: 0.7422\n",
      "Epoch 14/50\n",
      "1063/1063 [==============================] - 2s 2ms/step - loss: 0.6958 - accuracy: 0.7435 - val_loss: 0.5247 - val_accuracy: 0.7425\n",
      "Epoch 15/50\n",
      "1063/1063 [==============================] - 2s 2ms/step - loss: 0.6955 - accuracy: 0.7428 - val_loss: 0.5239 - val_accuracy: 0.7437\n",
      "Epoch 16/50\n",
      "1063/1063 [==============================] - 2s 2ms/step - loss: 0.6962 - accuracy: 0.7411 - val_loss: 0.5278 - val_accuracy: 0.7415\n"
     ]
    },
    {
     "name": "stderr",
     "output_type": "stream",
     "text": [
      "\u001b[32m[I 2021-03-05 17:32:49,489]\u001b[0m Trial 23 finished with value: 0.831550575483421 and parameters: {'step': 4, 'no._units': 342, 'number': 2, 'best_weight': {0: 1.0, 1: 2.0}}. Best is trial 11 with value: 0.8344829860163969.\u001b[0m\n"
     ]
    },
    {
     "name": "stdout",
     "output_type": "stream",
     "text": [
      "Epoch 1/50\n",
      "1063/1063 [==============================] - 2s 2ms/step - loss: 1.3024 - accuracy: 0.6259 - val_loss: 0.5660 - val_accuracy: 0.7375\n",
      "Epoch 2/50\n",
      "1063/1063 [==============================] - 2s 2ms/step - loss: 0.8219 - accuracy: 0.7027 - val_loss: 0.5259 - val_accuracy: 0.7428\n",
      "Epoch 3/50\n",
      "1063/1063 [==============================] - 2s 2ms/step - loss: 0.7556 - accuracy: 0.7246 - val_loss: 0.6461 - val_accuracy: 0.7003\n",
      "Epoch 4/50\n",
      "1063/1063 [==============================] - 2s 2ms/step - loss: 0.7294 - accuracy: 0.7358 - val_loss: 0.4949 - val_accuracy: 0.7638\n",
      "Epoch 5/50\n",
      "1063/1063 [==============================] - 2s 2ms/step - loss: 0.7203 - accuracy: 0.7337 - val_loss: 0.5964 - val_accuracy: 0.7018\n",
      "Epoch 6/50\n",
      "1063/1063 [==============================] - 2s 2ms/step - loss: 0.7104 - accuracy: 0.7383 - val_loss: 0.6072 - val_accuracy: 0.7025\n",
      "Epoch 7/50\n",
      "1063/1063 [==============================] - 2s 2ms/step - loss: 0.7049 - accuracy: 0.7409 - val_loss: 0.5506 - val_accuracy: 0.7282\n",
      "Epoch 8/50\n",
      "1063/1063 [==============================] - 2s 2ms/step - loss: 0.6999 - accuracy: 0.7419 - val_loss: 0.5287 - val_accuracy: 0.7372\n",
      "Epoch 9/50\n",
      "1063/1063 [==============================] - 2s 2ms/step - loss: 0.6949 - accuracy: 0.7429 - val_loss: 0.5387 - val_accuracy: 0.7342\n",
      "Epoch 10/50\n",
      "1063/1063 [==============================] - 2s 2ms/step - loss: 0.6932 - accuracy: 0.7448 - val_loss: 0.5316 - val_accuracy: 0.7372\n",
      "Epoch 11/50\n",
      "1063/1063 [==============================] - 2s 2ms/step - loss: 0.6927 - accuracy: 0.7467 - val_loss: 0.5386 - val_accuracy: 0.7335\n",
      "Epoch 12/50\n",
      "1063/1063 [==============================] - 2s 2ms/step - loss: 0.6934 - accuracy: 0.7431 - val_loss: 0.5245 - val_accuracy: 0.7393\n",
      "Epoch 13/50\n",
      "1063/1063 [==============================] - 2s 2ms/step - loss: 0.6914 - accuracy: 0.7456 - val_loss: 0.5303 - val_accuracy: 0.7387\n",
      "Epoch 14/50\n",
      "1063/1063 [==============================] - 2s 2ms/step - loss: 0.6900 - accuracy: 0.7467 - val_loss: 0.5347 - val_accuracy: 0.7352\n"
     ]
    },
    {
     "name": "stderr",
     "output_type": "stream",
     "text": [
      "\u001b[32m[I 2021-03-05 17:33:22,997]\u001b[0m Trial 24 finished with value: 0.828995364213948 and parameters: {'step': 4, 'no._units': 376, 'number': 3, 'best_weight': {0: 1.0, 1: 2.0}}. Best is trial 11 with value: 0.8344829860163969.\u001b[0m\n"
     ]
    },
    {
     "name": "stdout",
     "output_type": "stream",
     "text": [
      "Epoch 1/50\n",
      "1063/1063 [==============================] - 2s 2ms/step - loss: 1.0368 - accuracy: 0.6363 - val_loss: 0.6741 - val_accuracy: 0.6075\n",
      "Epoch 2/50\n",
      "1063/1063 [==============================] - 2s 2ms/step - loss: 0.8983 - accuracy: 0.6734 - val_loss: 0.6338 - val_accuracy: 0.6750\n",
      "Epoch 3/50\n",
      "1063/1063 [==============================] - 2s 2ms/step - loss: 0.8796 - accuracy: 0.6831 - val_loss: 0.5801 - val_accuracy: 0.7085\n",
      "Epoch 4/50\n",
      "1063/1063 [==============================] - 2s 2ms/step - loss: 0.8668 - accuracy: 0.6921 - val_loss: 0.6121 - val_accuracy: 0.6913\n",
      "Epoch 5/50\n",
      "1063/1063 [==============================] - 2s 2ms/step - loss: 0.8602 - accuracy: 0.6948 - val_loss: 0.6214 - val_accuracy: 0.6835\n",
      "Epoch 6/50\n",
      "1063/1063 [==============================] - 2s 2ms/step - loss: 0.8535 - accuracy: 0.6961 - val_loss: 0.6104 - val_accuracy: 0.6888\n",
      "Epoch 7/50\n",
      "1063/1063 [==============================] - 2s 2ms/step - loss: 0.8521 - accuracy: 0.6988 - val_loss: 0.5994 - val_accuracy: 0.7000\n",
      "Epoch 8/50\n",
      "1063/1063 [==============================] - 2s 2ms/step - loss: 0.8513 - accuracy: 0.7016 - val_loss: 0.5941 - val_accuracy: 0.7032\n",
      "Epoch 9/50\n",
      "1063/1063 [==============================] - 2s 2ms/step - loss: 0.8506 - accuracy: 0.7019 - val_loss: 0.6010 - val_accuracy: 0.6952\n",
      "Epoch 10/50\n",
      "1063/1063 [==============================] - 2s 2ms/step - loss: 0.8482 - accuracy: 0.6999 - val_loss: 0.5987 - val_accuracy: 0.6993\n",
      "Epoch 11/50\n",
      "1063/1063 [==============================] - 2s 2ms/step - loss: 0.8470 - accuracy: 0.7018 - val_loss: 0.5973 - val_accuracy: 0.6998\n",
      "Epoch 12/50\n",
      "1063/1063 [==============================] - 2s 2ms/step - loss: 0.8486 - accuracy: 0.6985 - val_loss: 0.6020 - val_accuracy: 0.6963\n",
      "Epoch 13/50\n",
      "1063/1063 [==============================] - 2s 2ms/step - loss: 0.8499 - accuracy: 0.7006 - val_loss: 0.6034 - val_accuracy: 0.6945\n"
     ]
    },
    {
     "name": "stderr",
     "output_type": "stream",
     "text": [
      "\u001b[32m[I 2021-03-05 17:33:51,207]\u001b[0m Trial 25 finished with value: 0.8226351287355278 and parameters: {'step': 3, 'no._units': 317, 'number': 2, 'best_weight': {0: 1.0, 1: 3.0}}. Best is trial 11 with value: 0.8344829860163969.\u001b[0m\n"
     ]
    },
    {
     "name": "stdout",
     "output_type": "stream",
     "text": [
      "Epoch 1/50\n",
      "1063/1063 [==============================] - 2s 2ms/step - loss: 0.8275 - accuracy: 0.6871 - val_loss: 0.6421 - val_accuracy: 0.6728\n",
      "Epoch 2/50\n",
      "1063/1063 [==============================] - 2s 2ms/step - loss: 0.7485 - accuracy: 0.7188 - val_loss: 0.5585 - val_accuracy: 0.7202\n",
      "Epoch 3/50\n",
      "1063/1063 [==============================] - 2s 2ms/step - loss: 0.7341 - accuracy: 0.7227 - val_loss: 0.5324 - val_accuracy: 0.7352\n",
      "Epoch 4/50\n",
      "1063/1063 [==============================] - 2s 2ms/step - loss: 0.7242 - accuracy: 0.7292 - val_loss: 0.5388 - val_accuracy: 0.7382\n",
      "Epoch 5/50\n",
      "1063/1063 [==============================] - 2s 2ms/step - loss: 0.7153 - accuracy: 0.7366 - val_loss: 0.5294 - val_accuracy: 0.7373\n",
      "Epoch 6/50\n",
      "1063/1063 [==============================] - 2s 2ms/step - loss: 0.7095 - accuracy: 0.7386 - val_loss: 0.5496 - val_accuracy: 0.7313\n",
      "Epoch 7/50\n",
      "1063/1063 [==============================] - 2s 2ms/step - loss: 0.7080 - accuracy: 0.7396 - val_loss: 0.5466 - val_accuracy: 0.7323\n",
      "Epoch 8/50\n",
      "1063/1063 [==============================] - 2s 2ms/step - loss: 0.7033 - accuracy: 0.7397 - val_loss: 0.5424 - val_accuracy: 0.7328\n",
      "Epoch 9/50\n",
      "1063/1063 [==============================] - 2s 2ms/step - loss: 0.7001 - accuracy: 0.7418 - val_loss: 0.5294 - val_accuracy: 0.7415\n",
      "Epoch 10/50\n",
      "1063/1063 [==============================] - 2s 2ms/step - loss: 0.6998 - accuracy: 0.7415 - val_loss: 0.5366 - val_accuracy: 0.7380\n",
      "Epoch 11/50\n",
      "1063/1063 [==============================] - 2s 2ms/step - loss: 0.6997 - accuracy: 0.7439 - val_loss: 0.5362 - val_accuracy: 0.7393\n",
      "Epoch 12/50\n",
      "1063/1063 [==============================] - 2s 2ms/step - loss: 0.6969 - accuracy: 0.7416 - val_loss: 0.5275 - val_accuracy: 0.7445\n",
      "Epoch 13/50\n",
      "1063/1063 [==============================] - 2s 2ms/step - loss: 0.6992 - accuracy: 0.7442 - val_loss: 0.5298 - val_accuracy: 0.7422\n",
      "Epoch 14/50\n",
      "1063/1063 [==============================] - 2s 2ms/step - loss: 0.6960 - accuracy: 0.7446 - val_loss: 0.5313 - val_accuracy: 0.7418\n",
      "Epoch 15/50\n",
      "1063/1063 [==============================] - 2s 2ms/step - loss: 0.6978 - accuracy: 0.7418 - val_loss: 0.5324 - val_accuracy: 0.7422\n",
      "Epoch 16/50\n",
      "1063/1063 [==============================] - 2s 2ms/step - loss: 0.6960 - accuracy: 0.7450 - val_loss: 0.5290 - val_accuracy: 0.7428\n",
      "Epoch 17/50\n",
      "1063/1063 [==============================] - 2s 2ms/step - loss: 0.6983 - accuracy: 0.7425 - val_loss: 0.5309 - val_accuracy: 0.7423\n",
      "Epoch 18/50\n",
      "1063/1063 [==============================] - 2s 2ms/step - loss: 0.6966 - accuracy: 0.7419 - val_loss: 0.5340 - val_accuracy: 0.7415\n",
      "Epoch 19/50\n",
      "1063/1063 [==============================] - 2s 2ms/step - loss: 0.6988 - accuracy: 0.7438 - val_loss: 0.5306 - val_accuracy: 0.7408\n",
      "Epoch 20/50\n",
      "1063/1063 [==============================] - 2s 2ms/step - loss: 0.6971 - accuracy: 0.7451 - val_loss: 0.5276 - val_accuracy: 0.7433\n",
      "Epoch 21/50\n",
      "1063/1063 [==============================] - 2s 2ms/step - loss: 0.6960 - accuracy: 0.7444 - val_loss: 0.5270 - val_accuracy: 0.7445\n",
      "Epoch 22/50\n",
      "1063/1063 [==============================] - 2s 2ms/step - loss: 0.6953 - accuracy: 0.7449 - val_loss: 0.5314 - val_accuracy: 0.7413\n",
      "Epoch 23/50\n",
      "1063/1063 [==============================] - 2s 2ms/step - loss: 0.6962 - accuracy: 0.7424 - val_loss: 0.5310 - val_accuracy: 0.7430\n",
      "Epoch 24/50\n",
      "1063/1063 [==============================] - 2s 2ms/step - loss: 0.6971 - accuracy: 0.7430 - val_loss: 0.5285 - val_accuracy: 0.7433\n",
      "Epoch 25/50\n",
      "1063/1063 [==============================] - 2s 2ms/step - loss: 0.6998 - accuracy: 0.7437 - val_loss: 0.5285 - val_accuracy: 0.7438\n",
      "Epoch 26/50\n",
      "1063/1063 [==============================] - 2s 2ms/step - loss: 0.6974 - accuracy: 0.7451 - val_loss: 0.5257 - val_accuracy: 0.7450\n",
      "Epoch 27/50\n",
      "1063/1063 [==============================] - 2s 2ms/step - loss: 0.6980 - accuracy: 0.7437 - val_loss: 0.5328 - val_accuracy: 0.7412\n",
      "Epoch 28/50\n",
      "1063/1063 [==============================] - 2s 2ms/step - loss: 0.6979 - accuracy: 0.7435 - val_loss: 0.5288 - val_accuracy: 0.7430\n",
      "Epoch 29/50\n",
      "1063/1063 [==============================] - 2s 2ms/step - loss: 0.6975 - accuracy: 0.7431 - val_loss: 0.5299 - val_accuracy: 0.7417\n",
      "Epoch 30/50\n",
      "1063/1063 [==============================] - 2s 2ms/step - loss: 0.6978 - accuracy: 0.7439 - val_loss: 0.5304 - val_accuracy: 0.7423\n",
      "Epoch 31/50\n",
      "1063/1063 [==============================] - 2s 2ms/step - loss: 0.6945 - accuracy: 0.7434 - val_loss: 0.5279 - val_accuracy: 0.7442\n",
      "Epoch 32/50\n",
      "1063/1063 [==============================] - 2s 2ms/step - loss: 0.6979 - accuracy: 0.7411 - val_loss: 0.5261 - val_accuracy: 0.7447\n",
      "Epoch 33/50\n",
      "1063/1063 [==============================] - 2s 2ms/step - loss: 0.6977 - accuracy: 0.7446 - val_loss: 0.5246 - val_accuracy: 0.7448\n",
      "Epoch 34/50\n",
      "1063/1063 [==============================] - 2s 2ms/step - loss: 0.6953 - accuracy: 0.7440 - val_loss: 0.5293 - val_accuracy: 0.7427\n",
      "Epoch 35/50\n",
      "1063/1063 [==============================] - 2s 2ms/step - loss: 0.6964 - accuracy: 0.7441 - val_loss: 0.5284 - val_accuracy: 0.7418\n",
      "Epoch 36/50\n",
      "1063/1063 [==============================] - 2s 2ms/step - loss: 0.6949 - accuracy: 0.7439 - val_loss: 0.5291 - val_accuracy: 0.7435\n",
      "Epoch 37/50\n",
      "1063/1063 [==============================] - 2s 2ms/step - loss: 0.6966 - accuracy: 0.7425 - val_loss: 0.5270 - val_accuracy: 0.7445\n",
      "Epoch 38/50\n",
      "1063/1063 [==============================] - 2s 2ms/step - loss: 0.6989 - accuracy: 0.7429 - val_loss: 0.5288 - val_accuracy: 0.7433\n",
      "Epoch 39/50\n",
      "1063/1063 [==============================] - 2s 2ms/step - loss: 0.6971 - accuracy: 0.7441 - val_loss: 0.5284 - val_accuracy: 0.7428\n",
      "Epoch 40/50\n",
      "1063/1063 [==============================] - 2s 2ms/step - loss: 0.6955 - accuracy: 0.7431 - val_loss: 0.5292 - val_accuracy: 0.7425\n",
      "Epoch 41/50\n",
      "1063/1063 [==============================] - 2s 2ms/step - loss: 0.6960 - accuracy: 0.7471 - val_loss: 0.5307 - val_accuracy: 0.7415\n",
      "Epoch 42/50\n",
      "1063/1063 [==============================] - 2s 2ms/step - loss: 0.6981 - accuracy: 0.7439 - val_loss: 0.5313 - val_accuracy: 0.7423\n",
      "Epoch 43/50\n",
      "1063/1063 [==============================] - 2s 2ms/step - loss: 0.6939 - accuracy: 0.7463 - val_loss: 0.5353 - val_accuracy: 0.7397\n"
     ]
    },
    {
     "name": "stderr",
     "output_type": "stream",
     "text": [
      "\u001b[32m[I 2021-03-05 17:35:21,291]\u001b[0m Trial 26 finished with value: 0.8343828849563557 and parameters: {'step': 5, 'no._units': 250, 'number': 2, 'best_weight': {0: 1.0, 1: 2.0}}. Best is trial 11 with value: 0.8344829860163969.\u001b[0m\n"
     ]
    },
    {
     "name": "stdout",
     "output_type": "stream",
     "text": [
      "Epoch 1/50\n",
      "1063/1063 [==============================] - 2s 2ms/step - loss: 0.9658 - accuracy: 0.6586 - val_loss: 0.9910 - val_accuracy: 0.5815\n",
      "Epoch 2/50\n",
      "1063/1063 [==============================] - 2s 2ms/step - loss: 0.7935 - accuracy: 0.7079 - val_loss: 0.5588 - val_accuracy: 0.7313\n",
      "Epoch 3/50\n",
      "1063/1063 [==============================] - 2s 2ms/step - loss: 0.7502 - accuracy: 0.7262 - val_loss: 0.8702 - val_accuracy: 0.5597\n",
      "Epoch 4/50\n",
      "1063/1063 [==============================] - 2s 2ms/step - loss: 0.7327 - accuracy: 0.7304 - val_loss: 0.5359 - val_accuracy: 0.7413\n",
      "Epoch 5/50\n",
      "1063/1063 [==============================] - 2s 2ms/step - loss: 0.7214 - accuracy: 0.7353 - val_loss: 0.5277 - val_accuracy: 0.7370\n",
      "Epoch 6/50\n",
      "1063/1063 [==============================] - 2s 2ms/step - loss: 0.7144 - accuracy: 0.7391 - val_loss: 0.6224 - val_accuracy: 0.7060\n",
      "Epoch 7/50\n",
      "1063/1063 [==============================] - 2s 2ms/step - loss: 0.7028 - accuracy: 0.7459 - val_loss: 0.5051 - val_accuracy: 0.7515\n",
      "Epoch 8/50\n",
      "1063/1063 [==============================] - 2s 2ms/step - loss: 0.6990 - accuracy: 0.7458 - val_loss: 0.5043 - val_accuracy: 0.7598\n",
      "Epoch 9/50\n",
      "1063/1063 [==============================] - 2s 2ms/step - loss: 0.6944 - accuracy: 0.7467 - val_loss: 0.5374 - val_accuracy: 0.7400\n",
      "Epoch 10/50\n",
      "1063/1063 [==============================] - 2s 2ms/step - loss: 0.6921 - accuracy: 0.7476 - val_loss: 0.5099 - val_accuracy: 0.7515\n",
      "Epoch 11/50\n",
      "1063/1063 [==============================] - 2s 2ms/step - loss: 0.6897 - accuracy: 0.7495 - val_loss: 0.4952 - val_accuracy: 0.7598\n",
      "Epoch 12/50\n",
      "1063/1063 [==============================] - 2s 2ms/step - loss: 0.6852 - accuracy: 0.7508 - val_loss: 0.5219 - val_accuracy: 0.7450\n",
      "Epoch 13/50\n",
      "1063/1063 [==============================] - 2s 2ms/step - loss: 0.6840 - accuracy: 0.7515 - val_loss: 0.5154 - val_accuracy: 0.7493\n",
      "Epoch 14/50\n",
      "1063/1063 [==============================] - 2s 2ms/step - loss: 0.6838 - accuracy: 0.7511 - val_loss: 0.5176 - val_accuracy: 0.7482\n",
      "Epoch 15/50\n",
      "1063/1063 [==============================] - 2s 2ms/step - loss: 0.6807 - accuracy: 0.7537 - val_loss: 0.5115 - val_accuracy: 0.7522\n",
      "Epoch 16/50\n",
      "1063/1063 [==============================] - 2s 2ms/step - loss: 0.6846 - accuracy: 0.7507 - val_loss: 0.5111 - val_accuracy: 0.7523\n",
      "Epoch 17/50\n",
      "1063/1063 [==============================] - 2s 2ms/step - loss: 0.6823 - accuracy: 0.7520 - val_loss: 0.5120 - val_accuracy: 0.7515\n",
      "Epoch 18/50\n",
      "1063/1063 [==============================] - 2s 2ms/step - loss: 0.6803 - accuracy: 0.7546 - val_loss: 0.5074 - val_accuracy: 0.7545\n",
      "Epoch 19/50\n",
      "1063/1063 [==============================] - 2s 2ms/step - loss: 0.6839 - accuracy: 0.7509 - val_loss: 0.5086 - val_accuracy: 0.7530\n",
      "Epoch 20/50\n",
      "1063/1063 [==============================] - 2s 2ms/step - loss: 0.6834 - accuracy: 0.7530 - val_loss: 0.5106 - val_accuracy: 0.7510\n",
      "Epoch 21/50\n",
      "1063/1063 [==============================] - 2s 2ms/step - loss: 0.6851 - accuracy: 0.7508 - val_loss: 0.5090 - val_accuracy: 0.7535\n"
     ]
    },
    {
     "name": "stderr",
     "output_type": "stream",
     "text": [
      "\u001b[32m[I 2021-03-05 17:36:09,563]\u001b[0m Trial 27 finished with value: 0.8387361859353215 and parameters: {'step': 5, 'no._units': 258, 'number': 3, 'best_weight': {0: 1.0, 1: 2.0}}. Best is trial 27 with value: 0.8387361859353215.\u001b[0m\n"
     ]
    },
    {
     "name": "stdout",
     "output_type": "stream",
     "text": [
      "Epoch 1/50\n",
      "1063/1063 [==============================] - 3s 2ms/step - loss: 0.9464 - accuracy: 0.6570 - val_loss: 0.7474 - val_accuracy: 0.5503\n",
      "Epoch 2/50\n",
      "1063/1063 [==============================] - 2s 2ms/step - loss: 0.7891 - accuracy: 0.7072 - val_loss: 0.6026 - val_accuracy: 0.6658\n",
      "Epoch 3/50\n",
      "1063/1063 [==============================] - 2s 2ms/step - loss: 0.7454 - accuracy: 0.7291 - val_loss: 0.6380 - val_accuracy: 0.6985\n",
      "Epoch 4/50\n",
      "1063/1063 [==============================] - 2s 2ms/step - loss: 0.7296 - accuracy: 0.7331 - val_loss: 0.5670 - val_accuracy: 0.6995\n",
      "Epoch 5/50\n",
      "1063/1063 [==============================] - 2s 2ms/step - loss: 0.7201 - accuracy: 0.7355 - val_loss: 0.5371 - val_accuracy: 0.7402\n",
      "Epoch 6/50\n",
      "1063/1063 [==============================] - 2s 2ms/step - loss: 0.7104 - accuracy: 0.7417 - val_loss: 0.6575 - val_accuracy: 0.6742\n",
      "Epoch 7/50\n",
      "1063/1063 [==============================] - 2s 2ms/step - loss: 0.7047 - accuracy: 0.7432 - val_loss: 0.5416 - val_accuracy: 0.7378\n",
      "Epoch 8/50\n",
      "1063/1063 [==============================] - 2s 2ms/step - loss: 0.6988 - accuracy: 0.7469 - val_loss: 0.5086 - val_accuracy: 0.7548\n",
      "Epoch 9/50\n",
      "1063/1063 [==============================] - 2s 2ms/step - loss: 0.6952 - accuracy: 0.7491 - val_loss: 0.5203 - val_accuracy: 0.7412\n",
      "Epoch 10/50\n",
      "1063/1063 [==============================] - 2s 2ms/step - loss: 0.6918 - accuracy: 0.7464 - val_loss: 0.5322 - val_accuracy: 0.7408\n",
      "Epoch 11/50\n",
      "1063/1063 [==============================] - 2s 2ms/step - loss: 0.6901 - accuracy: 0.7468 - val_loss: 0.5148 - val_accuracy: 0.7460\n",
      "Epoch 12/50\n",
      "1063/1063 [==============================] - 2s 2ms/step - loss: 0.6861 - accuracy: 0.7501 - val_loss: 0.5260 - val_accuracy: 0.7422\n",
      "Epoch 13/50\n",
      "1063/1063 [==============================] - 2s 2ms/step - loss: 0.6844 - accuracy: 0.7492 - val_loss: 0.5126 - val_accuracy: 0.7478\n",
      "Epoch 14/50\n",
      "1063/1063 [==============================] - 3s 2ms/step - loss: 0.6854 - accuracy: 0.7489 - val_loss: 0.5087 - val_accuracy: 0.7505\n",
      "Epoch 15/50\n",
      "1063/1063 [==============================] - 3s 2ms/step - loss: 0.6841 - accuracy: 0.7483 - val_loss: 0.5111 - val_accuracy: 0.7482\n",
      "Epoch 16/50\n",
      "1063/1063 [==============================] - 3s 2ms/step - loss: 0.6843 - accuracy: 0.7492 - val_loss: 0.5174 - val_accuracy: 0.7458\n",
      "Epoch 17/50\n",
      "1063/1063 [==============================] - 3s 2ms/step - loss: 0.6833 - accuracy: 0.7496 - val_loss: 0.5108 - val_accuracy: 0.7498\n",
      "Epoch 18/50\n",
      "1063/1063 [==============================] - 2s 2ms/step - loss: 0.6833 - accuracy: 0.7511 - val_loss: 0.5114 - val_accuracy: 0.7493\n"
     ]
    },
    {
     "name": "stderr",
     "output_type": "stream",
     "text": [
      "\u001b[32m[I 2021-03-05 17:36:54,775]\u001b[0m Trial 28 finished with value: 0.8349669163332727 and parameters: {'step': 5, 'no._units': 183, 'number': 4, 'best_weight': {0: 1.0, 1: 2.0}}. Best is trial 27 with value: 0.8387361859353215.\u001b[0m\n"
     ]
    },
    {
     "name": "stdout",
     "output_type": "stream",
     "text": [
      "Epoch 1/50\n",
      "1063/1063 [==============================] - 3s 2ms/step - loss: 0.8358 - accuracy: 0.6791 - val_loss: 0.6042 - val_accuracy: 0.7323\n",
      "Epoch 2/50\n",
      "1063/1063 [==============================] - 2s 2ms/step - loss: 0.7126 - accuracy: 0.7262 - val_loss: 0.5478 - val_accuracy: 0.7433\n",
      "Epoch 3/50\n",
      "1063/1063 [==============================] - 2s 2ms/step - loss: 0.6815 - accuracy: 0.7367 - val_loss: 0.5816 - val_accuracy: 0.7045\n",
      "Epoch 4/50\n",
      "1063/1063 [==============================] - 2s 2ms/step - loss: 0.6643 - accuracy: 0.7443 - val_loss: 0.6365 - val_accuracy: 0.6852\n",
      "Epoch 5/50\n",
      "1063/1063 [==============================] - 2s 2ms/step - loss: 0.6529 - accuracy: 0.7511 - val_loss: 0.4884 - val_accuracy: 0.7635\n",
      "Epoch 6/50\n",
      "1063/1063 [==============================] - 2s 2ms/step - loss: 0.6472 - accuracy: 0.7551 - val_loss: 0.5381 - val_accuracy: 0.7357\n",
      "Epoch 7/50\n",
      "1063/1063 [==============================] - 2s 2ms/step - loss: 0.6415 - accuracy: 0.7556 - val_loss: 0.4996 - val_accuracy: 0.7567\n",
      "Epoch 8/50\n",
      "1063/1063 [==============================] - 2s 2ms/step - loss: 0.6391 - accuracy: 0.7532 - val_loss: 0.5015 - val_accuracy: 0.7538\n",
      "Epoch 9/50\n",
      "1063/1063 [==============================] - 2s 2ms/step - loss: 0.6356 - accuracy: 0.7582 - val_loss: 0.5219 - val_accuracy: 0.7452\n",
      "Epoch 10/50\n",
      "1063/1063 [==============================] - 2s 2ms/step - loss: 0.6329 - accuracy: 0.7599 - val_loss: 0.5020 - val_accuracy: 0.7513\n",
      "Epoch 11/50\n",
      "1063/1063 [==============================] - 2s 2ms/step - loss: 0.6327 - accuracy: 0.7602 - val_loss: 0.5042 - val_accuracy: 0.7517\n",
      "Epoch 12/50\n",
      "1063/1063 [==============================] - 2s 2ms/step - loss: 0.6280 - accuracy: 0.7612 - val_loss: 0.4991 - val_accuracy: 0.7547\n",
      "Epoch 13/50\n",
      "1063/1063 [==============================] - 2s 2ms/step - loss: 0.6312 - accuracy: 0.7590 - val_loss: 0.5101 - val_accuracy: 0.7523\n",
      "Epoch 14/50\n",
      "1063/1063 [==============================] - 2s 2ms/step - loss: 0.6297 - accuracy: 0.7597 - val_loss: 0.5016 - val_accuracy: 0.7538\n",
      "Epoch 15/50\n",
      "1063/1063 [==============================] - 2s 2ms/step - loss: 0.6277 - accuracy: 0.7615 - val_loss: 0.5071 - val_accuracy: 0.7503\n"
     ]
    },
    {
     "name": "stderr",
     "output_type": "stream",
     "text": [
      "\u001b[32m[I 2021-03-05 17:37:32,286]\u001b[0m Trial 29 finished with value: 0.8317450947520761 and parameters: {'step': 5, 'no._units': 171, 'number': 4, 'best_weight': {0: 1, 1: 1.6590440736555208}}. Best is trial 27 with value: 0.8387361859353215.\u001b[0m\n"
     ]
    },
    {
     "name": "stdout",
     "output_type": "stream",
     "text": [
      "Epoch 1/50\n",
      "1063/1063 [==============================] - 3s 2ms/step - loss: 0.9470 - accuracy: 0.6526 - val_loss: 1.0498 - val_accuracy: 0.6070\n",
      "Epoch 2/50\n",
      "1063/1063 [==============================] - 2s 2ms/step - loss: 0.7911 - accuracy: 0.7082 - val_loss: 0.6205 - val_accuracy: 0.6812\n",
      "Epoch 3/50\n",
      "1063/1063 [==============================] - 2s 2ms/step - loss: 0.7448 - accuracy: 0.7266 - val_loss: 0.4990 - val_accuracy: 0.7608\n",
      "Epoch 4/50\n",
      "1063/1063 [==============================] - 2s 2ms/step - loss: 0.7254 - accuracy: 0.7347 - val_loss: 0.5151 - val_accuracy: 0.7455\n",
      "Epoch 5/50\n",
      "1063/1063 [==============================] - 2s 2ms/step - loss: 0.7150 - accuracy: 0.7382 - val_loss: 0.5011 - val_accuracy: 0.7615\n",
      "Epoch 6/50\n",
      "1063/1063 [==============================] - 2s 2ms/step - loss: 0.7048 - accuracy: 0.7421 - val_loss: 0.5712 - val_accuracy: 0.7225\n",
      "Epoch 7/50\n",
      "1063/1063 [==============================] - 2s 2ms/step - loss: 0.6955 - accuracy: 0.7446 - val_loss: 0.5629 - val_accuracy: 0.7303\n",
      "Epoch 8/50\n",
      "1063/1063 [==============================] - 2s 2ms/step - loss: 0.6902 - accuracy: 0.7484 - val_loss: 0.5158 - val_accuracy: 0.7488\n",
      "Epoch 9/50\n",
      "1063/1063 [==============================] - 2s 2ms/step - loss: 0.6860 - accuracy: 0.7486 - val_loss: 0.5184 - val_accuracy: 0.7513\n",
      "Epoch 10/50\n",
      "1063/1063 [==============================] - 2s 2ms/step - loss: 0.6849 - accuracy: 0.7487 - val_loss: 0.5104 - val_accuracy: 0.7550\n",
      "Epoch 11/50\n",
      "1063/1063 [==============================] - 2s 2ms/step - loss: 0.6845 - accuracy: 0.7492 - val_loss: 0.5099 - val_accuracy: 0.7562\n",
      "Epoch 12/50\n",
      "1063/1063 [==============================] - 2s 2ms/step - loss: 0.6822 - accuracy: 0.7498 - val_loss: 0.5125 - val_accuracy: 0.7570\n",
      "Epoch 13/50\n",
      "1063/1063 [==============================] - 2s 2ms/step - loss: 0.6821 - accuracy: 0.7514 - val_loss: 0.5124 - val_accuracy: 0.7558\n"
     ]
    },
    {
     "name": "stderr",
     "output_type": "stream",
     "text": [
      "\u001b[32m[I 2021-03-05 17:38:04,450]\u001b[0m Trial 30 finished with value: 0.8292959041795478 and parameters: {'step': 5, 'no._units': 185, 'number': 4, 'best_weight': {0: 1.0, 1: 2.0}}. Best is trial 27 with value: 0.8387361859353215.\u001b[0m\n"
     ]
    },
    {
     "name": "stdout",
     "output_type": "stream",
     "text": [
      "Epoch 1/50\n",
      "1063/1063 [==============================] - 3s 2ms/step - loss: 1.1252 - accuracy: 0.6326 - val_loss: 0.5164 - val_accuracy: 0.7567\n",
      "Epoch 2/50\n",
      "1063/1063 [==============================] - 2s 2ms/step - loss: 0.8190 - accuracy: 0.7002 - val_loss: 0.8113 - val_accuracy: 0.5608\n",
      "Epoch 3/50\n",
      "1063/1063 [==============================] - 2s 2ms/step - loss: 0.7625 - accuracy: 0.7200 - val_loss: 0.6953 - val_accuracy: 0.7005\n",
      "Epoch 4/50\n",
      "1063/1063 [==============================] - 2s 2ms/step - loss: 0.7352 - accuracy: 0.7307 - val_loss: 0.5598 - val_accuracy: 0.7268\n",
      "Epoch 5/50\n",
      "1063/1063 [==============================] - 2s 2ms/step - loss: 0.7192 - accuracy: 0.7361 - val_loss: 0.6504 - val_accuracy: 0.6892\n",
      "Epoch 6/50\n",
      "1063/1063 [==============================] - 2s 2ms/step - loss: 0.7110 - accuracy: 0.7384 - val_loss: 0.5440 - val_accuracy: 0.7377\n",
      "Epoch 7/50\n",
      "1063/1063 [==============================] - 2s 2ms/step - loss: 0.7005 - accuracy: 0.7432 - val_loss: 0.5302 - val_accuracy: 0.7407\n",
      "Epoch 8/50\n",
      "1063/1063 [==============================] - 2s 2ms/step - loss: 0.6960 - accuracy: 0.7456 - val_loss: 0.5433 - val_accuracy: 0.7367\n",
      "Epoch 9/50\n",
      "1063/1063 [==============================] - 2s 2ms/step - loss: 0.6930 - accuracy: 0.7442 - val_loss: 0.5530 - val_accuracy: 0.7288\n",
      "Epoch 10/50\n",
      "1063/1063 [==============================] - 2s 2ms/step - loss: 0.6886 - accuracy: 0.7481 - val_loss: 0.5079 - val_accuracy: 0.7580\n",
      "Epoch 11/50\n",
      "1063/1063 [==============================] - 2s 2ms/step - loss: 0.6857 - accuracy: 0.7475 - val_loss: 0.5103 - val_accuracy: 0.7503\n",
      "Epoch 12/50\n",
      "1063/1063 [==============================] - 2s 2ms/step - loss: 0.6858 - accuracy: 0.7449 - val_loss: 0.5045 - val_accuracy: 0.7583\n",
      "Epoch 13/50\n",
      "1063/1063 [==============================] - 2s 2ms/step - loss: 0.6832 - accuracy: 0.7493 - val_loss: 0.5193 - val_accuracy: 0.7462\n",
      "Epoch 14/50\n",
      "1063/1063 [==============================] - 2s 2ms/step - loss: 0.6845 - accuracy: 0.7456 - val_loss: 0.5118 - val_accuracy: 0.7528\n",
      "Epoch 15/50\n",
      "1063/1063 [==============================] - 2s 2ms/step - loss: 0.6847 - accuracy: 0.7481 - val_loss: 0.5168 - val_accuracy: 0.7460\n",
      "Epoch 16/50\n",
      "1063/1063 [==============================] - 2s 2ms/step - loss: 0.6806 - accuracy: 0.7526 - val_loss: 0.5202 - val_accuracy: 0.7458\n",
      "Epoch 17/50\n",
      "1063/1063 [==============================] - 2s 2ms/step - loss: 0.6836 - accuracy: 0.7477 - val_loss: 0.5146 - val_accuracy: 0.7470\n",
      "Epoch 18/50\n",
      "1063/1063 [==============================] - 2s 2ms/step - loss: 0.6827 - accuracy: 0.7501 - val_loss: 0.5158 - val_accuracy: 0.7473\n",
      "Epoch 19/50\n",
      "1063/1063 [==============================] - 2s 2ms/step - loss: 0.6811 - accuracy: 0.7490 - val_loss: 0.5164 - val_accuracy: 0.7467\n",
      "Epoch 20/50\n",
      "1063/1063 [==============================] - 2s 2ms/step - loss: 0.6817 - accuracy: 0.7486 - val_loss: 0.5160 - val_accuracy: 0.7475\n",
      "Epoch 21/50\n",
      "1063/1063 [==============================] - 2s 2ms/step - loss: 0.6817 - accuracy: 0.7487 - val_loss: 0.5146 - val_accuracy: 0.7483\n",
      "Epoch 22/50\n",
      "1063/1063 [==============================] - 2s 2ms/step - loss: 0.6832 - accuracy: 0.7489 - val_loss: 0.5144 - val_accuracy: 0.7512\n"
     ]
    },
    {
     "name": "stderr",
     "output_type": "stream",
     "text": [
      "\u001b[32m[I 2021-03-05 17:38:58,142]\u001b[0m Trial 31 finished with value: 0.8389401766230223 and parameters: {'step': 5, 'no._units': 267, 'number': 4, 'best_weight': {0: 1.0, 1: 2.0}}. Best is trial 31 with value: 0.8389401766230223.\u001b[0m\n"
     ]
    },
    {
     "name": "stdout",
     "output_type": "stream",
     "text": [
      "Epoch 1/50\n",
      "1063/1063 [==============================] - 3s 2ms/step - loss: 1.8775 - accuracy: 0.6430 - val_loss: 0.5407 - val_accuracy: 0.7275\n",
      "Epoch 2/50\n",
      "1063/1063 [==============================] - 2s 2ms/step - loss: 0.7844 - accuracy: 0.7001 - val_loss: 0.7549 - val_accuracy: 0.6042\n",
      "Epoch 3/50\n",
      "1063/1063 [==============================] - 2s 2ms/step - loss: 0.7557 - accuracy: 0.7168 - val_loss: 0.6035 - val_accuracy: 0.7030\n",
      "Epoch 4/50\n",
      "1063/1063 [==============================] - 2s 2ms/step - loss: 0.7421 - accuracy: 0.7280 - val_loss: 0.6611 - val_accuracy: 0.6803\n",
      "Epoch 5/50\n",
      "1063/1063 [==============================] - 2s 2ms/step - loss: 0.7359 - accuracy: 0.7317 - val_loss: 0.5175 - val_accuracy: 0.7540\n",
      "Epoch 6/50\n",
      "1063/1063 [==============================] - 2s 2ms/step - loss: 0.7268 - accuracy: 0.7360 - val_loss: 0.5963 - val_accuracy: 0.7150\n",
      "Epoch 7/50\n",
      "1063/1063 [==============================] - 2s 2ms/step - loss: 0.7376 - accuracy: 0.7362 - val_loss: 0.5406 - val_accuracy: 0.7328\n",
      "Epoch 8/50\n",
      "1063/1063 [==============================] - 2s 2ms/step - loss: 0.7204 - accuracy: 0.7397 - val_loss: 0.5424 - val_accuracy: 0.7378\n",
      "Epoch 9/50\n",
      "1063/1063 [==============================] - 2s 2ms/step - loss: 0.7180 - accuracy: 0.7406 - val_loss: 0.5129 - val_accuracy: 0.7482\n",
      "Epoch 10/50\n",
      "1063/1063 [==============================] - 2s 2ms/step - loss: 0.7142 - accuracy: 0.7431 - val_loss: 0.5522 - val_accuracy: 0.7332\n",
      "Epoch 11/50\n",
      "1063/1063 [==============================] - 2s 2ms/step - loss: 0.7172 - accuracy: 0.7404 - val_loss: 0.5530 - val_accuracy: 0.7360\n",
      "Epoch 12/50\n",
      "1063/1063 [==============================] - 2s 2ms/step - loss: 0.7136 - accuracy: 0.7441 - val_loss: 0.5547 - val_accuracy: 0.7348\n",
      "Epoch 13/50\n",
      "1063/1063 [==============================] - 2s 2ms/step - loss: 0.7140 - accuracy: 0.7424 - val_loss: 0.5419 - val_accuracy: 0.7408\n",
      "Epoch 14/50\n",
      "1063/1063 [==============================] - 2s 2ms/step - loss: 0.7151 - accuracy: 0.7402 - val_loss: 0.5436 - val_accuracy: 0.7412\n",
      "Epoch 15/50\n",
      "1063/1063 [==============================] - 2s 2ms/step - loss: 0.7111 - accuracy: 0.7438 - val_loss: 0.5431 - val_accuracy: 0.7398\n",
      "Epoch 16/50\n",
      "1063/1063 [==============================] - 2s 2ms/step - loss: 0.7117 - accuracy: 0.7414 - val_loss: 0.5394 - val_accuracy: 0.7425\n",
      "Epoch 17/50\n",
      "1063/1063 [==============================] - 2s 2ms/step - loss: 0.7126 - accuracy: 0.7453 - val_loss: 0.5472 - val_accuracy: 0.7378\n",
      "Epoch 18/50\n",
      "1063/1063 [==============================] - 2s 2ms/step - loss: 0.7132 - accuracy: 0.7421 - val_loss: 0.5417 - val_accuracy: 0.7407\n",
      "Epoch 19/50\n",
      "1063/1063 [==============================] - 3s 2ms/step - loss: 0.7128 - accuracy: 0.7447 - val_loss: 0.5459 - val_accuracy: 0.7390\n"
     ]
    },
    {
     "name": "stderr",
     "output_type": "stream",
     "text": [
      "\u001b[32m[I 2021-03-05 17:39:44,874]\u001b[0m Trial 32 finished with value: 0.8248165149345336 and parameters: {'step': 5, 'no._units': 202, 'number': 4, 'best_weight': {0: 1.0, 1: 2.0}}. Best is trial 31 with value: 0.8389401766230223.\u001b[0m\n"
     ]
    },
    {
     "name": "stdout",
     "output_type": "stream",
     "text": [
      "Epoch 1/50\n",
      "1041/1063 [============================>.] - ETA: 0s - loss: 7.5657 - accuracy: 0.4834WARNING:tensorflow:Callbacks method `on_test_batch_end` is slow compared to the batch time (batch time: 0.0000s vs `on_test_batch_end` time: 0.0010s). Check your callbacks.\n",
      "1063/1063 [==============================] - 3s 3ms/step - loss: 7.4423 - accuracy: 0.4803 - val_loss: 1.1243 - val_accuracy: 0.3760\n",
      "Epoch 2/50\n",
      "1063/1063 [==============================] - 3s 2ms/step - loss: 1.4365 - accuracy: 0.3770 - val_loss: 0.8587 - val_accuracy: 0.3760\n",
      "Epoch 3/50\n",
      "1063/1063 [==============================] - 3s 2ms/step - loss: 1.4286 - accuracy: 0.3766 - val_loss: 1.0625 - val_accuracy: 0.3760\n",
      "Epoch 4/50\n",
      "1063/1063 [==============================] - 3s 2ms/step - loss: 1.4214 - accuracy: 0.3761 - val_loss: 1.0626 - val_accuracy: 0.3760\n",
      "Epoch 5/50\n",
      "1063/1063 [==============================] - 3s 2ms/step - loss: 1.4161 - accuracy: 0.3761 - val_loss: 1.1442 - val_accuracy: 0.3760\n",
      "Epoch 6/50\n",
      "1063/1063 [==============================] - 3s 2ms/step - loss: 1.4138 - accuracy: 0.3761 - val_loss: 0.9827 - val_accuracy: 0.3760\n",
      "Epoch 7/50\n",
      "1063/1063 [==============================] - 3s 2ms/step - loss: 1.4118 - accuracy: 0.3761 - val_loss: 1.0229 - val_accuracy: 0.3760\n",
      "Epoch 8/50\n",
      "1063/1063 [==============================] - 3s 2ms/step - loss: 1.4109 - accuracy: 0.3761 - val_loss: 0.9328 - val_accuracy: 0.3760\n",
      "Epoch 9/50\n",
      "1063/1063 [==============================] - 3s 2ms/step - loss: 1.4100 - accuracy: 0.3761 - val_loss: 0.9869 - val_accuracy: 0.3760\n",
      "Epoch 10/50\n",
      "1063/1063 [==============================] - 3s 3ms/step - loss: 1.4081 - accuracy: 0.3761 - val_loss: 0.9511 - val_accuracy: 0.3760\n",
      "Epoch 11/50\n",
      "1063/1063 [==============================] - 3s 3ms/step - loss: 1.4074 - accuracy: 0.3761 - val_loss: 0.9129 - val_accuracy: 0.3760\n",
      "Epoch 12/50\n",
      "1063/1063 [==============================] - 3s 3ms/step - loss: 1.4071 - accuracy: 0.3761 - val_loss: 0.9951 - val_accuracy: 0.3760\n"
     ]
    },
    {
     "name": "stderr",
     "output_type": "stream",
     "text": [
      "\u001b[32m[I 2021-03-05 17:40:18,165]\u001b[0m Trial 33 finished with value: 0.5 and parameters: {'step': 5, 'no._units': 257, 'number': 5, 'best_weight': {0: 1.0, 1: 5.0}}. Best is trial 31 with value: 0.8389401766230223.\u001b[0m\n"
     ]
    },
    {
     "name": "stdout",
     "output_type": "stream",
     "text": [
      "Epoch 1/50\n",
      "1063/1063 [==============================] - 3s 2ms/step - loss: 0.9917 - accuracy: 0.6505 - val_loss: 2.2751 - val_accuracy: 0.3800\n",
      "Epoch 2/50\n",
      "1063/1063 [==============================] - 2s 2ms/step - loss: 0.8096 - accuracy: 0.7008 - val_loss: 0.8149 - val_accuracy: 0.5575\n",
      "Epoch 3/50\n",
      "1063/1063 [==============================] - 2s 2ms/step - loss: 0.7558 - accuracy: 0.7216 - val_loss: 0.8159 - val_accuracy: 0.6533\n",
      "Epoch 4/50\n",
      "1063/1063 [==============================] - 2s 2ms/step - loss: 0.7362 - accuracy: 0.7310 - val_loss: 0.5168 - val_accuracy: 0.7500\n",
      "Epoch 5/50\n",
      "1063/1063 [==============================] - 2s 2ms/step - loss: 0.7193 - accuracy: 0.7386 - val_loss: 0.5035 - val_accuracy: 0.7620\n",
      "Epoch 6/50\n",
      "1063/1063 [==============================] - 2s 2ms/step - loss: 0.7105 - accuracy: 0.7421 - val_loss: 0.5182 - val_accuracy: 0.7477\n",
      "Epoch 7/50\n",
      "1063/1063 [==============================] - 2s 2ms/step - loss: 0.7041 - accuracy: 0.7431 - val_loss: 0.5484 - val_accuracy: 0.7338\n",
      "Epoch 8/50\n",
      "1063/1063 [==============================] - 2s 2ms/step - loss: 0.6966 - accuracy: 0.7492 - val_loss: 0.5058 - val_accuracy: 0.7558\n",
      "Epoch 9/50\n",
      "1063/1063 [==============================] - 2s 2ms/step - loss: 0.6958 - accuracy: 0.7473 - val_loss: 0.5177 - val_accuracy: 0.7488\n",
      "Epoch 10/50\n",
      "1063/1063 [==============================] - 2s 2ms/step - loss: 0.6906 - accuracy: 0.7502 - val_loss: 0.5359 - val_accuracy: 0.7398\n",
      "Epoch 11/50\n",
      "1063/1063 [==============================] - 2s 2ms/step - loss: 0.6872 - accuracy: 0.7500 - val_loss: 0.5203 - val_accuracy: 0.7480\n",
      "Epoch 12/50\n",
      "1063/1063 [==============================] - 2s 2ms/step - loss: 0.6888 - accuracy: 0.7503 - val_loss: 0.5200 - val_accuracy: 0.7462\n",
      "Epoch 13/50\n",
      "1063/1063 [==============================] - 2s 2ms/step - loss: 0.6874 - accuracy: 0.7503 - val_loss: 0.5235 - val_accuracy: 0.7443\n",
      "Epoch 14/50\n",
      "1063/1063 [==============================] - 2s 2ms/step - loss: 0.6868 - accuracy: 0.7488 - val_loss: 0.5288 - val_accuracy: 0.7430\n",
      "Epoch 15/50\n",
      "1063/1063 [==============================] - 2s 2ms/step - loss: 0.6842 - accuracy: 0.7507 - val_loss: 0.5146 - val_accuracy: 0.7518\n"
     ]
    },
    {
     "name": "stderr",
     "output_type": "stream",
     "text": [
      "\u001b[32m[I 2021-03-05 17:40:55,934]\u001b[0m Trial 34 finished with value: 0.8311157189564768 and parameters: {'step': 5, 'no._units': 218, 'number': 4, 'best_weight': {0: 1.0, 1: 2.0}}. Best is trial 31 with value: 0.8389401766230223.\u001b[0m\n"
     ]
    },
    {
     "name": "stdout",
     "output_type": "stream",
     "text": [
      "Epoch 1/50\n",
      "1063/1063 [==============================] - 3s 3ms/step - loss: 1.5353 - accuracy: 0.5387 - val_loss: 1.8225 - val_accuracy: 0.3760\n",
      "Epoch 2/50\n",
      "1063/1063 [==============================] - 3s 2ms/step - loss: 1.2058 - accuracy: 0.4046 - val_loss: 0.6677 - val_accuracy: 0.6240\n",
      "Epoch 3/50\n",
      "1063/1063 [==============================] - 3s 2ms/step - loss: 1.1712 - accuracy: 0.3867 - val_loss: 1.1553 - val_accuracy: 0.3760\n",
      "Epoch 4/50\n",
      "1063/1063 [==============================] - 3s 2ms/step - loss: 1.1575 - accuracy: 0.3791 - val_loss: 0.6827 - val_accuracy: 0.6240\n",
      "Epoch 5/50\n",
      "1063/1063 [==============================] - 3s 2ms/step - loss: 1.1533 - accuracy: 0.3778 - val_loss: 0.7272 - val_accuracy: 0.3760\n",
      "Epoch 6/50\n",
      "1063/1063 [==============================] - 3s 2ms/step - loss: 1.1479 - accuracy: 0.3761 - val_loss: 0.9383 - val_accuracy: 0.3760\n",
      "Epoch 7/50\n",
      "1063/1063 [==============================] - 3s 2ms/step - loss: 1.1468 - accuracy: 0.3761 - val_loss: 0.8622 - val_accuracy: 0.3760\n",
      "Epoch 8/50\n",
      "1063/1063 [==============================] - 3s 2ms/step - loss: 1.1447 - accuracy: 0.3761 - val_loss: 0.7985 - val_accuracy: 0.3760\n",
      "Epoch 9/50\n",
      "1063/1063 [==============================] - 3s 2ms/step - loss: 1.1436 - accuracy: 0.3761 - val_loss: 0.7847 - val_accuracy: 0.3760\n",
      "Epoch 10/50\n",
      "1063/1063 [==============================] - 3s 2ms/step - loss: 1.1425 - accuracy: 0.3761 - val_loss: 0.7935 - val_accuracy: 0.3760\n",
      "Epoch 11/50\n",
      "1063/1063 [==============================] - 3s 2ms/step - loss: 1.1423 - accuracy: 0.3761 - val_loss: 0.8187 - val_accuracy: 0.3760\n",
      "Epoch 12/50\n",
      "1063/1063 [==============================] - 3s 2ms/step - loss: 1.1419 - accuracy: 0.3761 - val_loss: 0.7886 - val_accuracy: 0.3760\n"
     ]
    },
    {
     "name": "stderr",
     "output_type": "stream",
     "text": [
      "\u001b[32m[I 2021-03-05 17:41:27,975]\u001b[0m Trial 35 finished with value: 0.5 and parameters: {'step': 5, 'no._units': 232, 'number': 5, 'best_weight': {0: 1.0, 1: 3.0}}. Best is trial 31 with value: 0.8389401766230223.\u001b[0m\n"
     ]
    },
    {
     "name": "stdout",
     "output_type": "stream",
     "text": [
      "Epoch 1/50\n",
      "1063/1063 [==============================] - 2s 2ms/step - loss: 0.7476 - accuracy: 0.7041 - val_loss: 0.5724 - val_accuracy: 0.6982\n",
      "Epoch 2/50\n",
      "1063/1063 [==============================] - 2s 2ms/step - loss: 0.6876 - accuracy: 0.7347 - val_loss: 0.6246 - val_accuracy: 0.6902\n",
      "Epoch 3/50\n",
      "1063/1063 [==============================] - 2s 2ms/step - loss: 0.6671 - accuracy: 0.7420 - val_loss: 0.5302 - val_accuracy: 0.7398\n",
      "Epoch 4/50\n",
      "1063/1063 [==============================] - 2s 2ms/step - loss: 0.6561 - accuracy: 0.7485 - val_loss: 0.5295 - val_accuracy: 0.7385\n",
      "Epoch 5/50\n",
      "1063/1063 [==============================] - 2s 2ms/step - loss: 0.6489 - accuracy: 0.7530 - val_loss: 0.5482 - val_accuracy: 0.7298\n",
      "Epoch 6/50\n",
      "1063/1063 [==============================] - 2s 2ms/step - loss: 0.6433 - accuracy: 0.7555 - val_loss: 0.4905 - val_accuracy: 0.7682\n",
      "Epoch 7/50\n",
      "1063/1063 [==============================] - 3s 2ms/step - loss: 0.6391 - accuracy: 0.7567 - val_loss: 0.5013 - val_accuracy: 0.7598\n",
      "Epoch 8/50\n",
      "1063/1063 [==============================] - 2s 2ms/step - loss: 0.6362 - accuracy: 0.7564 - val_loss: 0.4927 - val_accuracy: 0.7663\n",
      "Epoch 9/50\n",
      "1063/1063 [==============================] - 2s 2ms/step - loss: 0.6325 - accuracy: 0.7587 - val_loss: 0.5041 - val_accuracy: 0.7555\n",
      "Epoch 10/50\n",
      "1063/1063 [==============================] - 2s 2ms/step - loss: 0.6315 - accuracy: 0.7598 - val_loss: 0.4999 - val_accuracy: 0.7618\n",
      "Epoch 11/50\n",
      "1063/1063 [==============================] - 2s 2ms/step - loss: 0.6298 - accuracy: 0.7612 - val_loss: 0.4964 - val_accuracy: 0.7648\n",
      "Epoch 12/50\n",
      "1063/1063 [==============================] - 2s 2ms/step - loss: 0.6286 - accuracy: 0.7631 - val_loss: 0.4921 - val_accuracy: 0.7667\n",
      "Epoch 13/50\n",
      "1063/1063 [==============================] - 2s 2ms/step - loss: 0.6266 - accuracy: 0.7617 - val_loss: 0.4917 - val_accuracy: 0.7663\n",
      "Epoch 14/50\n",
      "1063/1063 [==============================] - 2s 2ms/step - loss: 0.6265 - accuracy: 0.7613 - val_loss: 0.4942 - val_accuracy: 0.7650\n",
      "Epoch 15/50\n",
      "1063/1063 [==============================] - 2s 2ms/step - loss: 0.6281 - accuracy: 0.7613 - val_loss: 0.4927 - val_accuracy: 0.7660\n",
      "Epoch 16/50\n",
      "1063/1063 [==============================] - 2s 2ms/step - loss: 0.6289 - accuracy: 0.7606 - val_loss: 0.4945 - val_accuracy: 0.7642\n"
     ]
    },
    {
     "name": "stderr",
     "output_type": "stream",
     "text": [
      "\u001b[32m[I 2021-03-05 17:42:08,142]\u001b[0m Trial 36 finished with value: 0.8324925673039036 and parameters: {'step': 5, 'no._units': 100, 'number': 4, 'best_weight': {0: 1, 1: 1.6590440736555208}}. Best is trial 31 with value: 0.8389401766230223.\u001b[0m\n"
     ]
    },
    {
     "name": "stdout",
     "output_type": "stream",
     "text": [
      "Epoch 1/50\n",
      "1063/1063 [==============================] - 2s 2ms/step - loss: 1.0523 - accuracy: 0.6499 - val_loss: 0.6812 - val_accuracy: 0.7053\n",
      "Epoch 2/50\n",
      "1063/1063 [==============================] - 2s 2ms/step - loss: 0.8184 - accuracy: 0.6981 - val_loss: 0.7040 - val_accuracy: 0.6837\n",
      "Epoch 3/50\n",
      "1063/1063 [==============================] - 2s 2ms/step - loss: 0.7657 - accuracy: 0.7201 - val_loss: 0.6898 - val_accuracy: 0.6852\n",
      "Epoch 4/50\n",
      "1063/1063 [==============================] - 2s 2ms/step - loss: 0.7356 - accuracy: 0.7286 - val_loss: 0.4877 - val_accuracy: 0.7628\n",
      "Epoch 5/50\n",
      "1063/1063 [==============================] - 2s 2ms/step - loss: 0.7190 - accuracy: 0.7361 - val_loss: 0.6033 - val_accuracy: 0.7047\n",
      "Epoch 6/50\n",
      "1063/1063 [==============================] - 2s 2ms/step - loss: 0.7068 - accuracy: 0.7421 - val_loss: 0.5504 - val_accuracy: 0.7277\n",
      "Epoch 7/50\n",
      "1063/1063 [==============================] - 2s 2ms/step - loss: 0.7016 - accuracy: 0.7423 - val_loss: 0.5428 - val_accuracy: 0.7360\n",
      "Epoch 8/50\n",
      "1063/1063 [==============================] - 2s 2ms/step - loss: 0.6959 - accuracy: 0.7444 - val_loss: 0.5062 - val_accuracy: 0.7527\n",
      "Epoch 9/50\n",
      "1063/1063 [==============================] - 2s 2ms/step - loss: 0.6917 - accuracy: 0.7458 - val_loss: 0.5123 - val_accuracy: 0.7468\n",
      "Epoch 10/50\n",
      "1063/1063 [==============================] - 2s 2ms/step - loss: 0.6868 - accuracy: 0.7477 - val_loss: 0.5313 - val_accuracy: 0.7397\n",
      "Epoch 11/50\n",
      "1063/1063 [==============================] - 2s 2ms/step - loss: 0.6854 - accuracy: 0.7485 - val_loss: 0.5136 - val_accuracy: 0.7475\n",
      "Epoch 12/50\n",
      "1063/1063 [==============================] - 2s 2ms/step - loss: 0.6855 - accuracy: 0.7465 - val_loss: 0.5361 - val_accuracy: 0.7382\n",
      "Epoch 13/50\n",
      "1063/1063 [==============================] - 2s 2ms/step - loss: 0.6805 - accuracy: 0.7514 - val_loss: 0.5129 - val_accuracy: 0.7477\n",
      "Epoch 14/50\n",
      "1063/1063 [==============================] - 2s 2ms/step - loss: 0.6837 - accuracy: 0.7498 - val_loss: 0.5037 - val_accuracy: 0.7547\n"
     ]
    },
    {
     "name": "stderr",
     "output_type": "stream",
     "text": [
      "\u001b[32m[I 2021-03-05 17:42:40,651]\u001b[0m Trial 37 finished with value: 0.8297273273170879 and parameters: {'step': 5, 'no._units': 298, 'number': 3, 'best_weight': {0: 1.0, 1: 2.0}}. Best is trial 31 with value: 0.8389401766230223.\u001b[0m\n"
     ]
    },
    {
     "name": "stdout",
     "output_type": "stream",
     "text": [
      "Epoch 1/50\n",
      "1063/1063 [==============================] - 3s 2ms/step - loss: 1.9563 - accuracy: 0.4879 - val_loss: 4.5714 - val_accuracy: 0.3760\n",
      "Epoch 2/50\n",
      "1063/1063 [==============================] - 2s 2ms/step - loss: 1.5075 - accuracy: 0.3824 - val_loss: 0.8420 - val_accuracy: 0.3760\n",
      "Epoch 3/50\n",
      "1063/1063 [==============================] - 2s 2ms/step - loss: 1.4448 - accuracy: 0.3770 - val_loss: 1.3418 - val_accuracy: 0.3760\n",
      "Epoch 4/50\n",
      "1063/1063 [==============================] - 2s 2ms/step - loss: 1.4292 - accuracy: 0.3764 - val_loss: 1.0717 - val_accuracy: 0.3760\n",
      "Epoch 5/50\n",
      "1063/1063 [==============================] - 2s 2ms/step - loss: 1.4192 - accuracy: 0.3761 - val_loss: 0.9325 - val_accuracy: 0.3760\n",
      "Epoch 6/50\n",
      "1063/1063 [==============================] - 2s 2ms/step - loss: 1.4163 - accuracy: 0.3761 - val_loss: 0.9859 - val_accuracy: 0.3760\n",
      "Epoch 7/50\n",
      "1063/1063 [==============================] - 2s 2ms/step - loss: 1.4129 - accuracy: 0.3761 - val_loss: 1.1188 - val_accuracy: 0.3760\n",
      "Epoch 8/50\n",
      "1063/1063 [==============================] - 2s 2ms/step - loss: 1.4114 - accuracy: 0.3761 - val_loss: 0.9479 - val_accuracy: 0.3760\n",
      "Epoch 9/50\n",
      "1063/1063 [==============================] - 2s 2ms/step - loss: 1.4093 - accuracy: 0.3761 - val_loss: 0.9749 - val_accuracy: 0.3760\n",
      "Epoch 10/50\n",
      "1063/1063 [==============================] - 2s 2ms/step - loss: 1.4087 - accuracy: 0.3761 - val_loss: 0.9350 - val_accuracy: 0.3760\n",
      "Epoch 11/50\n",
      "1063/1063 [==============================] - 2s 2ms/step - loss: 1.4081 - accuracy: 0.3761 - val_loss: 1.0274 - val_accuracy: 0.3760\n",
      "Epoch 12/50\n",
      "1063/1063 [==============================] - 2s 2ms/step - loss: 1.4072 - accuracy: 0.3761 - val_loss: 0.9976 - val_accuracy: 0.3760\n"
     ]
    },
    {
     "name": "stderr",
     "output_type": "stream",
     "text": [
      "\u001b[32m[I 2021-03-05 17:43:10,883]\u001b[0m Trial 38 finished with value: 0.5018961188966176 and parameters: {'step': 5, 'no._units': 268, 'number': 4, 'best_weight': {0: 1.0, 1: 5.0}}. Best is trial 31 with value: 0.8389401766230223.\u001b[0m\n"
     ]
    },
    {
     "name": "stdout",
     "output_type": "stream",
     "text": [
      "Epoch 1/50\n",
      "1063/1063 [==============================] - 3s 2ms/step - loss: 1.2076 - accuracy: 0.5829 - val_loss: 0.7573 - val_accuracy: 0.6013\n",
      "Epoch 2/50\n",
      "1063/1063 [==============================] - 2s 2ms/step - loss: 1.0725 - accuracy: 0.6219 - val_loss: 0.6560 - val_accuracy: 0.6705\n",
      "Epoch 3/50\n",
      "1063/1063 [==============================] - 2s 2ms/step - loss: 1.0197 - accuracy: 0.6510 - val_loss: 0.9902 - val_accuracy: 0.4797\n",
      "Epoch 4/50\n",
      "1063/1063 [==============================] - 2s 2ms/step - loss: 0.9915 - accuracy: 0.6540 - val_loss: 0.5716 - val_accuracy: 0.7212\n",
      "Epoch 5/50\n",
      "1063/1063 [==============================] - 2s 2ms/step - loss: 0.9822 - accuracy: 0.6596 - val_loss: 0.6886 - val_accuracy: 0.6603\n",
      "Epoch 6/50\n",
      "1063/1063 [==============================] - 2s 2ms/step - loss: 0.9670 - accuracy: 0.6639 - val_loss: 0.6150 - val_accuracy: 0.6993\n",
      "Epoch 7/50\n",
      "1063/1063 [==============================] - 2s 2ms/step - loss: 0.9581 - accuracy: 0.6692 - val_loss: 0.5757 - val_accuracy: 0.7173\n",
      "Epoch 8/50\n",
      "1063/1063 [==============================] - 2s 2ms/step - loss: 0.9497 - accuracy: 0.6692 - val_loss: 0.6138 - val_accuracy: 0.6923\n",
      "Epoch 9/50\n",
      "1063/1063 [==============================] - 2s 2ms/step - loss: 0.9485 - accuracy: 0.6703 - val_loss: 0.6366 - val_accuracy: 0.6812\n",
      "Epoch 10/50\n",
      "1063/1063 [==============================] - 2s 2ms/step - loss: 0.9438 - accuracy: 0.6734 - val_loss: 0.6371 - val_accuracy: 0.6815\n",
      "Epoch 11/50\n",
      "1063/1063 [==============================] - 2s 2ms/step - loss: 0.9428 - accuracy: 0.6701 - val_loss: 0.6150 - val_accuracy: 0.6950\n",
      "Epoch 12/50\n",
      "1063/1063 [==============================] - 2s 2ms/step - loss: 0.9399 - accuracy: 0.6736 - val_loss: 0.6323 - val_accuracy: 0.6838\n",
      "Epoch 13/50\n",
      "1063/1063 [==============================] - 2s 2ms/step - loss: 0.9414 - accuracy: 0.6701 - val_loss: 0.6435 - val_accuracy: 0.6763\n",
      "Epoch 14/50\n",
      "1063/1063 [==============================] - 2s 2ms/step - loss: 0.9384 - accuracy: 0.6726 - val_loss: 0.6330 - val_accuracy: 0.6815\n"
     ]
    },
    {
     "name": "stderr",
     "output_type": "stream",
     "text": [
      "\u001b[32m[I 2021-03-05 17:43:44,896]\u001b[0m Trial 39 finished with value: 0.8262252109285022 and parameters: {'step': 5, 'no._units': 139, 'number': 4, 'best_weight': {0: 1.0, 1: 4.0}}. Best is trial 31 with value: 0.8389401766230223.\u001b[0m\n"
     ]
    },
    {
     "name": "stdout",
     "output_type": "stream",
     "text": [
      "Epoch 1/50\n",
      "1063/1063 [==============================] - 2s 2ms/step - loss: 0.8954 - accuracy: 0.6688 - val_loss: 0.9467 - val_accuracy: 0.5342\n",
      "Epoch 2/50\n",
      "1063/1063 [==============================] - 2s 2ms/step - loss: 0.7770 - accuracy: 0.7167 - val_loss: 0.7025 - val_accuracy: 0.6403\n",
      "Epoch 3/50\n",
      "1063/1063 [==============================] - 2s 2ms/step - loss: 0.7464 - accuracy: 0.7241 - val_loss: 0.5021 - val_accuracy: 0.7602\n",
      "Epoch 4/50\n",
      "1063/1063 [==============================] - 2s 2ms/step - loss: 0.7304 - accuracy: 0.7338 - val_loss: 0.5720 - val_accuracy: 0.7170\n",
      "Epoch 5/50\n",
      "1063/1063 [==============================] - 2s 2ms/step - loss: 0.7178 - accuracy: 0.7389 - val_loss: 0.5619 - val_accuracy: 0.7353\n",
      "Epoch 6/50\n",
      "1063/1063 [==============================] - 2s 2ms/step - loss: 0.7050 - accuracy: 0.7424 - val_loss: 0.5248 - val_accuracy: 0.7448\n",
      "Epoch 7/50\n",
      "1063/1063 [==============================] - 2s 2ms/step - loss: 0.7001 - accuracy: 0.7425 - val_loss: 0.5259 - val_accuracy: 0.7403\n",
      "Epoch 8/50\n",
      "1063/1063 [==============================] - 2s 2ms/step - loss: 0.6953 - accuracy: 0.7418 - val_loss: 0.5208 - val_accuracy: 0.7452\n",
      "Epoch 9/50\n",
      "1063/1063 [==============================] - 2s 2ms/step - loss: 0.6893 - accuracy: 0.7477 - val_loss: 0.5169 - val_accuracy: 0.7477\n",
      "Epoch 10/50\n",
      "1063/1063 [==============================] - 2s 2ms/step - loss: 0.6871 - accuracy: 0.7477 - val_loss: 0.5139 - val_accuracy: 0.7472\n",
      "Epoch 11/50\n",
      "1063/1063 [==============================] - 2s 2ms/step - loss: 0.6866 - accuracy: 0.7458 - val_loss: 0.5242 - val_accuracy: 0.7415\n",
      "Epoch 12/50\n",
      "1063/1063 [==============================] - 2s 2ms/step - loss: 0.6823 - accuracy: 0.7531 - val_loss: 0.5096 - val_accuracy: 0.7560\n",
      "Epoch 13/50\n",
      "1063/1063 [==============================] - 2s 2ms/step - loss: 0.6811 - accuracy: 0.7505 - val_loss: 0.5125 - val_accuracy: 0.7513\n"
     ]
    },
    {
     "name": "stderr",
     "output_type": "stream",
     "text": [
      "\u001b[32m[I 2021-03-05 17:44:15,596]\u001b[0m Trial 40 finished with value: 0.8207046167484998 and parameters: {'step': 5, 'no._units': 201, 'number': 3, 'best_weight': {0: 1.0, 1: 2.0}}. Best is trial 31 with value: 0.8389401766230223.\u001b[0m\n"
     ]
    },
    {
     "name": "stdout",
     "output_type": "stream",
     "text": [
      "Epoch 1/50\n",
      "1063/1063 [==============================] - 3s 2ms/step - loss: 1.0886 - accuracy: 0.6384 - val_loss: 0.5992 - val_accuracy: 0.7432\n",
      "Epoch 2/50\n",
      "1063/1063 [==============================] - 2s 2ms/step - loss: 0.8164 - accuracy: 0.7049 - val_loss: 0.5295 - val_accuracy: 0.7472\n",
      "Epoch 3/50\n",
      "1063/1063 [==============================] - 3s 2ms/step - loss: 0.7632 - accuracy: 0.7239 - val_loss: 0.5427 - val_accuracy: 0.7305\n",
      "Epoch 4/50\n",
      "1063/1063 [==============================] - 2s 2ms/step - loss: 0.7348 - accuracy: 0.7316 - val_loss: 0.5625 - val_accuracy: 0.7290\n",
      "Epoch 5/50\n",
      "1063/1063 [==============================] - 2s 2ms/step - loss: 0.7258 - accuracy: 0.7357 - val_loss: 0.5033 - val_accuracy: 0.7527\n",
      "Epoch 6/50\n",
      "1063/1063 [==============================] - 3s 2ms/step - loss: 0.7110 - accuracy: 0.7415 - val_loss: 0.5396 - val_accuracy: 0.7367\n",
      "Epoch 7/50\n",
      "1063/1063 [==============================] - 3s 2ms/step - loss: 0.7057 - accuracy: 0.7425 - val_loss: 0.5075 - val_accuracy: 0.7527\n",
      "Epoch 8/50\n",
      "1063/1063 [==============================] - 2s 2ms/step - loss: 0.6999 - accuracy: 0.7467 - val_loss: 0.5162 - val_accuracy: 0.7498\n",
      "Epoch 9/50\n",
      "1063/1063 [==============================] - 2s 2ms/step - loss: 0.6943 - accuracy: 0.7474 - val_loss: 0.4795 - val_accuracy: 0.7687\n",
      "Epoch 10/50\n",
      "1063/1063 [==============================] - 2s 2ms/step - loss: 0.6930 - accuracy: 0.7465 - val_loss: 0.5555 - val_accuracy: 0.7270\n",
      "Epoch 11/50\n",
      "1063/1063 [==============================] - 2s 2ms/step - loss: 0.6918 - accuracy: 0.7484 - val_loss: 0.5247 - val_accuracy: 0.7425\n",
      "Epoch 12/50\n",
      "1063/1063 [==============================] - 2s 2ms/step - loss: 0.6913 - accuracy: 0.7470 - val_loss: 0.5224 - val_accuracy: 0.7458\n",
      "Epoch 13/50\n",
      "1063/1063 [==============================] - 2s 2ms/step - loss: 0.6887 - accuracy: 0.7508 - val_loss: 0.5183 - val_accuracy: 0.7490\n",
      "Epoch 14/50\n",
      "1063/1063 [==============================] - 2s 2ms/step - loss: 0.6864 - accuracy: 0.7501 - val_loss: 0.5238 - val_accuracy: 0.7432\n",
      "Epoch 15/50\n",
      "1063/1063 [==============================] - 2s 2ms/step - loss: 0.6892 - accuracy: 0.7486 - val_loss: 0.5080 - val_accuracy: 0.7547\n",
      "Epoch 16/50\n",
      "1063/1063 [==============================] - 2s 2ms/step - loss: 0.6845 - accuracy: 0.7515 - val_loss: 0.5106 - val_accuracy: 0.7535\n",
      "Epoch 17/50\n",
      "1063/1063 [==============================] - 2s 2ms/step - loss: 0.6872 - accuracy: 0.7511 - val_loss: 0.5216 - val_accuracy: 0.7455\n",
      "Epoch 18/50\n",
      "1063/1063 [==============================] - 2s 2ms/step - loss: 0.6859 - accuracy: 0.7515 - val_loss: 0.5181 - val_accuracy: 0.7475\n",
      "Epoch 19/50\n",
      "1063/1063 [==============================] - 2s 2ms/step - loss: 0.6866 - accuracy: 0.7511 - val_loss: 0.5162 - val_accuracy: 0.7483\n"
     ]
    },
    {
     "name": "stderr",
     "output_type": "stream",
     "text": [
      "\u001b[32m[I 2021-03-05 17:45:04,452]\u001b[0m Trial 41 finished with value: 0.8364551130508576 and parameters: {'step': 5, 'no._units': 246, 'number': 4, 'best_weight': {0: 1.0, 1: 2.0}}. Best is trial 31 with value: 0.8389401766230223.\u001b[0m\n"
     ]
    },
    {
     "name": "stdout",
     "output_type": "stream",
     "text": [
      "Epoch 1/50\n",
      "1046/1063 [============================>.] - ETA: 0s - loss: 1.3249 - accuracy: 0.5776WARNING:tensorflow:Callbacks method `on_test_batch_end` is slow compared to the batch time (batch time: 0.0000s vs `on_test_batch_end` time: 0.0010s). Check your callbacks.\n",
      "1063/1063 [==============================] - 3s 2ms/step - loss: 1.3209 - accuracy: 0.5758 - val_loss: 1.2222 - val_accuracy: 0.3762\n",
      "Epoch 2/50\n",
      "1063/1063 [==============================] - 2s 2ms/step - loss: 0.9987 - accuracy: 0.4664 - val_loss: 0.9325 - val_accuracy: 0.3762\n",
      "Epoch 3/50\n",
      "1063/1063 [==============================] - 2s 2ms/step - loss: 0.9737 - accuracy: 0.4557 - val_loss: 0.9700 - val_accuracy: 0.3758\n",
      "Epoch 4/50\n",
      "1063/1063 [==============================] - 2s 2ms/step - loss: 0.9620 - accuracy: 0.4380 - val_loss: 0.8580 - val_accuracy: 0.3760\n",
      "Epoch 5/50\n",
      "1063/1063 [==============================] - 2s 2ms/step - loss: 0.9581 - accuracy: 0.4222 - val_loss: 0.7039 - val_accuracy: 0.3760\n",
      "Epoch 6/50\n",
      "1063/1063 [==============================] - 2s 2ms/step - loss: 0.9548 - accuracy: 0.4220 - val_loss: 0.6748 - val_accuracy: 0.6240\n",
      "Epoch 7/50\n",
      "1063/1063 [==============================] - 3s 2ms/step - loss: 0.9522 - accuracy: 0.4094 - val_loss: 0.6883 - val_accuracy: 0.6240\n",
      "Epoch 8/50\n",
      "1063/1063 [==============================] - 3s 2ms/step - loss: 0.9512 - accuracy: 0.3997 - val_loss: 0.6930 - val_accuracy: 0.6240\n",
      "Epoch 9/50\n",
      "1063/1063 [==============================] - 3s 2ms/step - loss: 0.9508 - accuracy: 0.3860 - val_loss: 0.7515 - val_accuracy: 0.3762\n",
      "Epoch 10/50\n",
      "1063/1063 [==============================] - 3s 2ms/step - loss: 0.9496 - accuracy: 0.3793 - val_loss: 0.7078 - val_accuracy: 0.3760\n",
      "Epoch 11/50\n",
      "1063/1063 [==============================] - 3s 2ms/step - loss: 0.9492 - accuracy: 0.3759 - val_loss: 0.7214 - val_accuracy: 0.3762\n",
      "Epoch 12/50\n",
      "1063/1063 [==============================] - 2s 2ms/step - loss: 0.9485 - accuracy: 0.3809 - val_loss: 0.7234 - val_accuracy: 0.3760\n",
      "Epoch 13/50\n",
      "1063/1063 [==============================] - 3s 2ms/step - loss: 0.9485 - accuracy: 0.3761 - val_loss: 0.7230 - val_accuracy: 0.3762\n",
      "Epoch 14/50\n",
      "1063/1063 [==============================] - 3s 2ms/step - loss: 0.9481 - accuracy: 0.3761 - val_loss: 0.7137 - val_accuracy: 0.3760\n",
      "Epoch 15/50\n",
      "1063/1063 [==============================] - 3s 2ms/step - loss: 0.9481 - accuracy: 0.3761 - val_loss: 0.7305 - val_accuracy: 0.3762\n",
      "Epoch 16/50\n",
      "1063/1063 [==============================] - 3s 2ms/step - loss: 0.9480 - accuracy: 0.3761 - val_loss: 0.7319 - val_accuracy: 0.3762\n"
     ]
    },
    {
     "name": "stderr",
     "output_type": "stream",
     "text": [
      "\u001b[32m[I 2021-03-05 17:45:45,978]\u001b[0m Trial 42 finished with value: 0.4999119749992423 and parameters: {'step': 5, 'no._units': 234, 'number': 4, 'best_weight': {0: 1.0, 1: 2.0}}. Best is trial 31 with value: 0.8389401766230223.\u001b[0m\n"
     ]
    },
    {
     "name": "stdout",
     "output_type": "stream",
     "text": [
      "Epoch 1/50\n",
      "1063/1063 [==============================] - 3s 2ms/step - loss: 1.2073 - accuracy: 0.6104 - val_loss: 1.0335 - val_accuracy: 0.3760\n",
      "Epoch 2/50\n",
      "1063/1063 [==============================] - 2s 2ms/step - loss: 0.8341 - accuracy: 0.7021 - val_loss: 0.5276 - val_accuracy: 0.7432\n",
      "Epoch 3/50\n",
      "1063/1063 [==============================] - 2s 2ms/step - loss: 0.7635 - accuracy: 0.7215 - val_loss: 0.5200 - val_accuracy: 0.7508\n",
      "Epoch 4/50\n",
      "1063/1063 [==============================] - 2s 2ms/step - loss: 0.7408 - accuracy: 0.7286 - val_loss: 0.7721 - val_accuracy: 0.5648\n",
      "Epoch 5/50\n",
      "1063/1063 [==============================] - 2s 2ms/step - loss: 0.7276 - accuracy: 0.7344 - val_loss: 0.5027 - val_accuracy: 0.7522\n",
      "Epoch 6/50\n",
      "1063/1063 [==============================] - 2s 2ms/step - loss: 0.7154 - accuracy: 0.7405 - val_loss: 0.5657 - val_accuracy: 0.7215\n",
      "Epoch 7/50\n",
      "1063/1063 [==============================] - 2s 2ms/step - loss: 0.7088 - accuracy: 0.7431 - val_loss: 0.6078 - val_accuracy: 0.6957\n",
      "Epoch 8/50\n",
      "1063/1063 [==============================] - 2s 2ms/step - loss: 0.7048 - accuracy: 0.7432 - val_loss: 0.5608 - val_accuracy: 0.7338\n",
      "Epoch 9/50\n",
      "1063/1063 [==============================] - 2s 2ms/step - loss: 0.7026 - accuracy: 0.7431 - val_loss: 0.4971 - val_accuracy: 0.7575\n",
      "Epoch 10/50\n",
      "1063/1063 [==============================] - 2s 2ms/step - loss: 0.7001 - accuracy: 0.7473 - val_loss: 0.5487 - val_accuracy: 0.7342\n",
      "Epoch 11/50\n",
      "1063/1063 [==============================] - 2s 2ms/step - loss: 0.6940 - accuracy: 0.7460 - val_loss: 0.5232 - val_accuracy: 0.7403\n",
      "Epoch 12/50\n",
      "1063/1063 [==============================] - 2s 2ms/step - loss: 0.6941 - accuracy: 0.7486 - val_loss: 0.5308 - val_accuracy: 0.7395\n",
      "Epoch 13/50\n",
      "1063/1063 [==============================] - 2s 2ms/step - loss: 0.6935 - accuracy: 0.7493 - val_loss: 0.5406 - val_accuracy: 0.7373\n",
      "Epoch 14/50\n",
      "1063/1063 [==============================] - 2s 2ms/step - loss: 0.6909 - accuracy: 0.7473 - val_loss: 0.5299 - val_accuracy: 0.7395\n",
      "Epoch 15/50\n",
      "1063/1063 [==============================] - 2s 2ms/step - loss: 0.6885 - accuracy: 0.7495 - val_loss: 0.5286 - val_accuracy: 0.7387\n",
      "Epoch 16/50\n",
      "1063/1063 [==============================] - 2s 2ms/step - loss: 0.6906 - accuracy: 0.7484 - val_loss: 0.5250 - val_accuracy: 0.7427\n",
      "Epoch 17/50\n",
      "1063/1063 [==============================] - 2s 2ms/step - loss: 0.6897 - accuracy: 0.7478 - val_loss: 0.5285 - val_accuracy: 0.7408\n",
      "Epoch 18/50\n",
      "1063/1063 [==============================] - 2s 2ms/step - loss: 0.6943 - accuracy: 0.7458 - val_loss: 0.5272 - val_accuracy: 0.7410\n",
      "Epoch 19/50\n",
      "1063/1063 [==============================] - 2s 2ms/step - loss: 0.6911 - accuracy: 0.7476 - val_loss: 0.5253 - val_accuracy: 0.7400\n"
     ]
    },
    {
     "name": "stderr",
     "output_type": "stream",
     "text": [
      "\u001b[32m[I 2021-03-05 17:46:32,899]\u001b[0m Trial 43 finished with value: 0.8339557239573862 and parameters: {'step': 5, 'no._units': 275, 'number': 4, 'best_weight': {0: 1.0, 1: 2.0}}. Best is trial 31 with value: 0.8389401766230223.\u001b[0m\n"
     ]
    },
    {
     "name": "stdout",
     "output_type": "stream",
     "text": [
      "Epoch 1/50\n",
      "1063/1063 [==============================] - 3s 3ms/step - loss: 1.0472 - accuracy: 0.6341 - val_loss: 0.6211 - val_accuracy: 0.7260\n",
      "Epoch 2/50\n",
      "1063/1063 [==============================] - 3s 2ms/step - loss: 0.7991 - accuracy: 0.6976 - val_loss: 0.5648 - val_accuracy: 0.7297\n",
      "Epoch 3/50\n",
      "1063/1063 [==============================] - 3s 2ms/step - loss: 0.7552 - accuracy: 0.7171 - val_loss: 0.6987 - val_accuracy: 0.6597\n",
      "Epoch 4/50\n",
      "1063/1063 [==============================] - 3s 2ms/step - loss: 0.7365 - accuracy: 0.7292 - val_loss: 0.6535 - val_accuracy: 0.6840\n",
      "Epoch 5/50\n",
      "1063/1063 [==============================] - 3s 2ms/step - loss: 0.7269 - accuracy: 0.7328 - val_loss: 0.5431 - val_accuracy: 0.7388\n",
      "Epoch 6/50\n",
      "1063/1063 [==============================] - 3s 2ms/step - loss: 0.7158 - accuracy: 0.7381 - val_loss: 0.5040 - val_accuracy: 0.7485\n",
      "Epoch 7/50\n",
      "1063/1063 [==============================] - 3s 2ms/step - loss: 0.7071 - accuracy: 0.7398 - val_loss: 0.5730 - val_accuracy: 0.7210\n",
      "Epoch 8/50\n",
      "1063/1063 [==============================] - 3s 2ms/step - loss: 0.7034 - accuracy: 0.7426 - val_loss: 0.5028 - val_accuracy: 0.7522\n",
      "Epoch 9/50\n",
      "1063/1063 [==============================] - 3s 2ms/step - loss: 0.7015 - accuracy: 0.7439 - val_loss: 0.5293 - val_accuracy: 0.7448\n",
      "Epoch 10/50\n",
      "1063/1063 [==============================] - 3s 2ms/step - loss: 0.6999 - accuracy: 0.7471 - val_loss: 0.5154 - val_accuracy: 0.7492\n",
      "Epoch 11/50\n",
      "1063/1063 [==============================] - 3s 2ms/step - loss: 0.6956 - accuracy: 0.7493 - val_loss: 0.5361 - val_accuracy: 0.7433\n",
      "Epoch 12/50\n",
      "1063/1063 [==============================] - 3s 2ms/step - loss: 0.6933 - accuracy: 0.7504 - val_loss: 0.5495 - val_accuracy: 0.7362\n",
      "Epoch 13/50\n",
      "1063/1063 [==============================] - 3s 2ms/step - loss: 0.6932 - accuracy: 0.7489 - val_loss: 0.5277 - val_accuracy: 0.7408\n",
      "Epoch 14/50\n",
      "1063/1063 [==============================] - 2s 2ms/step - loss: 0.6932 - accuracy: 0.7493 - val_loss: 0.5348 - val_accuracy: 0.7410\n",
      "Epoch 15/50\n",
      "1063/1063 [==============================] - 2s 2ms/step - loss: 0.6925 - accuracy: 0.7495 - val_loss: 0.5243 - val_accuracy: 0.7427\n",
      "Epoch 16/50\n",
      "1063/1063 [==============================] - 2s 2ms/step - loss: 0.6905 - accuracy: 0.7500 - val_loss: 0.5269 - val_accuracy: 0.7407\n",
      "Epoch 17/50\n",
      "1063/1063 [==============================] - 2s 2ms/step - loss: 0.6932 - accuracy: 0.7512 - val_loss: 0.5279 - val_accuracy: 0.7408\n",
      "Epoch 18/50\n",
      "1063/1063 [==============================] - 2s 2ms/step - loss: 0.6943 - accuracy: 0.7475 - val_loss: 0.5263 - val_accuracy: 0.7420\n"
     ]
    },
    {
     "name": "stderr",
     "output_type": "stream",
     "text": [
      "\u001b[32m[I 2021-03-05 17:47:20,168]\u001b[0m Trial 44 finished with value: 0.8322344119385343 and parameters: {'step': 5, 'no._units': 209, 'number': 5, 'best_weight': {0: 1.0, 1: 2.0}}. Best is trial 31 with value: 0.8389401766230223.\u001b[0m\n"
     ]
    },
    {
     "name": "stdout",
     "output_type": "stream",
     "text": [
      "Epoch 1/50\n",
      "1063/1063 [==============================] - 3s 2ms/step - loss: 1.1470 - accuracy: 0.6075 - val_loss: 1.9270 - val_accuracy: 0.3760\n",
      "Epoch 2/50\n",
      "1063/1063 [==============================] - 2s 2ms/step - loss: 0.7696 - accuracy: 0.7126 - val_loss: 0.5309 - val_accuracy: 0.7458\n",
      "Epoch 3/50\n",
      "1063/1063 [==============================] - 2s 2ms/step - loss: 0.6971 - accuracy: 0.7332 - val_loss: 0.4937 - val_accuracy: 0.7662\n",
      "Epoch 4/50\n",
      "1063/1063 [==============================] - 2s 2ms/step - loss: 0.6783 - accuracy: 0.7377 - val_loss: 0.4928 - val_accuracy: 0.7617\n",
      "Epoch 5/50\n",
      "1063/1063 [==============================] - 2s 2ms/step - loss: 0.6605 - accuracy: 0.7463 - val_loss: 0.5398 - val_accuracy: 0.7363\n",
      "Epoch 6/50\n",
      "1063/1063 [==============================] - 2s 2ms/step - loss: 0.6536 - accuracy: 0.7502 - val_loss: 0.5135 - val_accuracy: 0.7500\n",
      "Epoch 7/50\n",
      "1063/1063 [==============================] - 2s 2ms/step - loss: 0.6433 - accuracy: 0.7567 - val_loss: 0.5219 - val_accuracy: 0.7457\n",
      "Epoch 8/50\n",
      "1063/1063 [==============================] - 2s 2ms/step - loss: 0.6407 - accuracy: 0.7566 - val_loss: 0.5140 - val_accuracy: 0.7500\n",
      "Epoch 9/50\n",
      "1063/1063 [==============================] - 2s 2ms/step - loss: 0.6366 - accuracy: 0.7611 - val_loss: 0.4964 - val_accuracy: 0.7613\n",
      "Epoch 10/50\n",
      "1063/1063 [==============================] - 2s 2ms/step - loss: 0.6337 - accuracy: 0.7581 - val_loss: 0.5135 - val_accuracy: 0.7490\n",
      "Epoch 11/50\n",
      "1063/1063 [==============================] - 2s 2ms/step - loss: 0.6309 - accuracy: 0.7604 - val_loss: 0.4876 - val_accuracy: 0.7675\n",
      "Epoch 12/50\n",
      "1063/1063 [==============================] - 2s 2ms/step - loss: 0.6276 - accuracy: 0.7637 - val_loss: 0.4956 - val_accuracy: 0.7610\n",
      "Epoch 13/50\n",
      "1063/1063 [==============================] - 2s 2ms/step - loss: 0.6281 - accuracy: 0.7628 - val_loss: 0.4935 - val_accuracy: 0.7608\n",
      "Epoch 14/50\n",
      "1063/1063 [==============================] - 2s 2ms/step - loss: 0.6289 - accuracy: 0.7619 - val_loss: 0.5051 - val_accuracy: 0.7572\n",
      "Epoch 15/50\n",
      "1063/1063 [==============================] - 2s 2ms/step - loss: 0.6269 - accuracy: 0.7621 - val_loss: 0.4941 - val_accuracy: 0.7623\n",
      "Epoch 16/50\n",
      "1063/1063 [==============================] - 2s 2ms/step - loss: 0.6256 - accuracy: 0.7622 - val_loss: 0.4987 - val_accuracy: 0.7615\n",
      "Epoch 17/50\n",
      "1063/1063 [==============================] - 2s 2ms/step - loss: 0.6264 - accuracy: 0.7637 - val_loss: 0.4970 - val_accuracy: 0.7607\n",
      "Epoch 18/50\n",
      "1063/1063 [==============================] - 2s 2ms/step - loss: 0.6246 - accuracy: 0.7638 - val_loss: 0.5006 - val_accuracy: 0.7595\n",
      "Epoch 19/50\n",
      "1063/1063 [==============================] - 2s 2ms/step - loss: 0.6262 - accuracy: 0.7621 - val_loss: 0.4980 - val_accuracy: 0.7607\n",
      "Epoch 20/50\n",
      "1063/1063 [==============================] - 2s 2ms/step - loss: 0.6258 - accuracy: 0.7616 - val_loss: 0.4985 - val_accuracy: 0.7605\n",
      "Epoch 21/50\n",
      "1063/1063 [==============================] - 2s 2ms/step - loss: 0.6255 - accuracy: 0.7649 - val_loss: 0.4985 - val_accuracy: 0.7598\n"
     ]
    },
    {
     "name": "stderr",
     "output_type": "stream",
     "text": [
      "\u001b[32m[I 2021-03-05 17:48:12,113]\u001b[0m Trial 45 finished with value: 0.8361491270193065 and parameters: {'step': 5, 'no._units': 292, 'number': 4, 'best_weight': {0: 1, 1: 1.6590440736555208}}. Best is trial 31 with value: 0.8389401766230223.\u001b[0m\n"
     ]
    },
    {
     "name": "stdout",
     "output_type": "stream",
     "text": [
      "Epoch 1/50\n",
      "1063/1063 [==============================] - 3s 2ms/step - loss: 1.0311 - accuracy: 0.6277 - val_loss: 0.5684 - val_accuracy: 0.7185\n",
      "Epoch 2/50\n",
      "1063/1063 [==============================] - 2s 2ms/step - loss: 0.7548 - accuracy: 0.7125 - val_loss: 0.6548 - val_accuracy: 0.7300\n",
      "Epoch 3/50\n",
      "1063/1063 [==============================] - 2s 2ms/step - loss: 0.6913 - accuracy: 0.7349 - val_loss: 0.5265 - val_accuracy: 0.7462\n",
      "Epoch 4/50\n",
      "1063/1063 [==============================] - 2s 2ms/step - loss: 0.6728 - accuracy: 0.7427 - val_loss: 0.5492 - val_accuracy: 0.7395\n",
      "Epoch 5/50\n",
      "1063/1063 [==============================] - 2s 2ms/step - loss: 0.6634 - accuracy: 0.7484 - val_loss: 0.4877 - val_accuracy: 0.7672\n",
      "Epoch 6/50\n",
      "1063/1063 [==============================] - 2s 2ms/step - loss: 0.6539 - accuracy: 0.7525 - val_loss: 0.5800 - val_accuracy: 0.7242\n",
      "Epoch 7/50\n",
      "1063/1063 [==============================] - 2s 2ms/step - loss: 0.6477 - accuracy: 0.7533 - val_loss: 0.5621 - val_accuracy: 0.7307\n",
      "Epoch 8/50\n",
      "1063/1063 [==============================] - 2s 2ms/step - loss: 0.6419 - accuracy: 0.7556 - val_loss: 0.5240 - val_accuracy: 0.7462\n",
      "Epoch 9/50\n",
      "1063/1063 [==============================] - 2s 2ms/step - loss: 0.6407 - accuracy: 0.7569 - val_loss: 0.5043 - val_accuracy: 0.7492\n",
      "Epoch 10/50\n",
      "1063/1063 [==============================] - 2s 2ms/step - loss: 0.6381 - accuracy: 0.7592 - val_loss: 0.5037 - val_accuracy: 0.7530\n",
      "Epoch 11/50\n",
      "1063/1063 [==============================] - 2s 2ms/step - loss: 0.6368 - accuracy: 0.7575 - val_loss: 0.5214 - val_accuracy: 0.7468\n",
      "Epoch 12/50\n",
      "1063/1063 [==============================] - 2s 2ms/step - loss: 0.6353 - accuracy: 0.7567 - val_loss: 0.5055 - val_accuracy: 0.7488\n",
      "Epoch 13/50\n",
      "1063/1063 [==============================] - 3s 2ms/step - loss: 0.6355 - accuracy: 0.7581 - val_loss: 0.5103 - val_accuracy: 0.7478\n",
      "Epoch 14/50\n",
      "1063/1063 [==============================] - 3s 2ms/step - loss: 0.6348 - accuracy: 0.7581 - val_loss: 0.5188 - val_accuracy: 0.7463\n",
      "Epoch 15/50\n",
      "1063/1063 [==============================] - 2s 2ms/step - loss: 0.6322 - accuracy: 0.7579 - val_loss: 0.5122 - val_accuracy: 0.7467\n"
     ]
    },
    {
     "name": "stderr",
     "output_type": "stream",
     "text": [
      "\u001b[32m[I 2021-03-05 17:48:50,609]\u001b[0m Trial 46 finished with value: 0.8297811368165423 and parameters: {'step': 5, 'no._units': 251, 'number': 4, 'best_weight': {0: 1, 1: 1.6590440736555208}}. Best is trial 31 with value: 0.8389401766230223.\u001b[0m\n"
     ]
    },
    {
     "name": "stdout",
     "output_type": "stream",
     "text": [
      "Epoch 1/50\n",
      "1063/1063 [==============================] - 3s 3ms/step - loss: 1.1091 - accuracy: 0.6278 - val_loss: 1.2214 - val_accuracy: 0.3760\n",
      "Epoch 2/50\n",
      "1063/1063 [==============================] - 3s 2ms/step - loss: 0.6952 - accuracy: 0.7336 - val_loss: 0.5021 - val_accuracy: 0.7585\n",
      "Epoch 3/50\n",
      "1063/1063 [==============================] - 3s 2ms/step - loss: 0.6638 - accuracy: 0.7438 - val_loss: 0.5062 - val_accuracy: 0.7572\n",
      "Epoch 4/50\n",
      "1063/1063 [==============================] - 2s 2ms/step - loss: 0.6502 - accuracy: 0.7514 - val_loss: 0.5476 - val_accuracy: 0.7340\n",
      "Epoch 5/50\n",
      "1063/1063 [==============================] - 2s 2ms/step - loss: 0.6446 - accuracy: 0.7518 - val_loss: 0.5162 - val_accuracy: 0.7445\n",
      "Epoch 6/50\n",
      "1063/1063 [==============================] - 2s 2ms/step - loss: 0.6406 - accuracy: 0.7549 - val_loss: 0.5311 - val_accuracy: 0.7388\n",
      "Epoch 7/50\n",
      "1063/1063 [==============================] - 2s 2ms/step - loss: 0.6400 - accuracy: 0.7537 - val_loss: 0.5162 - val_accuracy: 0.7473\n",
      "Epoch 8/50\n",
      "1063/1063 [==============================] - 2s 2ms/step - loss: 0.6393 - accuracy: 0.7567 - val_loss: 0.5109 - val_accuracy: 0.7498\n",
      "Epoch 9/50\n",
      "1063/1063 [==============================] - 2s 2ms/step - loss: 0.6410 - accuracy: 0.7547 - val_loss: 0.5136 - val_accuracy: 0.7472\n",
      "Epoch 10/50\n",
      "1063/1063 [==============================] - 2s 2ms/step - loss: 0.6392 - accuracy: 0.7552 - val_loss: 0.5112 - val_accuracy: 0.7487\n",
      "Epoch 11/50\n",
      "1063/1063 [==============================] - 2s 2ms/step - loss: 0.6419 - accuracy: 0.7516 - val_loss: 0.5116 - val_accuracy: 0.7487\n",
      "Epoch 12/50\n",
      "1063/1063 [==============================] - 2s 2ms/step - loss: 0.6395 - accuracy: 0.7559 - val_loss: 0.5105 - val_accuracy: 0.7490\n"
     ]
    },
    {
     "name": "stderr",
     "output_type": "stream",
     "text": [
      "\u001b[32m[I 2021-03-05 17:49:21,454]\u001b[0m Trial 47 finished with value: 0.8231297143988301 and parameters: {'step': 2, 'no._units': 289, 'number': 4, 'best_weight': {0: 1, 1: 1.6590440736555208}}. Best is trial 31 with value: 0.8389401766230223.\u001b[0m\n"
     ]
    },
    {
     "name": "stdout",
     "output_type": "stream",
     "text": [
      "Epoch 1/50\n",
      "1063/1063 [==============================] - 2s 2ms/step - loss: 0.7947 - accuracy: 0.6907 - val_loss: 0.5326 - val_accuracy: 0.7557\n",
      "Epoch 2/50\n",
      "1063/1063 [==============================] - 2s 2ms/step - loss: 0.7051 - accuracy: 0.7265 - val_loss: 0.5380 - val_accuracy: 0.7470\n",
      "Epoch 3/50\n",
      "1063/1063 [==============================] - 2s 2ms/step - loss: 0.6777 - accuracy: 0.7408 - val_loss: 0.7135 - val_accuracy: 0.6435\n",
      "Epoch 4/50\n",
      "1063/1063 [==============================] - 2s 2ms/step - loss: 0.6617 - accuracy: 0.7470 - val_loss: 0.5251 - val_accuracy: 0.7470\n",
      "Epoch 5/50\n",
      "1063/1063 [==============================] - 2s 2ms/step - loss: 0.6506 - accuracy: 0.7507 - val_loss: 0.5279 - val_accuracy: 0.7445\n",
      "Epoch 6/50\n",
      "1063/1063 [==============================] - 2s 2ms/step - loss: 0.6463 - accuracy: 0.7493 - val_loss: 0.4821 - val_accuracy: 0.7690\n",
      "Epoch 7/50\n",
      "1063/1063 [==============================] - 2s 2ms/step - loss: 0.6368 - accuracy: 0.7537 - val_loss: 0.4983 - val_accuracy: 0.7502\n",
      "Epoch 8/50\n",
      "1063/1063 [==============================] - 2s 2ms/step - loss: 0.6328 - accuracy: 0.7589 - val_loss: 0.5001 - val_accuracy: 0.7533\n",
      "Epoch 9/50\n",
      "1063/1063 [==============================] - 2s 2ms/step - loss: 0.6287 - accuracy: 0.7595 - val_loss: 0.4915 - val_accuracy: 0.7570\n",
      "Epoch 10/50\n",
      "1063/1063 [==============================] - 2s 2ms/step - loss: 0.6266 - accuracy: 0.7609 - val_loss: 0.4950 - val_accuracy: 0.7593\n",
      "Epoch 11/50\n",
      "1063/1063 [==============================] - 2s 2ms/step - loss: 0.6254 - accuracy: 0.7600 - val_loss: 0.4927 - val_accuracy: 0.7612\n",
      "Epoch 12/50\n",
      "1063/1063 [==============================] - 2s 2ms/step - loss: 0.6234 - accuracy: 0.7621 - val_loss: 0.4883 - val_accuracy: 0.7623\n",
      "Epoch 13/50\n",
      "1063/1063 [==============================] - 2s 2ms/step - loss: 0.6231 - accuracy: 0.7612 - val_loss: 0.4943 - val_accuracy: 0.7610\n",
      "Epoch 14/50\n",
      "1063/1063 [==============================] - 2s 2ms/step - loss: 0.6236 - accuracy: 0.7596 - val_loss: 0.4875 - val_accuracy: 0.7637\n",
      "Epoch 15/50\n",
      "1063/1063 [==============================] - 2s 2ms/step - loss: 0.6197 - accuracy: 0.7630 - val_loss: 0.4952 - val_accuracy: 0.7595\n",
      "Epoch 16/50\n",
      "1063/1063 [==============================] - 2s 2ms/step - loss: 0.6239 - accuracy: 0.7594 - val_loss: 0.4910 - val_accuracy: 0.7637\n"
     ]
    },
    {
     "name": "stderr",
     "output_type": "stream",
     "text": [
      "\u001b[32m[I 2021-03-05 17:49:59,398]\u001b[0m Trial 48 finished with value: 0.835384073145875 and parameters: {'step': 5, 'no._units': 185, 'number': 3, 'best_weight': {0: 1, 1: 1.6590440736555208}}. Best is trial 31 with value: 0.8389401766230223.\u001b[0m\n"
     ]
    },
    {
     "name": "stdout",
     "output_type": "stream",
     "text": [
      "Epoch 1/50\n",
      "1063/1063 [==============================] - 2s 2ms/step - loss: 0.9824 - accuracy: 0.6515 - val_loss: 0.7412 - val_accuracy: 0.7037\n",
      "Epoch 2/50\n",
      "1063/1063 [==============================] - 2s 2ms/step - loss: 0.7576 - accuracy: 0.7031 - val_loss: 0.6311 - val_accuracy: 0.7078\n",
      "Epoch 3/50\n",
      "1063/1063 [==============================] - 2s 2ms/step - loss: 0.6973 - accuracy: 0.7307 - val_loss: 0.5130 - val_accuracy: 0.7578\n",
      "Epoch 4/50\n",
      "1063/1063 [==============================] - 2s 2ms/step - loss: 0.6649 - accuracy: 0.7446 - val_loss: 0.4960 - val_accuracy: 0.7620\n",
      "Epoch 5/50\n",
      "1063/1063 [==============================] - 2s 2ms/step - loss: 0.6583 - accuracy: 0.7482 - val_loss: 0.5852 - val_accuracy: 0.7128\n",
      "Epoch 6/50\n",
      "1063/1063 [==============================] - 2s 2ms/step - loss: 0.6471 - accuracy: 0.7512 - val_loss: 0.5095 - val_accuracy: 0.7515\n",
      "Epoch 7/50\n",
      "1063/1063 [==============================] - 2s 2ms/step - loss: 0.6394 - accuracy: 0.7525 - val_loss: 0.5443 - val_accuracy: 0.7367\n",
      "Epoch 8/50\n",
      "1063/1063 [==============================] - 2s 2ms/step - loss: 0.6330 - accuracy: 0.7590 - val_loss: 0.4970 - val_accuracy: 0.7600\n",
      "Epoch 9/50\n",
      "1063/1063 [==============================] - 2s 2ms/step - loss: 0.6315 - accuracy: 0.7580 - val_loss: 0.5323 - val_accuracy: 0.7412\n",
      "Epoch 10/50\n",
      "1063/1063 [==============================] - 2s 2ms/step - loss: 0.6257 - accuracy: 0.7608 - val_loss: 0.5221 - val_accuracy: 0.7483\n",
      "Epoch 11/50\n",
      "1063/1063 [==============================] - 2s 2ms/step - loss: 0.6215 - accuracy: 0.7648 - val_loss: 0.4961 - val_accuracy: 0.7593\n",
      "Epoch 12/50\n",
      "1063/1063 [==============================] - 2s 2ms/step - loss: 0.6205 - accuracy: 0.7676 - val_loss: 0.5046 - val_accuracy: 0.7593\n",
      "Epoch 13/50\n",
      "1063/1063 [==============================] - 2s 2ms/step - loss: 0.6226 - accuracy: 0.7613 - val_loss: 0.4939 - val_accuracy: 0.7623\n",
      "Epoch 14/50\n",
      "1063/1063 [==============================] - 2s 2ms/step - loss: 0.6211 - accuracy: 0.7636 - val_loss: 0.4954 - val_accuracy: 0.7623\n",
      "Epoch 15/50\n",
      "1063/1063 [==============================] - 2s 2ms/step - loss: 0.6211 - accuracy: 0.7657 - val_loss: 0.4969 - val_accuracy: 0.7623\n",
      "Epoch 16/50\n",
      "1063/1063 [==============================] - 2s 2ms/step - loss: 0.6213 - accuracy: 0.7628 - val_loss: 0.4961 - val_accuracy: 0.7617\n",
      "Epoch 17/50\n",
      "1063/1063 [==============================] - 2s 2ms/step - loss: 0.6207 - accuracy: 0.7630 - val_loss: 0.4909 - val_accuracy: 0.7643\n",
      "Epoch 18/50\n",
      "1063/1063 [==============================] - 2s 2ms/step - loss: 0.6195 - accuracy: 0.7660 - val_loss: 0.4935 - val_accuracy: 0.7632\n",
      "Epoch 19/50\n",
      "1063/1063 [==============================] - 2s 2ms/step - loss: 0.6190 - accuracy: 0.7646 - val_loss: 0.4928 - val_accuracy: 0.7627\n",
      "Epoch 20/50\n",
      "1063/1063 [==============================] - 2s 2ms/step - loss: 0.6187 - accuracy: 0.7671 - val_loss: 0.4918 - val_accuracy: 0.7650\n",
      "Epoch 21/50\n",
      "1063/1063 [==============================] - 2s 2ms/step - loss: 0.6194 - accuracy: 0.7655 - val_loss: 0.4897 - val_accuracy: 0.7637\n",
      "Epoch 22/50\n",
      "1063/1063 [==============================] - 2s 2ms/step - loss: 0.6159 - accuracy: 0.7687 - val_loss: 0.4921 - val_accuracy: 0.7630\n",
      "Epoch 23/50\n",
      "1063/1063 [==============================] - 2s 2ms/step - loss: 0.6210 - accuracy: 0.7650 - val_loss: 0.4930 - val_accuracy: 0.7632\n",
      "Epoch 24/50\n",
      "1063/1063 [==============================] - 2s 2ms/step - loss: 0.6185 - accuracy: 0.7656 - val_loss: 0.4913 - val_accuracy: 0.7630\n",
      "Epoch 25/50\n",
      "1063/1063 [==============================] - 2s 2ms/step - loss: 0.6214 - accuracy: 0.7643 - val_loss: 0.4921 - val_accuracy: 0.7627\n",
      "Epoch 26/50\n",
      "1063/1063 [==============================] - 2s 2ms/step - loss: 0.6180 - accuracy: 0.7647 - val_loss: 0.4919 - val_accuracy: 0.7628\n",
      "Epoch 27/50\n",
      "1063/1063 [==============================] - 2s 2ms/step - loss: 0.6180 - accuracy: 0.7670 - val_loss: 0.4930 - val_accuracy: 0.7615\n",
      "Epoch 28/50\n",
      "1063/1063 [==============================] - 2s 2ms/step - loss: 0.6198 - accuracy: 0.7641 - val_loss: 0.4932 - val_accuracy: 0.7632\n",
      "Epoch 29/50\n",
      "1063/1063 [==============================] - 2s 2ms/step - loss: 0.6179 - accuracy: 0.7642 - val_loss: 0.4906 - val_accuracy: 0.7633\n",
      "Epoch 30/50\n",
      "1063/1063 [==============================] - 2s 2ms/step - loss: 0.6212 - accuracy: 0.7649 - val_loss: 0.4937 - val_accuracy: 0.7623\n",
      "Epoch 31/50\n",
      "1063/1063 [==============================] - 2s 2ms/step - loss: 0.6207 - accuracy: 0.7651 - val_loss: 0.4922 - val_accuracy: 0.7628\n"
     ]
    },
    {
     "name": "stderr",
     "output_type": "stream",
     "text": [
      "\u001b[32m[I 2021-03-05 17:51:12,891]\u001b[0m Trial 49 finished with value: 0.8401336938155423 and parameters: {'step': 5, 'no._units': 307, 'number': 3, 'best_weight': {0: 1, 1: 1.6590440736555208}}. Best is trial 49 with value: 0.8401336938155423.\u001b[0m\n"
     ]
    }
   ],
   "source": [
    "# Extracting the best model parameters and best study score\n",
    "best_roc_auc = 0\n",
    "best_study_score,best_study_params = study_params_neural(X_train_1, y_train_1, X_val, y_val, objective_wrappper_keras_eq, \n",
    "                                                         cl_weight_neural)"
   ]
  },
  {
   "cell_type": "code",
   "execution_count": 65,
   "id": "geographic-northeast",
   "metadata": {},
   "outputs": [
    {
     "name": "stdout",
     "output_type": "stream",
     "text": [
      "The best roc_auc_score for the study is:  0.8401336938155423\n"
     ]
    }
   ],
   "source": [
    "print('The best roc_auc_score for the study is: ',best_study_score)"
   ]
  },
  {
   "cell_type": "code",
   "execution_count": 66,
   "id": "looking-basic",
   "metadata": {},
   "outputs": [
    {
     "name": "stdout",
     "output_type": "stream",
     "text": [
      "The best study parameters for the classifier are:  {'step': 5, 'no._units': 307, 'number': 3, 'best_weight': {0: 1, 1: 1.6590440736555208}}\n"
     ]
    }
   ],
   "source": [
    "print('The best study parameters for the classifier are: ',best_study_params)"
   ]
  },
  {
   "cell_type": "code",
   "execution_count": 67,
   "id": "directed-judge",
   "metadata": {},
   "outputs": [],
   "source": [
    "# loading the best Neural Network\n",
    "Best_Model = keras.models.load_model('Best_model_Selu_eq_Learn.h5')"
   ]
  },
  {
   "cell_type": "code",
   "execution_count": 68,
   "id": "instructional-bailey",
   "metadata": {},
   "outputs": [
    {
     "name": "stdout",
     "output_type": "stream",
     "text": [
      "Model: \"sequential_108\"\n",
      "_________________________________________________________________\n",
      "Layer (type)                 Output Shape              Param #   \n",
      "=================================================================\n",
      "batch_normalization_49 (Batc (None, 12)                48        \n",
      "_________________________________________________________________\n",
      "dense_449 (Dense)            (None, 307)               3991      \n",
      "_________________________________________________________________\n",
      "dense_450 (Dense)            (None, 307)               94556     \n",
      "_________________________________________________________________\n",
      "dense_451 (Dense)            (None, 307)               94556     \n",
      "_________________________________________________________________\n",
      "dense_452 (Dense)            (None, 1)                 308       \n",
      "=================================================================\n",
      "Total params: 193,459\n",
      "Trainable params: 193,435\n",
      "Non-trainable params: 24\n",
      "_________________________________________________________________\n"
     ]
    }
   ],
   "source": [
    "# Printing its summary\n",
    "Best_Model.summary()"
   ]
  },
  {
   "cell_type": "code",
   "execution_count": 69,
   "id": "fitting-terminology",
   "metadata": {},
   "outputs": [],
   "source": [
    "# Defining the function to calculate the roc_auc score for the feature sets\n",
    "def cal_roc_auc(X, y, cls, f_set, t_set, model_name):\n",
    "    ''' Calculates the roc auc score using the best study parameters \n",
    "        f_set : String: specifies 'full feature', 'Reduced feature'\n",
    "        t_set: String: specifies 'training', 'test'\n",
    "        model_name: String: specifies Name of the model '''\n",
    "        \n",
    "    y_pred = cls.predict_proba(X)\n",
    "    print('The roc_auc_score for the {} {} set using the tuned {} classifier is '.format(f_set,t_set,model_name),roc_auc_score(y,y_pred))"
   ]
  },
  {
   "cell_type": "code",
   "execution_count": 70,
   "id": "extreme-identification",
   "metadata": {},
   "outputs": [
    {
     "name": "stdout",
     "output_type": "stream",
     "text": [
      "The roc_auc_score for the  training set using the tuned Dense Neural Network classifier is  0.8472469409999039\n"
     ]
    }
   ],
   "source": [
    "# Calculating the training set roc_auc score using the pretrained Neural Network having \n",
    "#best study parameters & weights\n",
    "cal_roc_auc(X_train, y_train, Best_Model, '', 'training', 'Dense Neural Network')"
   ]
  },
  {
   "cell_type": "code",
   "execution_count": 71,
   "id": "thick-cotton",
   "metadata": {},
   "outputs": [
    {
     "name": "stdout",
     "output_type": "stream",
     "text": [
      "The roc_auc_score for the  test set using the tuned Dense Neural Network classifier is  0.8403678109740093\n"
     ]
    }
   ],
   "source": [
    "# Calculating the test set roc_auc score using the pretrained Neural Network having \n",
    "#best study parameters & weights\n",
    "cal_roc_auc(X_test, y_test, Best_Model, '', 'test', 'Dense Neural Network')"
   ]
  },
  {
   "cell_type": "markdown",
   "id": "fallen-figure",
   "metadata": {},
   "source": [
    "### Observations:\n",
    "### 1) From the above output, we can clearly see that the tuned Neural network also fitted the dataset very well, with no signs of overfitting.\n",
    "### 2) The Neural net test set roc_auc score is less than that of Random Forest, which may be due to relatively small size of dataset. Neural nets tend to perform well on larger datasets."
   ]
  },
  {
   "cell_type": "markdown",
   "id": "smoking-edwards",
   "metadata": {},
   "source": [
    "### Conclusion:\n",
    "### 1) Thus, thanks to higher test set roc_auc score & lower computational cost, the tuned Random Forest Classifier is the model of choice for this dataset."
   ]
  },
  {
   "cell_type": "code",
   "execution_count": null,
   "id": "extraordinary-cherry",
   "metadata": {},
   "outputs": [],
   "source": []
  }
 ],
 "metadata": {
  "kernelspec": {
   "display_name": "Python 3",
   "language": "python",
   "name": "python3"
  },
  "language_info": {
   "codemirror_mode": {
    "name": "ipython",
    "version": 3
   },
   "file_extension": ".py",
   "mimetype": "text/x-python",
   "name": "python",
   "nbconvert_exporter": "python",
   "pygments_lexer": "ipython3",
   "version": "3.8.5"
  }
 },
 "nbformat": 4,
 "nbformat_minor": 5
}
